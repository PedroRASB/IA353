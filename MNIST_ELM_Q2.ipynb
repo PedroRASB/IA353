{
 "cells": [
  {
   "cell_type": "code",
   "execution_count": 1,
   "metadata": {},
   "outputs": [],
   "source": [
    "import torch\n",
    "torch.set_default_tensor_type('torch.cuda.FloatTensor')"
   ]
  },
  {
   "cell_type": "markdown",
   "metadata": {},
   "source": [
    "# Loading MNIST:"
   ]
  },
  {
   "cell_type": "code",
   "execution_count": 2,
   "metadata": {},
   "outputs": [],
   "source": [
    "import torchvision as tv\n",
    "mnist_train=tv.datasets.MNIST(root='./Data',train=True,download=True)\n",
    "mnist_test=tv.datasets.MNIST(root='./Data',train=False,download=True)"
   ]
  },
  {
   "cell_type": "code",
   "execution_count": 3,
   "metadata": {},
   "outputs": [
    {
     "data": {
      "text/plain": [
       "Dataset MNIST\n",
       "    Number of datapoints: 60000\n",
       "    Split: train\n",
       "    Root Location: ./Data\n",
       "    Transforms (if any): None\n",
       "    Target Transforms (if any): None"
      ]
     },
     "execution_count": 3,
     "metadata": {},
     "output_type": "execute_result"
    }
   ],
   "source": [
    "mnist_train"
   ]
  },
  {
   "cell_type": "code",
   "execution_count": 4,
   "metadata": {},
   "outputs": [
    {
     "data": {
      "text/plain": [
       "(<PIL.Image.Image image mode=L size=28x28 at 0x7FEA9842C400>,\n",
       " tensor(0, device='cpu'))"
      ]
     },
     "execution_count": 4,
     "metadata": {},
     "output_type": "execute_result"
    }
   ],
   "source": [
    "mnist_train[1]"
   ]
  },
  {
   "cell_type": "code",
   "execution_count": 5,
   "metadata": {},
   "outputs": [
    {
     "name": "stdout",
     "output_type": "stream",
     "text": [
      "tensor(0, device='cpu')\n"
     ]
    }
   ],
   "source": [
    "from PIL import Image\n",
    "mnist_train[1][0].show()\n",
    "print(mnist_train[1][1])"
   ]
  },
  {
   "cell_type": "markdown",
   "metadata": {},
   "source": [
    "# Tranforming in tensors and grayscale from 0 to 1:"
   ]
  },
  {
   "cell_type": "code",
   "execution_count": 6,
   "metadata": {},
   "outputs": [],
   "source": [
    "import torchvision.transforms as transforms\n",
    "transform = transforms.Compose(\n",
    "    [transforms.Grayscale(num_output_channels=1),transforms.ToTensor()])"
   ]
  },
  {
   "cell_type": "code",
   "execution_count": 7,
   "metadata": {},
   "outputs": [],
   "source": [
    "import torchvision as tv\n",
    "mnist_train=tv.datasets.MNIST(root='./Data',train=True,download=True,transform=transform)\n",
    "mnist_test=tv.datasets.MNIST(root='./Data',train=False,download=True,transform=transform)"
   ]
  },
  {
   "cell_type": "code",
   "execution_count": 8,
   "metadata": {
    "scrolled": true
   },
   "outputs": [
    {
     "data": {
      "text/plain": [
       "Dataset MNIST\n",
       "    Number of datapoints: 60000\n",
       "    Split: train\n",
       "    Root Location: ./Data\n",
       "    Transforms (if any): Compose(\n",
       "                             Grayscale(num_output_channels=1)\n",
       "                             ToTensor()\n",
       "                         )\n",
       "    Target Transforms (if any): None"
      ]
     },
     "execution_count": 8,
     "metadata": {},
     "output_type": "execute_result"
    }
   ],
   "source": [
    "mnist_train"
   ]
  },
  {
   "cell_type": "code",
   "execution_count": 9,
   "metadata": {
    "scrolled": true
   },
   "outputs": [
    {
     "data": {
      "text/plain": [
       "Dataset MNIST\n",
       "    Number of datapoints: 10000\n",
       "    Split: test\n",
       "    Root Location: ./Data\n",
       "    Transforms (if any): Compose(\n",
       "                             Grayscale(num_output_channels=1)\n",
       "                             ToTensor()\n",
       "                         )\n",
       "    Target Transforms (if any): None"
      ]
     },
     "execution_count": 9,
     "metadata": {},
     "output_type": "execute_result"
    }
   ],
   "source": [
    "mnist_test"
   ]
  },
  {
   "cell_type": "markdown",
   "metadata": {},
   "source": [
    "# Image 0:"
   ]
  },
  {
   "cell_type": "code",
   "execution_count": 10,
   "metadata": {},
   "outputs": [
    {
     "data": {
      "text/plain": [
       "tensor([[[0.0000, 0.0000, 0.0000, 0.0000, 0.0000, 0.0000, 0.0000, 0.0000,\n",
       "          0.0000, 0.0000, 0.0000, 0.0000, 0.0000, 0.0000, 0.0000, 0.0000,\n",
       "          0.0000, 0.0000, 0.0000, 0.0000, 0.0000, 0.0000, 0.0000, 0.0000,\n",
       "          0.0000, 0.0000, 0.0000, 0.0000],\n",
       "         [0.0000, 0.0000, 0.0000, 0.0000, 0.0000, 0.0000, 0.0000, 0.0000,\n",
       "          0.0000, 0.0000, 0.0000, 0.0000, 0.0000, 0.0000, 0.0000, 0.0000,\n",
       "          0.0000, 0.0000, 0.0000, 0.0000, 0.0000, 0.0000, 0.0000, 0.0000,\n",
       "          0.0000, 0.0000, 0.0000, 0.0000],\n",
       "         [0.0000, 0.0000, 0.0000, 0.0000, 0.0000, 0.0000, 0.0000, 0.0000,\n",
       "          0.0000, 0.0000, 0.0000, 0.0000, 0.0000, 0.0000, 0.0000, 0.0000,\n",
       "          0.0000, 0.0000, 0.0000, 0.0000, 0.0000, 0.0000, 0.0000, 0.0000,\n",
       "          0.0000, 0.0000, 0.0000, 0.0000],\n",
       "         [0.0000, 0.0000, 0.0000, 0.0000, 0.0000, 0.0000, 0.0000, 0.0000,\n",
       "          0.0000, 0.0000, 0.0000, 0.0000, 0.0000, 0.0000, 0.0000, 0.0000,\n",
       "          0.0000, 0.0000, 0.0000, 0.0000, 0.0000, 0.0000, 0.0000, 0.0000,\n",
       "          0.0000, 0.0000, 0.0000, 0.0000],\n",
       "         [0.0000, 0.0000, 0.0000, 0.0000, 0.0000, 0.0000, 0.0000, 0.0000,\n",
       "          0.0000, 0.0000, 0.0000, 0.0000, 0.0000, 0.0000, 0.0000, 0.0000,\n",
       "          0.0000, 0.0000, 0.0000, 0.0000, 0.0000, 0.0000, 0.0000, 0.0000,\n",
       "          0.0000, 0.0000, 0.0000, 0.0000],\n",
       "         [0.0000, 0.0000, 0.0000, 0.0000, 0.0000, 0.0000, 0.0000, 0.0000,\n",
       "          0.0000, 0.0000, 0.0000, 0.0000, 0.0118, 0.0706, 0.0706, 0.0706,\n",
       "          0.4941, 0.5333, 0.6863, 0.1020, 0.6510, 1.0000, 0.9686, 0.4980,\n",
       "          0.0000, 0.0000, 0.0000, 0.0000],\n",
       "         [0.0000, 0.0000, 0.0000, 0.0000, 0.0000, 0.0000, 0.0000, 0.0000,\n",
       "          0.1176, 0.1412, 0.3686, 0.6039, 0.6667, 0.9922, 0.9922, 0.9922,\n",
       "          0.9922, 0.9922, 0.8824, 0.6745, 0.9922, 0.9490, 0.7647, 0.2510,\n",
       "          0.0000, 0.0000, 0.0000, 0.0000],\n",
       "         [0.0000, 0.0000, 0.0000, 0.0000, 0.0000, 0.0000, 0.0000, 0.1922,\n",
       "          0.9333, 0.9922, 0.9922, 0.9922, 0.9922, 0.9922, 0.9922, 0.9922,\n",
       "          0.9922, 0.9843, 0.3647, 0.3216, 0.3216, 0.2196, 0.1529, 0.0000,\n",
       "          0.0000, 0.0000, 0.0000, 0.0000],\n",
       "         [0.0000, 0.0000, 0.0000, 0.0000, 0.0000, 0.0000, 0.0000, 0.0706,\n",
       "          0.8588, 0.9922, 0.9922, 0.9922, 0.9922, 0.9922, 0.7765, 0.7137,\n",
       "          0.9686, 0.9451, 0.0000, 0.0000, 0.0000, 0.0000, 0.0000, 0.0000,\n",
       "          0.0000, 0.0000, 0.0000, 0.0000],\n",
       "         [0.0000, 0.0000, 0.0000, 0.0000, 0.0000, 0.0000, 0.0000, 0.0000,\n",
       "          0.3137, 0.6118, 0.4196, 0.9922, 0.9922, 0.8039, 0.0431, 0.0000,\n",
       "          0.1686, 0.6039, 0.0000, 0.0000, 0.0000, 0.0000, 0.0000, 0.0000,\n",
       "          0.0000, 0.0000, 0.0000, 0.0000],\n",
       "         [0.0000, 0.0000, 0.0000, 0.0000, 0.0000, 0.0000, 0.0000, 0.0000,\n",
       "          0.0000, 0.0549, 0.0039, 0.6039, 0.9922, 0.3529, 0.0000, 0.0000,\n",
       "          0.0000, 0.0000, 0.0000, 0.0000, 0.0000, 0.0000, 0.0000, 0.0000,\n",
       "          0.0000, 0.0000, 0.0000, 0.0000],\n",
       "         [0.0000, 0.0000, 0.0000, 0.0000, 0.0000, 0.0000, 0.0000, 0.0000,\n",
       "          0.0000, 0.0000, 0.0000, 0.5451, 0.9922, 0.7451, 0.0078, 0.0000,\n",
       "          0.0000, 0.0000, 0.0000, 0.0000, 0.0000, 0.0000, 0.0000, 0.0000,\n",
       "          0.0000, 0.0000, 0.0000, 0.0000],\n",
       "         [0.0000, 0.0000, 0.0000, 0.0000, 0.0000, 0.0000, 0.0000, 0.0000,\n",
       "          0.0000, 0.0000, 0.0000, 0.0431, 0.7451, 0.9922, 0.2745, 0.0000,\n",
       "          0.0000, 0.0000, 0.0000, 0.0000, 0.0000, 0.0000, 0.0000, 0.0000,\n",
       "          0.0000, 0.0000, 0.0000, 0.0000],\n",
       "         [0.0000, 0.0000, 0.0000, 0.0000, 0.0000, 0.0000, 0.0000, 0.0000,\n",
       "          0.0000, 0.0000, 0.0000, 0.0000, 0.1373, 0.9451, 0.8824, 0.6275,\n",
       "          0.4235, 0.0039, 0.0000, 0.0000, 0.0000, 0.0000, 0.0000, 0.0000,\n",
       "          0.0000, 0.0000, 0.0000, 0.0000],\n",
       "         [0.0000, 0.0000, 0.0000, 0.0000, 0.0000, 0.0000, 0.0000, 0.0000,\n",
       "          0.0000, 0.0000, 0.0000, 0.0000, 0.0000, 0.3176, 0.9412, 0.9922,\n",
       "          0.9922, 0.4667, 0.0980, 0.0000, 0.0000, 0.0000, 0.0000, 0.0000,\n",
       "          0.0000, 0.0000, 0.0000, 0.0000],\n",
       "         [0.0000, 0.0000, 0.0000, 0.0000, 0.0000, 0.0000, 0.0000, 0.0000,\n",
       "          0.0000, 0.0000, 0.0000, 0.0000, 0.0000, 0.0000, 0.1765, 0.7294,\n",
       "          0.9922, 0.9922, 0.5882, 0.1059, 0.0000, 0.0000, 0.0000, 0.0000,\n",
       "          0.0000, 0.0000, 0.0000, 0.0000],\n",
       "         [0.0000, 0.0000, 0.0000, 0.0000, 0.0000, 0.0000, 0.0000, 0.0000,\n",
       "          0.0000, 0.0000, 0.0000, 0.0000, 0.0000, 0.0000, 0.0000, 0.0627,\n",
       "          0.3647, 0.9882, 0.9922, 0.7333, 0.0000, 0.0000, 0.0000, 0.0000,\n",
       "          0.0000, 0.0000, 0.0000, 0.0000],\n",
       "         [0.0000, 0.0000, 0.0000, 0.0000, 0.0000, 0.0000, 0.0000, 0.0000,\n",
       "          0.0000, 0.0000, 0.0000, 0.0000, 0.0000, 0.0000, 0.0000, 0.0000,\n",
       "          0.0000, 0.9765, 0.9922, 0.9765, 0.2510, 0.0000, 0.0000, 0.0000,\n",
       "          0.0000, 0.0000, 0.0000, 0.0000],\n",
       "         [0.0000, 0.0000, 0.0000, 0.0000, 0.0000, 0.0000, 0.0000, 0.0000,\n",
       "          0.0000, 0.0000, 0.0000, 0.0000, 0.0000, 0.0000, 0.1804, 0.5098,\n",
       "          0.7176, 0.9922, 0.9922, 0.8118, 0.0078, 0.0000, 0.0000, 0.0000,\n",
       "          0.0000, 0.0000, 0.0000, 0.0000],\n",
       "         [0.0000, 0.0000, 0.0000, 0.0000, 0.0000, 0.0000, 0.0000, 0.0000,\n",
       "          0.0000, 0.0000, 0.0000, 0.0000, 0.1529, 0.5804, 0.8980, 0.9922,\n",
       "          0.9922, 0.9922, 0.9804, 0.7137, 0.0000, 0.0000, 0.0000, 0.0000,\n",
       "          0.0000, 0.0000, 0.0000, 0.0000],\n",
       "         [0.0000, 0.0000, 0.0000, 0.0000, 0.0000, 0.0000, 0.0000, 0.0000,\n",
       "          0.0000, 0.0000, 0.0941, 0.4471, 0.8667, 0.9922, 0.9922, 0.9922,\n",
       "          0.9922, 0.7882, 0.3059, 0.0000, 0.0000, 0.0000, 0.0000, 0.0000,\n",
       "          0.0000, 0.0000, 0.0000, 0.0000],\n",
       "         [0.0000, 0.0000, 0.0000, 0.0000, 0.0000, 0.0000, 0.0000, 0.0000,\n",
       "          0.0902, 0.2588, 0.8353, 0.9922, 0.9922, 0.9922, 0.9922, 0.7765,\n",
       "          0.3176, 0.0078, 0.0000, 0.0000, 0.0000, 0.0000, 0.0000, 0.0000,\n",
       "          0.0000, 0.0000, 0.0000, 0.0000],\n",
       "         [0.0000, 0.0000, 0.0000, 0.0000, 0.0000, 0.0000, 0.0706, 0.6706,\n",
       "          0.8588, 0.9922, 0.9922, 0.9922, 0.9922, 0.7647, 0.3137, 0.0353,\n",
       "          0.0000, 0.0000, 0.0000, 0.0000, 0.0000, 0.0000, 0.0000, 0.0000,\n",
       "          0.0000, 0.0000, 0.0000, 0.0000],\n",
       "         [0.0000, 0.0000, 0.0000, 0.0000, 0.2157, 0.6745, 0.8863, 0.9922,\n",
       "          0.9922, 0.9922, 0.9922, 0.9569, 0.5216, 0.0431, 0.0000, 0.0000,\n",
       "          0.0000, 0.0000, 0.0000, 0.0000, 0.0000, 0.0000, 0.0000, 0.0000,\n",
       "          0.0000, 0.0000, 0.0000, 0.0000],\n",
       "         [0.0000, 0.0000, 0.0000, 0.0000, 0.5333, 0.9922, 0.9922, 0.9922,\n",
       "          0.8314, 0.5294, 0.5176, 0.0627, 0.0000, 0.0000, 0.0000, 0.0000,\n",
       "          0.0000, 0.0000, 0.0000, 0.0000, 0.0000, 0.0000, 0.0000, 0.0000,\n",
       "          0.0000, 0.0000, 0.0000, 0.0000],\n",
       "         [0.0000, 0.0000, 0.0000, 0.0000, 0.0000, 0.0000, 0.0000, 0.0000,\n",
       "          0.0000, 0.0000, 0.0000, 0.0000, 0.0000, 0.0000, 0.0000, 0.0000,\n",
       "          0.0000, 0.0000, 0.0000, 0.0000, 0.0000, 0.0000, 0.0000, 0.0000,\n",
       "          0.0000, 0.0000, 0.0000, 0.0000],\n",
       "         [0.0000, 0.0000, 0.0000, 0.0000, 0.0000, 0.0000, 0.0000, 0.0000,\n",
       "          0.0000, 0.0000, 0.0000, 0.0000, 0.0000, 0.0000, 0.0000, 0.0000,\n",
       "          0.0000, 0.0000, 0.0000, 0.0000, 0.0000, 0.0000, 0.0000, 0.0000,\n",
       "          0.0000, 0.0000, 0.0000, 0.0000],\n",
       "         [0.0000, 0.0000, 0.0000, 0.0000, 0.0000, 0.0000, 0.0000, 0.0000,\n",
       "          0.0000, 0.0000, 0.0000, 0.0000, 0.0000, 0.0000, 0.0000, 0.0000,\n",
       "          0.0000, 0.0000, 0.0000, 0.0000, 0.0000, 0.0000, 0.0000, 0.0000,\n",
       "          0.0000, 0.0000, 0.0000, 0.0000]]], device='cpu')"
      ]
     },
     "execution_count": 10,
     "metadata": {},
     "output_type": "execute_result"
    }
   ],
   "source": [
    "mnist_train[0][0]"
   ]
  },
  {
   "cell_type": "code",
   "execution_count": 11,
   "metadata": {},
   "outputs": [
    {
     "data": {
      "text/plain": [
       "torch.Size([1, 28, 28])"
      ]
     },
     "execution_count": 11,
     "metadata": {},
     "output_type": "execute_result"
    }
   ],
   "source": [
    "mnist_train[0][0].size()"
   ]
  },
  {
   "cell_type": "code",
   "execution_count": 12,
   "metadata": {},
   "outputs": [
    {
     "data": {
      "text/plain": [
       "Dataset MNIST\n",
       "    Number of datapoints: 60000\n",
       "    Split: train\n",
       "    Root Location: ./Data\n",
       "    Transforms (if any): Compose(\n",
       "                             Grayscale(num_output_channels=1)\n",
       "                             ToTensor()\n",
       "                         )\n",
       "    Target Transforms (if any): None"
      ]
     },
     "execution_count": 12,
     "metadata": {},
     "output_type": "execute_result"
    }
   ],
   "source": [
    "mnist_train"
   ]
  },
  {
   "cell_type": "code",
   "execution_count": 13,
   "metadata": {},
   "outputs": [
    {
     "data": {
      "image/png": "[encoded data removed]",
      "text/plain": [
       "<PIL.Image.Image image mode=L size=28x28 at 0x7FEA98458278>"
      ]
     },
     "execution_count": 13,
     "metadata": {},
     "output_type": "execute_result"
    }
   ],
   "source": [
    "to_pil = tv.transforms.ToPILImage()\n",
    "img = to_pil(mnist_train[0][0])\n",
    "img"
   ]
  },
  {
   "cell_type": "markdown",
   "metadata": {},
   "source": [
    "Label:"
   ]
  },
  {
   "cell_type": "code",
   "execution_count": 14,
   "metadata": {},
   "outputs": [
    {
     "data": {
      "text/plain": [
       "tensor(5)"
      ]
     },
     "execution_count": 14,
     "metadata": {},
     "output_type": "execute_result"
    }
   ],
   "source": [
    "mnist_train[0][1].cuda()"
   ]
  },
  {
   "cell_type": "markdown",
   "metadata": {},
   "source": [
    "28x28 images"
   ]
  },
  {
   "cell_type": "markdown",
   "metadata": {},
   "source": [
    "# X matrix creation"
   ]
  },
  {
   "cell_type": "code",
   "execution_count": 15,
   "metadata": {},
   "outputs": [],
   "source": [
    "X=[]\n",
    "temp=[]\n",
    "temp2=[1]\n",
    "temp2=torch.FloatTensor(temp2)\n",
    "for i in list(range(60000)):\n",
    "    temp=mnist_train[i][0]\n",
    "    temp=temp.view(-1,784)\n",
    "    temp=torch.squeeze(temp)\n",
    "    #temp=torch.cat((temp2,temp))#add bias col\n",
    "    X.append(temp)\n",
    "X=torch.stack(X)"
   ]
  },
  {
   "cell_type": "code",
   "execution_count": 37,
   "metadata": {},
   "outputs": [
    {
     "data": {
      "text/plain": [
       "tensor([[0., 0., 0.,  ..., 0., 0., 0.],\n",
       "        [0., 0., 0.,  ..., 0., 0., 0.],\n",
       "        [0., 0., 0.,  ..., 0., 0., 0.],\n",
       "        ...,\n",
       "        [0., 0., 0.,  ..., 0., 0., 0.],\n",
       "        [0., 0., 0.,  ..., 0., 0., 0.],\n",
       "        [0., 0., 0.,  ..., 0., 0., 0.]], device='cpu')"
      ]
     },
     "execution_count": 37,
     "metadata": {},
     "output_type": "execute_result"
    }
   ],
   "source": [
    "X"
   ]
  },
  {
   "cell_type": "code",
   "execution_count": 17,
   "metadata": {},
   "outputs": [
    {
     "data": {
      "text/plain": [
       "torch.Size([60000, 784])"
      ]
     },
     "execution_count": 17,
     "metadata": {},
     "output_type": "execute_result"
    }
   ],
   "source": [
    "X.size()"
   ]
  },
  {
   "cell_type": "markdown",
   "metadata": {},
   "source": [
    "# Y Matrix creation"
   ]
  },
  {
   "cell_type": "code",
   "execution_count": 18,
   "metadata": {},
   "outputs": [],
   "source": [
    "def OneHotOriginal(tensor):\n",
    "    #classes from 0 to 9\n",
    "    label=tensor.item()\n",
    "    if (label==0):\n",
    "        out=[1,0,0,0,0,0,0,0,0,0]\n",
    "        out=torch.FloatTensor(out)\n",
    "        return out\n",
    "    if (label==1):\n",
    "        out=[0,1,0,0,0,0,0,0,0,0]\n",
    "        out=torch.FloatTensor(out)\n",
    "        return out\n",
    "    if (label==2):\n",
    "        out=[0,0,1,0,0,0,0,0,0,0]\n",
    "        out=torch.FloatTensor(out)\n",
    "        return out\n",
    "    if (label==3):\n",
    "        out=[0,0,0,1,0,0,0,0,0,0]\n",
    "        out=torch.FloatTensor(out)\n",
    "        return out\n",
    "    if (label==4):\n",
    "        out=[0,0,0,0,1,0,0,0,0,0]\n",
    "        out=torch.FloatTensor(out)\n",
    "        return out\n",
    "    if (label==5):\n",
    "        out=[0,0,0,0,0,1,0,0,0,0]\n",
    "        out=torch.FloatTensor(out)\n",
    "        return out\n",
    "    if (label==6):\n",
    "        out=[0,0,0,0,0,0,1,0,0,0]\n",
    "        out=torch.FloatTensor(out)\n",
    "        return out\n",
    "    if (label==7):\n",
    "        out=[0,0,0,0,0,0,0,1,0,0]\n",
    "        out=torch.FloatTensor(out)\n",
    "        return out\n",
    "    if (label==8):\n",
    "        out=[0,0,0,0,0,0,0,0,1,0]\n",
    "        out=torch.FloatTensor(out)\n",
    "        return out\n",
    "    if (label==9):\n",
    "        out=[0,0,0,0,0,0,0,0,0,1]\n",
    "        out=torch.FloatTensor(out)\n",
    "        return out\n",
    "    else:\n",
    "        print('Error: label out of range')\n",
    "    "
   ]
  },
  {
   "cell_type": "code",
   "execution_count": 19,
   "metadata": {},
   "outputs": [],
   "source": [
    "def OneHot(tensor):\n",
    "    #classes from 0 to 9\n",
    "    label=tensor.item()\n",
    "    if (label==0):\n",
    "        out=[0,0,0,0,0,0,0,0,0,1]\n",
    "        out=torch.FloatTensor(out)\n",
    "        return out\n",
    "    if (label==1):\n",
    "        out=[1,0,0,0,0,0,0,0,0,0]\n",
    "        out=torch.FloatTensor(out)\n",
    "        return out\n",
    "    if (label==2):\n",
    "        out=[0,1,0,0,0,0,0,0,0,0]\n",
    "        out=torch.FloatTensor(out)\n",
    "        return out\n",
    "    if (label==3):\n",
    "        out=[0,0,1,0,0,0,0,0,0,0]\n",
    "        out=torch.FloatTensor(out)\n",
    "        return out\n",
    "    if (label==4):\n",
    "        out=[0,0,0,1,0,0,0,0,0,0]\n",
    "        out=torch.FloatTensor(out)\n",
    "        return out\n",
    "    if (label==5):\n",
    "        out=[0,0,0,0,1,0,0,0,0,0]\n",
    "        out=torch.FloatTensor(out)\n",
    "        return out\n",
    "    if (label==6):\n",
    "        out=[0,0,0,0,0,1,0,0,0,0]\n",
    "        out=torch.FloatTensor(out)\n",
    "        return out\n",
    "    if (label==7):\n",
    "        out=[0,0,0,0,0,0,1,0,0,0]\n",
    "        out=torch.FloatTensor(out)\n",
    "        return out\n",
    "    if (label==8):\n",
    "        out=[0,0,0,0,0,0,0,1,0,0]\n",
    "        out=torch.FloatTensor(out)\n",
    "        return out\n",
    "    if (label==9):\n",
    "        out=[0,0,0,0,0,0,0,0,1,0]\n",
    "        out=torch.FloatTensor(out)\n",
    "        return out\n",
    "    else:\n",
    "        print('Error: label out of range')\n",
    "    "
   ]
  },
  {
   "cell_type": "code",
   "execution_count": 20,
   "metadata": {},
   "outputs": [
    {
     "name": "stdout",
     "output_type": "stream",
     "text": [
      "tensor([0., 0., 0., 0., 1., 0., 0., 0., 0., 0.], device='cpu')\n"
     ]
    }
   ],
   "source": [
    "test=OneHot(mnist_train[0][1])\n",
    "print(test)"
   ]
  },
  {
   "cell_type": "code",
   "execution_count": 21,
   "metadata": {},
   "outputs": [
    {
     "data": {
      "text/plain": [
       "torch.Size([10])"
      ]
     },
     "execution_count": 21,
     "metadata": {},
     "output_type": "execute_result"
    }
   ],
   "source": [
    "test.size()"
   ]
  },
  {
   "cell_type": "code",
   "execution_count": 22,
   "metadata": {},
   "outputs": [],
   "source": [
    "Y=[]\n",
    "temp=[]\n",
    "for i in list(range(60000)):\n",
    "    temp=mnist_train[i][1]\n",
    "    temp=OneHot(temp)\n",
    "    Y.append(temp)\n",
    "Y=torch.stack(Y)"
   ]
  },
  {
   "cell_type": "code",
   "execution_count": 23,
   "metadata": {},
   "outputs": [
    {
     "data": {
      "text/plain": [
       "torch.Size([60000, 10])"
      ]
     },
     "execution_count": 23,
     "metadata": {},
     "output_type": "execute_result"
    }
   ],
   "source": [
    "Y.size()"
   ]
  },
  {
   "cell_type": "code",
   "execution_count": 24,
   "metadata": {
    "scrolled": true
   },
   "outputs": [
    {
     "data": {
      "text/plain": [
       "tensor([0., 0., 0., 0., 1., 0., 0., 0., 0., 0.], device='cpu')"
      ]
     },
     "execution_count": 24,
     "metadata": {},
     "output_type": "execute_result"
    }
   ],
   "source": [
    "Y[0]"
   ]
  },
  {
   "cell_type": "markdown",
   "metadata": {},
   "source": [
    "# Validation and training matrices"
   ]
  },
  {
   "cell_type": "code",
   "execution_count": 25,
   "metadata": {},
   "outputs": [],
   "source": [
    "rand=list(range(60000))\n",
    "import random as R\n",
    "R.shuffle(rand)"
   ]
  },
  {
   "cell_type": "code",
   "execution_count": 26,
   "metadata": {},
   "outputs": [],
   "source": [
    "TrainingIndexes=rand[:40000]\n",
    "ValidatingIndexes=rand[40000:]"
   ]
  },
  {
   "cell_type": "code",
   "execution_count": 27,
   "metadata": {},
   "outputs": [],
   "source": [
    "Xtrain=[]\n",
    "for i in TrainingIndexes:\n",
    "    Xtrain.append(X[i])\n",
    "Xtrain=torch.stack(Xtrain)\n",
    "\n",
    "Xval=[]\n",
    "for i in ValidatingIndexes:\n",
    "    Xval.append(X[i])\n",
    "Xval=torch.stack(Xval)\n",
    "\n",
    "Ytrain=[]\n",
    "for i in TrainingIndexes:\n",
    "    Ytrain.append(Y[i])\n",
    "Ytrain=torch.stack(Ytrain)\n",
    "\n",
    "Yval=[]\n",
    "for i in ValidatingIndexes:\n",
    "    Yval.append(Y[i])\n",
    "Yval=torch.stack(Yval)"
   ]
  },
  {
   "cell_type": "code",
   "execution_count": 28,
   "metadata": {},
   "outputs": [
    {
     "name": "stdout",
     "output_type": "stream",
     "text": [
      "torch.Size([40000, 784]) torch.Size([40000, 10]) torch.Size([20000, 784]) torch.Size([20000, 10])\n"
     ]
    }
   ],
   "source": [
    "print(Xtrain.size(),Ytrain.size(),Xval.size(),Yval.size())"
   ]
  },
  {
   "cell_type": "markdown",
   "metadata": {},
   "source": [
    "# Testing Matrices"
   ]
  },
  {
   "cell_type": "code",
   "execution_count": 78,
   "metadata": {},
   "outputs": [],
   "source": [
    "Xtest=[]\n",
    "temp=[]\n",
    "temp2=[1]\n",
    "temp2=torch.FloatTensor(temp2)\n",
    "for i in list(range(10000)):\n",
    "    temp=mnist_test[i][0]\n",
    "    temp=temp.view(-1,784)\n",
    "    temp=torch.squeeze(temp)\n",
    "    #temp=torch.cat((temp2,temp))#add bias col\n",
    "    Xtest.append(temp)\n",
    "Xtest=torch.stack(Xtest)"
   ]
  },
  {
   "cell_type": "code",
   "execution_count": 30,
   "metadata": {},
   "outputs": [
    {
     "data": {
      "text/plain": [
       "torch.Size([10000, 785])"
      ]
     },
     "execution_count": 30,
     "metadata": {},
     "output_type": "execute_result"
    }
   ],
   "source": [
    "Xtest.size()"
   ]
  },
  {
   "cell_type": "code",
   "execution_count": 31,
   "metadata": {},
   "outputs": [],
   "source": [
    "Ytest=[]\n",
    "temp=[]\n",
    "for i in list(range(10000)):\n",
    "    temp=mnist_test[i][1]\n",
    "    temp=OneHot(temp)\n",
    "    Ytest.append(temp)\n",
    "Ytest=torch.stack(Ytest)"
   ]
  },
  {
   "cell_type": "code",
   "execution_count": 32,
   "metadata": {},
   "outputs": [
    {
     "data": {
      "text/plain": [
       "torch.Size([10000, 10])"
      ]
     },
     "execution_count": 32,
     "metadata": {},
     "output_type": "execute_result"
    }
   ],
   "source": [
    "Ytest.size()"
   ]
  },
  {
   "cell_type": "markdown",
   "metadata": {},
   "source": [
    "# Network definition and training"
   ]
  },
  {
   "cell_type": "code",
   "execution_count": 63,
   "metadata": {},
   "outputs": [],
   "source": [
    "import torch\n",
    "import torch.nn as nn\n",
    "import torch.nn.functional as f\n",
    "class Network(nn.Module):\n",
    "    def __init__(self):\n",
    "        super(Network,self).__init__() #invoca o init de nn.Module\n",
    "        self.lin1=nn.Linear(784,500)\n",
    "        tensor=torch.empty(500,784)\n",
    "        tensor=nn.init.normal_(tensor, mean=0, std=0.2)\n",
    "        self.lin1.weight=nn.Parameter(tensor)\n",
    "        tensor=torch.empty(500)\n",
    "        tensor=nn.init.normal_(tensor, mean=0, std=0.2)\n",
    "        self.lin1.bias=nn.Parameter(tensor)\n",
    "        #self.lin2=nn.Linear(500,10)\n",
    "    def forward(self,x):\n",
    "        #x=x.view(-1,784)\n",
    "        x=f.relu(self.lin1(x))\n",
    "        #x=self.lin2(x)\n",
    "        return x\n",
    "    def num_flat_features(self, x): \n",
    "        size = x.size()[1:]  # all dimensions except the batch dimension\n",
    "        num_features = 1\n",
    "        for s in size:\n",
    "            num_features *= s\n",
    "        return num_features        "
   ]
  },
  {
   "cell_type": "code",
   "execution_count": 64,
   "metadata": {},
   "outputs": [
    {
     "name": "stdout",
     "output_type": "stream",
     "text": [
      "torch.Size([500])\n"
     ]
    }
   ],
   "source": [
    "net=Network()\n",
    "print(net.lin1.bias.size()) \n"
   ]
  },
  {
   "cell_type": "code",
   "execution_count": 67,
   "metadata": {},
   "outputs": [],
   "source": [
    "L=[pow(2,-10),pow(2,-8),pow(2,-6),pow(2,-4),pow(2,-2),pow(2,0),pow(2,2),pow(2,4),pow(2,6),pow(2,8),pow(2,10)]\n",
    "AllW=[]\n",
    "H=net(Xtrain.cuda())\n",
    "for l in L:\n",
    "    W=[]#weights\n",
    "    Ht=H.t()#transpose\n",
    "    W=torch.mm(Ht,H)# Ht*H\n",
    "    temp=torch.eye(500)*l \n",
    "    W=W.cuda()+temp # Ht*H+I*l\n",
    "    W=torch.inverse(W) # (Ht*H+I*l)^(-1)\n",
    "    W=torch.mm(W,Ht.cuda()) # ((Ht*H+I*l)^(-1))*Ht\n",
    "    W=torch.mm(W,Ytrain.cuda()) # ((Ht*H+I*l)^(-1))*Ht*y\n",
    "    AllW.append(W)"
   ]
  },
  {
   "cell_type": "code",
   "execution_count": 68,
   "metadata": {},
   "outputs": [
    {
     "data": {
      "text/plain": [
       "torch.Size([500, 10])"
      ]
     },
     "execution_count": 68,
     "metadata": {},
     "output_type": "execute_result"
    }
   ],
   "source": [
    "AllW[1].size()"
   ]
  },
  {
   "cell_type": "code",
   "execution_count": 70,
   "metadata": {},
   "outputs": [],
   "source": [
    "#AllW"
   ]
  },
  {
   "cell_type": "markdown",
   "metadata": {},
   "source": [
    "## Validation:"
   ]
  },
  {
   "cell_type": "code",
   "execution_count": 71,
   "metadata": {},
   "outputs": [],
   "source": [
    "def error(w,h,y):\n",
    "    w=w.cuda()\n",
    "    h=h.cuda()\n",
    "    y=y.cuda()\n",
    "    err=torch.mm(h.cuda(),w)\n",
    "    err=err-y\n",
    "    #print(err.size())\n",
    "    err=torch.norm(err)\n",
    "    #print(err.size())\n",
    "    err=err.item()\n",
    "    err=pow(err,2)\n",
    "    return err\n"
   ]
  },
  {
   "cell_type": "code",
   "execution_count": 72,
   "metadata": {},
   "outputs": [
    {
     "name": "stdout",
     "output_type": "stream",
     "text": [
      "5657.854612828756\n",
      "5657.854612828756\n",
      "5657.853465082357\n",
      "5657.853465082357\n",
      "5657.84543086082\n",
      "5657.815589516482\n",
      "5657.699668117799\n",
      "5657.288787972415\n",
      "5656.268538396398\n",
      "5658.640846464783\n",
      "5706.238716589811\n",
      "minimum error: 5656.268538396398 best regularization l: 256\n"
     ]
    }
   ],
   "source": [
    "errors=[]\n",
    "Hval=net(Xval.cuda())\n",
    "for weight in AllW:\n",
    "    err=error(weight,Hval,Yval)\n",
    "    print(err)\n",
    "    errors.append(err)\n",
    "import numpy as np\n",
    "from numpy import ndarray as nd\n",
    "errors=np.asarray(errors)\n",
    "minimumError=nd.min(errors)\n",
    "Bestl=pow(2,nd.argmin(errors))\n",
    "print('minimum error:', minimumError, 'best regularization l:',Bestl)"
   ]
  },
  {
   "cell_type": "markdown",
   "metadata": {},
   "source": [
    "# training with all training set and best regularization:"
   ]
  },
  {
   "cell_type": "code",
   "execution_count": 76,
   "metadata": {},
   "outputs": [],
   "source": [
    "W=[]#weights\n",
    "l=Bestl.item()\n",
    "H=net(X.cuda())\n",
    "Ht=H.t()#transpose\n",
    "W=torch.mm(Ht,H)# Ht*H\n",
    "temp=torch.eye(500)*l \n",
    "W=W.cuda()+temp # Ht*H+I*l\n",
    "W=torch.inverse(W) # (Ht*H+I*l)^(-1)\n",
    "W=torch.mm(W,Ht.cuda()) # ((Ht*H+I*l)^(-1))*Ht\n",
    "W=torch.mm(W,Y.cuda()) # ((Ht*H+I*l)^(-1))*Ht*y"
   ]
  },
  {
   "cell_type": "markdown",
   "metadata": {},
   "source": [
    "# Testing"
   ]
  },
  {
   "cell_type": "code",
   "execution_count": 79,
   "metadata": {},
   "outputs": [],
   "source": [
    "Htest=net(Xtest.cuda())\n",
    "TestingError=error(W,Htest,Ytest)"
   ]
  },
  {
   "cell_type": "code",
   "execution_count": 80,
   "metadata": {},
   "outputs": [
    {
     "name": "stdout",
     "output_type": "stream",
     "text": [
      "Testing Error: 2738.556053410808\n"
     ]
    }
   ],
   "source": [
    "print('Testing Error:',TestingError)"
   ]
  },
  {
   "cell_type": "markdown",
   "metadata": {},
   "source": [
    "# Accuracy"
   ]
  },
  {
   "cell_type": "code",
   "execution_count": 91,
   "metadata": {},
   "outputs": [],
   "source": [
    "def TensorToOneHot(y):\n",
    "    o=y.cpu()\n",
    "    o=o.detach().numpy()\n",
    "    maximum=nd.argmax(o)\n",
    "    maximum=OneHotOriginal(maximum)\n",
    "    maximum=maximum.cuda()\n",
    "    return maximum"
   ]
  },
  {
   "cell_type": "code",
   "execution_count": 92,
   "metadata": {},
   "outputs": [],
   "source": [
    "Out=torch.mm(Htest.cuda(),W)"
   ]
  },
  {
   "cell_type": "code",
   "execution_count": 93,
   "metadata": {},
   "outputs": [
    {
     "data": {
      "text/plain": [
       "torch.Size([10000, 10])"
      ]
     },
     "execution_count": 93,
     "metadata": {},
     "output_type": "execute_result"
    }
   ],
   "source": [
    "Out.size()"
   ]
  },
  {
   "cell_type": "code",
   "execution_count": 94,
   "metadata": {},
   "outputs": [],
   "source": [
    "def Accuracy(output,labels):\n",
    "    acc=0\n",
    "    j=0\n",
    "    for i in output:\n",
    "        temp=TensorToOneHot(i)\n",
    "        if (torch.min(temp.cuda()==labels[j].cuda()).item()==1):\n",
    "            acc=acc+1\n",
    "        j=j+1\n",
    "    acc=acc/j\n",
    "    return acc"
   ]
  },
  {
   "cell_type": "code",
   "execution_count": 95,
   "metadata": {},
   "outputs": [
    {
     "name": "stdout",
     "output_type": "stream",
     "text": [
      "test accuracy: 0.9204\n"
     ]
    }
   ],
   "source": [
    "acc=Accuracy(Out,Ytest)\n",
    "print('test accuracy:',acc)"
   ]
  },
  {
   "cell_type": "markdown",
   "metadata": {},
   "source": [
    "# best model by accuracy"
   ]
  },
  {
   "cell_type": "code",
   "execution_count": 96,
   "metadata": {},
   "outputs": [
    {
     "name": "stdout",
     "output_type": "stream",
     "text": [
      "0.91385\n",
      "0.91385\n",
      "0.91385\n",
      "0.91385\n",
      "0.91385\n",
      "0.9139\n",
      "0.91385\n",
      "0.9139\n",
      "0.9141\n",
      "0.9132\n",
      "0.9112\n",
      "maximum Accuracy: 0.9141 best regularization l by accuracy: 256\n"
     ]
    }
   ],
   "source": [
    "allAcc=[]\n",
    "Hval=net(Xval.cuda())\n",
    "for weight in AllW:\n",
    "    temp=torch.mm(Hval.cuda(),weight)\n",
    "    accu=Accuracy(temp,Yval)\n",
    "    print(accu)\n",
    "    allAcc.append(accu)\n",
    "allAcc=np.asarray(allAcc)\n",
    "maximumAcc=nd.max(allAcc)\n",
    "BestlByAcc=pow(2,nd.argmax(allAcc))\n",
    "print('maximum Accuracy:', maximumAcc, 'best regularization l by accuracy:',BestlByAcc)"
   ]
  },
  {
   "cell_type": "markdown",
   "metadata": {},
   "source": [
    "## training with all training set and best regularization by accuracy:"
   ]
  },
  {
   "cell_type": "code",
   "execution_count": 97,
   "metadata": {},
   "outputs": [],
   "source": [
    "W=[]#weights\n",
    "l=BestlByAcc.item()\n",
    "H=net(X.cuda())\n",
    "Ht=H.t()#transpose\n",
    "W=torch.mm(Ht,H)# Ht*H\n",
    "temp=torch.eye(500)*l \n",
    "W=W.cuda()+temp # Ht*H+I*l\n",
    "W=torch.inverse(W) # (Ht*H+I*l)^(-1)\n",
    "W=torch.mm(W,Ht.cuda()) # ((Ht*H+I*l)^(-1))*Ht\n",
    "W=torch.mm(W,Y.cuda()) # ((Ht*H+I*l)^(-1))*Ht*y"
   ]
  },
  {
   "cell_type": "markdown",
   "metadata": {},
   "source": [
    "## Testing"
   ]
  },
  {
   "cell_type": "code",
   "execution_count": 99,
   "metadata": {},
   "outputs": [
    {
     "name": "stdout",
     "output_type": "stream",
     "text": [
      "test accuracy with best model by accuracy: 0.9204\n"
     ]
    }
   ],
   "source": [
    "OutAcc=torch.mm(Htest.cuda(),W)\n",
    "accFinal=Accuracy(OutAcc,Ytest)\n",
    "print('test accuracy with best model by accuracy:',accFinal)"
   ]
  },
  {
   "cell_type": "markdown",
   "metadata": {},
   "source": [
    "# Saving Matrices"
   ]
  },
  {
   "cell_type": "code",
   "execution_count": 100,
   "metadata": {},
   "outputs": [
    {
     "data": {
      "text/plain": [
       "tensor([[ 0.0064, -0.0067,  0.0070,  ...,  0.0087, -0.0075, -0.0006],\n",
       "        [-0.0004,  0.0017,  0.0080,  ...,  0.0014, -0.0004,  0.0024],\n",
       "        [-0.0000, -0.0055,  0.0006,  ...,  0.0058,  0.0065,  0.0079],\n",
       "        ...,\n",
       "        [-0.0013,  0.0000,  0.0010,  ...,  0.0078, -0.0027, -0.0012],\n",
       "        [ 0.0021, -0.0328,  0.0225,  ..., -0.0077, -0.0273, -0.0129],\n",
       "        [ 0.0068, -0.0008, -0.0129,  ...,  0.0022, -0.0147, -0.0083]],\n",
       "       grad_fn=<MmBackward>)"
      ]
     },
     "execution_count": 100,
     "metadata": {},
     "output_type": "execute_result"
    }
   ],
   "source": [
    "W"
   ]
  },
  {
   "cell_type": "code",
   "execution_count": 102,
   "metadata": {},
   "outputs": [],
   "source": [
    "Wnp=W.cpu().detach().numpy()"
   ]
  },
  {
   "cell_type": "code",
   "execution_count": 103,
   "metadata": {},
   "outputs": [
    {
     "data": {
      "text/plain": [
       "array([[ 6.4156842e-03, -6.6856956e-03,  6.9937785e-03, ...,\n",
       "         8.7236408e-03, -7.4715600e-03, -5.5342272e-04],\n",
       "       [-4.3115026e-04,  1.6511790e-03,  8.0045611e-03, ...,\n",
       "         1.3823346e-03, -3.6500825e-04,  2.3695747e-03],\n",
       "       [-1.2725941e-05, -5.5474220e-03,  5.5694237e-04, ...,\n",
       "         5.7861125e-03,  6.4640585e-03,  7.8839846e-03],\n",
       "       ...,\n",
       "       [-1.3168629e-03,  1.2383331e-05,  9.9967688e-04, ...,\n",
       "         7.7972510e-03, -2.6588831e-03, -1.2381016e-03],\n",
       "       [ 2.0511120e-03, -3.2787897e-02,  2.2540061e-02, ...,\n",
       "        -7.6509058e-03, -2.7326835e-02, -1.2887942e-02],\n",
       "       [ 6.8202573e-03, -8.1374543e-04, -1.2945380e-02, ...,\n",
       "         2.2435894e-03, -1.4726050e-02, -8.3450750e-03]], dtype=float32)"
      ]
     },
     "execution_count": 103,
     "metadata": {},
     "output_type": "execute_result"
    }
   ],
   "source": [
    "Wnp"
   ]
  },
  {
   "cell_type": "code",
   "execution_count": 104,
   "metadata": {},
   "outputs": [],
   "source": [
    "Wnp=np.matrix(Wnp)"
   ]
  },
  {
   "cell_type": "code",
   "execution_count": 105,
   "metadata": {},
   "outputs": [
    {
     "data": {
      "text/plain": [
       "matrix([[ 6.4156842e-03, -6.6856956e-03,  6.9937785e-03, ...,\n",
       "          8.7236408e-03, -7.4715600e-03, -5.5342272e-04],\n",
       "        [-4.3115026e-04,  1.6511790e-03,  8.0045611e-03, ...,\n",
       "          1.3823346e-03, -3.6500825e-04,  2.3695747e-03],\n",
       "        [-1.2725941e-05, -5.5474220e-03,  5.5694237e-04, ...,\n",
       "          5.7861125e-03,  6.4640585e-03,  7.8839846e-03],\n",
       "        ...,\n",
       "        [-1.3168629e-03,  1.2383331e-05,  9.9967688e-04, ...,\n",
       "          7.7972510e-03, -2.6588831e-03, -1.2381016e-03],\n",
       "        [ 2.0511120e-03, -3.2787897e-02,  2.2540061e-02, ...,\n",
       "         -7.6509058e-03, -2.7326835e-02, -1.2887942e-02],\n",
       "        [ 6.8202573e-03, -8.1374543e-04, -1.2945380e-02, ...,\n",
       "          2.2435894e-03, -1.4726050e-02, -8.3450750e-03]], dtype=float32)"
      ]
     },
     "execution_count": 105,
     "metadata": {},
     "output_type": "execute_result"
    }
   ],
   "source": [
    "Wnp"
   ]
  },
  {
   "cell_type": "code",
   "execution_count": 106,
   "metadata": {},
   "outputs": [],
   "source": [
    "with open('MatrixQ2.txt','wb') as f:\n",
    "    for line in Wnp:\n",
    "        np.savetxt(f, line)"
   ]
  },
  {
   "cell_type": "code",
   "execution_count": 107,
   "metadata": {},
   "outputs": [],
   "source": [
    "#source: https://stackoverflow.com/questions/22118648/how-to-write-a-numpy-matrix-in-a-text-file-python"
   ]
  },
  {
   "cell_type": "markdown",
   "metadata": {},
   "source": [
    "# Graphs"
   ]
  },
  {
   "cell_type": "code",
   "execution_count": 108,
   "metadata": {},
   "outputs": [
    {
     "data": {
      "text/plain": [
       "array([5657.85461283, 5657.85461283, 5657.85346508, 5657.85346508,\n",
       "       5657.84543086, 5657.81558952, 5657.69966812, 5657.28878797,\n",
       "       5656.2685384 , 5658.64084646, 5706.23871659])"
      ]
     },
     "execution_count": 108,
     "metadata": {},
     "output_type": "execute_result"
    }
   ],
   "source": [
    "#minimum squared error\n",
    "errors\n"
   ]
  },
  {
   "cell_type": "code",
   "execution_count": 109,
   "metadata": {},
   "outputs": [],
   "source": [
    "import matplotlib.pyplot as plt\n",
    "def plotData(history):\n",
    "    epochs=range(len(history))\n",
    "    plt.plot(epochs,history,label='Validation Loss')\n"
   ]
  },
  {
   "cell_type": "code",
   "execution_count": 110,
   "metadata": {},
   "outputs": [
    {
     "data": {
      "image/png": "[encoded data removed]",
      "text/plain": [
       "<Figure size 432x288 with 1 Axes>"
      ]
     },
     "metadata": {},
     "output_type": "display_data"
    }
   ],
   "source": [
    "plotData(errors)"
   ]
  },
  {
   "cell_type": "code",
   "execution_count": 111,
   "metadata": {},
   "outputs": [
    {
     "data": {
      "image/png": "[encoded data removed]",
      "text/plain": [
       "<Figure size 432x288 with 1 Axes>"
      ]
     },
     "metadata": {},
     "output_type": "display_data"
    }
   ],
   "source": [
    "plotData(allAcc)"
   ]
  },
  {
   "cell_type": "code",
   "execution_count": 112,
   "metadata": {},
   "outputs": [
    {
     "data": {
      "image/png": "[encoded data removed]",
      "text/plain": [
       "<Figure size 432x288 with 1 Axes>"
      ]
     },
     "metadata": {},
     "output_type": "display_data"
    }
   ],
   "source": [
    "plotData(errors[6:])"
   ]
  },
  {
   "cell_type": "code",
   "execution_count": 118,
   "metadata": {},
   "outputs": [
    {
     "data": {
      "image/png": "[encoded data removed]",
      "text/plain": [
       "<Figure size 432x288 with 1 Axes>"
      ]
     },
     "metadata": {},
     "output_type": "display_data"
    }
   ],
   "source": [
    "plotData(allAcc[6:])"
   ]
  },
  {
   "cell_type": "code",
   "execution_count": null,
   "metadata": {},
   "outputs": [],
   "source": []
  }
 ],
 "metadata": {
  "kernelspec": {
   "display_name": "Python [conda env:NeuraisTorch]",
   "language": "python",
   "name": "conda-env-NeuraisTorch-py"
  },
  "language_info": {
   "codemirror_mode": {
    "name": "ipython",
    "version": 3
   },
   "file_extension": ".py",
   "mimetype": "text/x-python",
   "name": "python",
   "nbconvert_exporter": "python",
   "pygments_lexer": "ipython3",
   "version": "3.5.5"
  }
 },
 "nbformat": 4,
 "nbformat_minor": 2
}
