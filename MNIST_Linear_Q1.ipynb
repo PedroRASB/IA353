{
 "cells": [
  {
   "cell_type": "code",
   "execution_count": 1,
   "metadata": {},
   "outputs": [],
   "source": [
    "import torch\n",
    "torch.set_default_tensor_type('torch.cuda.FloatTensor')"
   ]
  },
  {
   "cell_type": "markdown",
   "metadata": {},
   "source": [
    "# Loading MNIST:"
   ]
  },
  {
   "cell_type": "code",
   "execution_count": 2,
   "metadata": {},
   "outputs": [],
   "source": [
    "import torchvision as tv\n",
    "mnist_train=tv.datasets.MNIST(root='./Data',train=True,download=True)\n",
    "mnist_test=tv.datasets.MNIST(root='./Data',train=False,download=True)"
   ]
  },
  {
   "cell_type": "code",
   "execution_count": 3,
   "metadata": {},
   "outputs": [
    {
     "data": {
      "text/plain": [
       "Dataset MNIST\n",
       "    Number of datapoints: 60000\n",
       "    Split: train\n",
       "    Root Location: ./Data\n",
       "    Transforms (if any): None\n",
       "    Target Transforms (if any): None"
      ]
     },
     "execution_count": 3,
     "metadata": {},
     "output_type": "execute_result"
    }
   ],
   "source": [
    "mnist_train"
   ]
  },
  {
   "cell_type": "code",
   "execution_count": 4,
   "metadata": {},
   "outputs": [
    {
     "data": {
      "text/plain": [
       "(<PIL.Image.Image image mode=L size=28x28 at 0x7FEBCE83A3C8>,\n",
       " tensor(0, device='cpu'))"
      ]
     },
     "execution_count": 4,
     "metadata": {},
     "output_type": "execute_result"
    }
   ],
   "source": [
    "mnist_train[1]"
   ]
  },
  {
   "cell_type": "code",
   "execution_count": 5,
   "metadata": {},
   "outputs": [
    {
     "name": "stdout",
     "output_type": "stream",
     "text": [
      "tensor(0, device='cpu')\n"
     ]
    }
   ],
   "source": [
    "from PIL import Image\n",
    "mnist_train[1][0].show()\n",
    "print(mnist_train[1][1])"
   ]
  },
  {
   "cell_type": "markdown",
   "metadata": {},
   "source": [
    "# Tranforming in tensors and grayscale from 0 to 1:"
   ]
  },
  {
   "cell_type": "code",
   "execution_count": 6,
   "metadata": {},
   "outputs": [],
   "source": [
    "import torchvision.transforms as transforms\n",
    "transform = transforms.Compose(\n",
    "    [transforms.Grayscale(num_output_channels=1),transforms.ToTensor()])"
   ]
  },
  {
   "cell_type": "code",
   "execution_count": 7,
   "metadata": {},
   "outputs": [],
   "source": [
    "import torchvision as tv\n",
    "mnist_train=tv.datasets.MNIST(root='./Data',train=True,download=True,transform=transform)\n",
    "mnist_test=tv.datasets.MNIST(root='./Data',train=False,download=True,transform=transform)"
   ]
  },
  {
   "cell_type": "code",
   "execution_count": 8,
   "metadata": {
    "scrolled": true
   },
   "outputs": [
    {
     "data": {
      "text/plain": [
       "Dataset MNIST\n",
       "    Number of datapoints: 60000\n",
       "    Split: train\n",
       "    Root Location: ./Data\n",
       "    Transforms (if any): Compose(\n",
       "                             Grayscale(num_output_channels=1)\n",
       "                             ToTensor()\n",
       "                         )\n",
       "    Target Transforms (if any): None"
      ]
     },
     "execution_count": 8,
     "metadata": {},
     "output_type": "execute_result"
    }
   ],
   "source": [
    "mnist_train"
   ]
  },
  {
   "cell_type": "code",
   "execution_count": 9,
   "metadata": {
    "scrolled": true
   },
   "outputs": [
    {
     "data": {
      "text/plain": [
       "Dataset MNIST\n",
       "    Number of datapoints: 10000\n",
       "    Split: test\n",
       "    Root Location: ./Data\n",
       "    Transforms (if any): Compose(\n",
       "                             Grayscale(num_output_channels=1)\n",
       "                             ToTensor()\n",
       "                         )\n",
       "    Target Transforms (if any): None"
      ]
     },
     "execution_count": 9,
     "metadata": {},
     "output_type": "execute_result"
    }
   ],
   "source": [
    "mnist_test"
   ]
  },
  {
   "cell_type": "markdown",
   "metadata": {},
   "source": [
    "# Image 0:"
   ]
  },
  {
   "cell_type": "code",
   "execution_count": 10,
   "metadata": {},
   "outputs": [
    {
     "data": {
      "text/plain": [
       "tensor([[[0.0000, 0.0000, 0.0000, 0.0000, 0.0000, 0.0000, 0.0000, 0.0000,\n",
       "          0.0000, 0.0000, 0.0000, 0.0000, 0.0000, 0.0000, 0.0000, 0.0000,\n",
       "          0.0000, 0.0000, 0.0000, 0.0000, 0.0000, 0.0000, 0.0000, 0.0000,\n",
       "          0.0000, 0.0000, 0.0000, 0.0000],\n",
       "         [0.0000, 0.0000, 0.0000, 0.0000, 0.0000, 0.0000, 0.0000, 0.0000,\n",
       "          0.0000, 0.0000, 0.0000, 0.0000, 0.0000, 0.0000, 0.0000, 0.0000,\n",
       "          0.0000, 0.0000, 0.0000, 0.0000, 0.0000, 0.0000, 0.0000, 0.0000,\n",
       "          0.0000, 0.0000, 0.0000, 0.0000],\n",
       "         [0.0000, 0.0000, 0.0000, 0.0000, 0.0000, 0.0000, 0.0000, 0.0000,\n",
       "          0.0000, 0.0000, 0.0000, 0.0000, 0.0000, 0.0000, 0.0000, 0.0000,\n",
       "          0.0000, 0.0000, 0.0000, 0.0000, 0.0000, 0.0000, 0.0000, 0.0000,\n",
       "          0.0000, 0.0000, 0.0000, 0.0000],\n",
       "         [0.0000, 0.0000, 0.0000, 0.0000, 0.0000, 0.0000, 0.0000, 0.0000,\n",
       "          0.0000, 0.0000, 0.0000, 0.0000, 0.0000, 0.0000, 0.0000, 0.0000,\n",
       "          0.0000, 0.0000, 0.0000, 0.0000, 0.0000, 0.0000, 0.0000, 0.0000,\n",
       "          0.0000, 0.0000, 0.0000, 0.0000],\n",
       "         [0.0000, 0.0000, 0.0000, 0.0000, 0.0000, 0.0000, 0.0000, 0.0000,\n",
       "          0.0000, 0.0000, 0.0000, 0.0000, 0.0000, 0.0000, 0.0000, 0.0000,\n",
       "          0.0000, 0.0000, 0.0000, 0.0000, 0.0000, 0.0000, 0.0000, 0.0000,\n",
       "          0.0000, 0.0000, 0.0000, 0.0000],\n",
       "         [0.0000, 0.0000, 0.0000, 0.0000, 0.0000, 0.0000, 0.0000, 0.0000,\n",
       "          0.0000, 0.0000, 0.0000, 0.0000, 0.0118, 0.0706, 0.0706, 0.0706,\n",
       "          0.4941, 0.5333, 0.6863, 0.1020, 0.6510, 1.0000, 0.9686, 0.4980,\n",
       "          0.0000, 0.0000, 0.0000, 0.0000],\n",
       "         [0.0000, 0.0000, 0.0000, 0.0000, 0.0000, 0.0000, 0.0000, 0.0000,\n",
       "          0.1176, 0.1412, 0.3686, 0.6039, 0.6667, 0.9922, 0.9922, 0.9922,\n",
       "          0.9922, 0.9922, 0.8824, 0.6745, 0.9922, 0.9490, 0.7647, 0.2510,\n",
       "          0.0000, 0.0000, 0.0000, 0.0000],\n",
       "         [0.0000, 0.0000, 0.0000, 0.0000, 0.0000, 0.0000, 0.0000, 0.1922,\n",
       "          0.9333, 0.9922, 0.9922, 0.9922, 0.9922, 0.9922, 0.9922, 0.9922,\n",
       "          0.9922, 0.9843, 0.3647, 0.3216, 0.3216, 0.2196, 0.1529, 0.0000,\n",
       "          0.0000, 0.0000, 0.0000, 0.0000],\n",
       "         [0.0000, 0.0000, 0.0000, 0.0000, 0.0000, 0.0000, 0.0000, 0.0706,\n",
       "          0.8588, 0.9922, 0.9922, 0.9922, 0.9922, 0.9922, 0.7765, 0.7137,\n",
       "          0.9686, 0.9451, 0.0000, 0.0000, 0.0000, 0.0000, 0.0000, 0.0000,\n",
       "          0.0000, 0.0000, 0.0000, 0.0000],\n",
       "         [0.0000, 0.0000, 0.0000, 0.0000, 0.0000, 0.0000, 0.0000, 0.0000,\n",
       "          0.3137, 0.6118, 0.4196, 0.9922, 0.9922, 0.8039, 0.0431, 0.0000,\n",
       "          0.1686, 0.6039, 0.0000, 0.0000, 0.0000, 0.0000, 0.0000, 0.0000,\n",
       "          0.0000, 0.0000, 0.0000, 0.0000],\n",
       "         [0.0000, 0.0000, 0.0000, 0.0000, 0.0000, 0.0000, 0.0000, 0.0000,\n",
       "          0.0000, 0.0549, 0.0039, 0.6039, 0.9922, 0.3529, 0.0000, 0.0000,\n",
       "          0.0000, 0.0000, 0.0000, 0.0000, 0.0000, 0.0000, 0.0000, 0.0000,\n",
       "          0.0000, 0.0000, 0.0000, 0.0000],\n",
       "         [0.0000, 0.0000, 0.0000, 0.0000, 0.0000, 0.0000, 0.0000, 0.0000,\n",
       "          0.0000, 0.0000, 0.0000, 0.5451, 0.9922, 0.7451, 0.0078, 0.0000,\n",
       "          0.0000, 0.0000, 0.0000, 0.0000, 0.0000, 0.0000, 0.0000, 0.0000,\n",
       "          0.0000, 0.0000, 0.0000, 0.0000],\n",
       "         [0.0000, 0.0000, 0.0000, 0.0000, 0.0000, 0.0000, 0.0000, 0.0000,\n",
       "          0.0000, 0.0000, 0.0000, 0.0431, 0.7451, 0.9922, 0.2745, 0.0000,\n",
       "          0.0000, 0.0000, 0.0000, 0.0000, 0.0000, 0.0000, 0.0000, 0.0000,\n",
       "          0.0000, 0.0000, 0.0000, 0.0000],\n",
       "         [0.0000, 0.0000, 0.0000, 0.0000, 0.0000, 0.0000, 0.0000, 0.0000,\n",
       "          0.0000, 0.0000, 0.0000, 0.0000, 0.1373, 0.9451, 0.8824, 0.6275,\n",
       "          0.4235, 0.0039, 0.0000, 0.0000, 0.0000, 0.0000, 0.0000, 0.0000,\n",
       "          0.0000, 0.0000, 0.0000, 0.0000],\n",
       "         [0.0000, 0.0000, 0.0000, 0.0000, 0.0000, 0.0000, 0.0000, 0.0000,\n",
       "          0.0000, 0.0000, 0.0000, 0.0000, 0.0000, 0.3176, 0.9412, 0.9922,\n",
       "          0.9922, 0.4667, 0.0980, 0.0000, 0.0000, 0.0000, 0.0000, 0.0000,\n",
       "          0.0000, 0.0000, 0.0000, 0.0000],\n",
       "         [0.0000, 0.0000, 0.0000, 0.0000, 0.0000, 0.0000, 0.0000, 0.0000,\n",
       "          0.0000, 0.0000, 0.0000, 0.0000, 0.0000, 0.0000, 0.1765, 0.7294,\n",
       "          0.9922, 0.9922, 0.5882, 0.1059, 0.0000, 0.0000, 0.0000, 0.0000,\n",
       "          0.0000, 0.0000, 0.0000, 0.0000],\n",
       "         [0.0000, 0.0000, 0.0000, 0.0000, 0.0000, 0.0000, 0.0000, 0.0000,\n",
       "          0.0000, 0.0000, 0.0000, 0.0000, 0.0000, 0.0000, 0.0000, 0.0627,\n",
       "          0.3647, 0.9882, 0.9922, 0.7333, 0.0000, 0.0000, 0.0000, 0.0000,\n",
       "          0.0000, 0.0000, 0.0000, 0.0000],\n",
       "         [0.0000, 0.0000, 0.0000, 0.0000, 0.0000, 0.0000, 0.0000, 0.0000,\n",
       "          0.0000, 0.0000, 0.0000, 0.0000, 0.0000, 0.0000, 0.0000, 0.0000,\n",
       "          0.0000, 0.9765, 0.9922, 0.9765, 0.2510, 0.0000, 0.0000, 0.0000,\n",
       "          0.0000, 0.0000, 0.0000, 0.0000],\n",
       "         [0.0000, 0.0000, 0.0000, 0.0000, 0.0000, 0.0000, 0.0000, 0.0000,\n",
       "          0.0000, 0.0000, 0.0000, 0.0000, 0.0000, 0.0000, 0.1804, 0.5098,\n",
       "          0.7176, 0.9922, 0.9922, 0.8118, 0.0078, 0.0000, 0.0000, 0.0000,\n",
       "          0.0000, 0.0000, 0.0000, 0.0000],\n",
       "         [0.0000, 0.0000, 0.0000, 0.0000, 0.0000, 0.0000, 0.0000, 0.0000,\n",
       "          0.0000, 0.0000, 0.0000, 0.0000, 0.1529, 0.5804, 0.8980, 0.9922,\n",
       "          0.9922, 0.9922, 0.9804, 0.7137, 0.0000, 0.0000, 0.0000, 0.0000,\n",
       "          0.0000, 0.0000, 0.0000, 0.0000],\n",
       "         [0.0000, 0.0000, 0.0000, 0.0000, 0.0000, 0.0000, 0.0000, 0.0000,\n",
       "          0.0000, 0.0000, 0.0941, 0.4471, 0.8667, 0.9922, 0.9922, 0.9922,\n",
       "          0.9922, 0.7882, 0.3059, 0.0000, 0.0000, 0.0000, 0.0000, 0.0000,\n",
       "          0.0000, 0.0000, 0.0000, 0.0000],\n",
       "         [0.0000, 0.0000, 0.0000, 0.0000, 0.0000, 0.0000, 0.0000, 0.0000,\n",
       "          0.0902, 0.2588, 0.8353, 0.9922, 0.9922, 0.9922, 0.9922, 0.7765,\n",
       "          0.3176, 0.0078, 0.0000, 0.0000, 0.0000, 0.0000, 0.0000, 0.0000,\n",
       "          0.0000, 0.0000, 0.0000, 0.0000],\n",
       "         [0.0000, 0.0000, 0.0000, 0.0000, 0.0000, 0.0000, 0.0706, 0.6706,\n",
       "          0.8588, 0.9922, 0.9922, 0.9922, 0.9922, 0.7647, 0.3137, 0.0353,\n",
       "          0.0000, 0.0000, 0.0000, 0.0000, 0.0000, 0.0000, 0.0000, 0.0000,\n",
       "          0.0000, 0.0000, 0.0000, 0.0000],\n",
       "         [0.0000, 0.0000, 0.0000, 0.0000, 0.2157, 0.6745, 0.8863, 0.9922,\n",
       "          0.9922, 0.9922, 0.9922, 0.9569, 0.5216, 0.0431, 0.0000, 0.0000,\n",
       "          0.0000, 0.0000, 0.0000, 0.0000, 0.0000, 0.0000, 0.0000, 0.0000,\n",
       "          0.0000, 0.0000, 0.0000, 0.0000],\n",
       "         [0.0000, 0.0000, 0.0000, 0.0000, 0.5333, 0.9922, 0.9922, 0.9922,\n",
       "          0.8314, 0.5294, 0.5176, 0.0627, 0.0000, 0.0000, 0.0000, 0.0000,\n",
       "          0.0000, 0.0000, 0.0000, 0.0000, 0.0000, 0.0000, 0.0000, 0.0000,\n",
       "          0.0000, 0.0000, 0.0000, 0.0000],\n",
       "         [0.0000, 0.0000, 0.0000, 0.0000, 0.0000, 0.0000, 0.0000, 0.0000,\n",
       "          0.0000, 0.0000, 0.0000, 0.0000, 0.0000, 0.0000, 0.0000, 0.0000,\n",
       "          0.0000, 0.0000, 0.0000, 0.0000, 0.0000, 0.0000, 0.0000, 0.0000,\n",
       "          0.0000, 0.0000, 0.0000, 0.0000],\n",
       "         [0.0000, 0.0000, 0.0000, 0.0000, 0.0000, 0.0000, 0.0000, 0.0000,\n",
       "          0.0000, 0.0000, 0.0000, 0.0000, 0.0000, 0.0000, 0.0000, 0.0000,\n",
       "          0.0000, 0.0000, 0.0000, 0.0000, 0.0000, 0.0000, 0.0000, 0.0000,\n",
       "          0.0000, 0.0000, 0.0000, 0.0000],\n",
       "         [0.0000, 0.0000, 0.0000, 0.0000, 0.0000, 0.0000, 0.0000, 0.0000,\n",
       "          0.0000, 0.0000, 0.0000, 0.0000, 0.0000, 0.0000, 0.0000, 0.0000,\n",
       "          0.0000, 0.0000, 0.0000, 0.0000, 0.0000, 0.0000, 0.0000, 0.0000,\n",
       "          0.0000, 0.0000, 0.0000, 0.0000]]], device='cpu')"
      ]
     },
     "execution_count": 10,
     "metadata": {},
     "output_type": "execute_result"
    }
   ],
   "source": [
    "mnist_train[0][0]"
   ]
  },
  {
   "cell_type": "code",
   "execution_count": 11,
   "metadata": {},
   "outputs": [
    {
     "data": {
      "text/plain": [
       "torch.Size([1, 28, 28])"
      ]
     },
     "execution_count": 11,
     "metadata": {},
     "output_type": "execute_result"
    }
   ],
   "source": [
    "mnist_train[0][0].size()"
   ]
  },
  {
   "cell_type": "code",
   "execution_count": 12,
   "metadata": {},
   "outputs": [
    {
     "data": {
      "text/plain": [
       "Dataset MNIST\n",
       "    Number of datapoints: 60000\n",
       "    Split: train\n",
       "    Root Location: ./Data\n",
       "    Transforms (if any): Compose(\n",
       "                             Grayscale(num_output_channels=1)\n",
       "                             ToTensor()\n",
       "                         )\n",
       "    Target Transforms (if any): None"
      ]
     },
     "execution_count": 12,
     "metadata": {},
     "output_type": "execute_result"
    }
   ],
   "source": [
    "mnist_train"
   ]
  },
  {
   "cell_type": "code",
   "execution_count": 13,
   "metadata": {},
   "outputs": [
    {
     "data": {
      "image/png": "[encoded data removed]",
      "text/plain": [
       "<PIL.Image.Image image mode=L size=28x28 at 0x7FEBCE8612E8>"
      ]
     },
     "execution_count": 13,
     "metadata": {},
     "output_type": "execute_result"
    }
   ],
   "source": [
    "to_pil = tv.transforms.ToPILImage()\n",
    "img = to_pil(mnist_train[0][0])\n",
    "img"
   ]
  },
  {
   "cell_type": "markdown",
   "metadata": {},
   "source": [
    "Label:"
   ]
  },
  {
   "cell_type": "code",
   "execution_count": 14,
   "metadata": {},
   "outputs": [
    {
     "data": {
      "text/plain": [
       "tensor(5)"
      ]
     },
     "execution_count": 14,
     "metadata": {},
     "output_type": "execute_result"
    }
   ],
   "source": [
    "mnist_train[0][1].cuda()"
   ]
  },
  {
   "cell_type": "markdown",
   "metadata": {},
   "source": [
    "28x28 images"
   ]
  },
  {
   "cell_type": "markdown",
   "metadata": {},
   "source": [
    "# X matrix creation"
   ]
  },
  {
   "cell_type": "code",
   "execution_count": 15,
   "metadata": {},
   "outputs": [],
   "source": [
    "X=[]\n",
    "temp=[]\n",
    "temp2=[1]\n",
    "temp2=torch.FloatTensor(temp2)\n",
    "for i in list(range(60000)):\n",
    "    temp=mnist_train[i][0]\n",
    "    temp=temp.view(-1,784)\n",
    "    temp=torch.squeeze(temp)\n",
    "    temp=torch.cat((temp2,temp))#add bias col\n",
    "    X.append(temp)\n",
    "X=torch.stack(X)"
   ]
  },
  {
   "cell_type": "code",
   "execution_count": 16,
   "metadata": {},
   "outputs": [
    {
     "data": {
      "text/plain": [
       "tensor([[1., 0., 0.,  ..., 0., 0., 0.],\n",
       "        [1., 0., 0.,  ..., 0., 0., 0.],\n",
       "        [1., 0., 0.,  ..., 0., 0., 0.],\n",
       "        ...,\n",
       "        [1., 0., 0.,  ..., 0., 0., 0.],\n",
       "        [1., 0., 0.,  ..., 0., 0., 0.],\n",
       "        [1., 0., 0.,  ..., 0., 0., 0.]], device='cpu')"
      ]
     },
     "execution_count": 16,
     "metadata": {},
     "output_type": "execute_result"
    }
   ],
   "source": [
    "X"
   ]
  },
  {
   "cell_type": "code",
   "execution_count": 17,
   "metadata": {},
   "outputs": [
    {
     "data": {
      "text/plain": [
       "torch.Size([60000, 785])"
      ]
     },
     "execution_count": 17,
     "metadata": {},
     "output_type": "execute_result"
    }
   ],
   "source": [
    "X.size()"
   ]
  },
  {
   "cell_type": "markdown",
   "metadata": {},
   "source": [
    "# Y Matrix creation"
   ]
  },
  {
   "cell_type": "code",
   "execution_count": 18,
   "metadata": {},
   "outputs": [],
   "source": [
    "def OneHotOriginal(tensor):\n",
    "    #classes from 0 to 9\n",
    "    label=tensor.item()\n",
    "    if (label==0):\n",
    "        out=[1,0,0,0,0,0,0,0,0,0]\n",
    "        out=torch.FloatTensor(out)\n",
    "        return out\n",
    "    if (label==1):\n",
    "        out=[0,1,0,0,0,0,0,0,0,0]\n",
    "        out=torch.FloatTensor(out)\n",
    "        return out\n",
    "    if (label==2):\n",
    "        out=[0,0,1,0,0,0,0,0,0,0]\n",
    "        out=torch.FloatTensor(out)\n",
    "        return out\n",
    "    if (label==3):\n",
    "        out=[0,0,0,1,0,0,0,0,0,0]\n",
    "        out=torch.FloatTensor(out)\n",
    "        return out\n",
    "    if (label==4):\n",
    "        out=[0,0,0,0,1,0,0,0,0,0]\n",
    "        out=torch.FloatTensor(out)\n",
    "        return out\n",
    "    if (label==5):\n",
    "        out=[0,0,0,0,0,1,0,0,0,0]\n",
    "        out=torch.FloatTensor(out)\n",
    "        return out\n",
    "    if (label==6):\n",
    "        out=[0,0,0,0,0,0,1,0,0,0]\n",
    "        out=torch.FloatTensor(out)\n",
    "        return out\n",
    "    if (label==7):\n",
    "        out=[0,0,0,0,0,0,0,1,0,0]\n",
    "        out=torch.FloatTensor(out)\n",
    "        return out\n",
    "    if (label==8):\n",
    "        out=[0,0,0,0,0,0,0,0,1,0]\n",
    "        out=torch.FloatTensor(out)\n",
    "        return out\n",
    "    if (label==9):\n",
    "        out=[0,0,0,0,0,0,0,0,0,1]\n",
    "        out=torch.FloatTensor(out)\n",
    "        return out\n",
    "    else:\n",
    "        print('Error: label out of range')\n",
    "    "
   ]
  },
  {
   "cell_type": "code",
   "execution_count": 19,
   "metadata": {},
   "outputs": [],
   "source": [
    "def OneHot(tensor):\n",
    "    #classes from 0 to 9\n",
    "    label=tensor.item()\n",
    "    if (label==0):\n",
    "        out=[0,0,0,0,0,0,0,0,0,1]\n",
    "        out=torch.FloatTensor(out)\n",
    "        return out\n",
    "    if (label==1):\n",
    "        out=[1,0,0,0,0,0,0,0,0,0]\n",
    "        out=torch.FloatTensor(out)\n",
    "        return out\n",
    "    if (label==2):\n",
    "        out=[0,1,0,0,0,0,0,0,0,0]\n",
    "        out=torch.FloatTensor(out)\n",
    "        return out\n",
    "    if (label==3):\n",
    "        out=[0,0,1,0,0,0,0,0,0,0]\n",
    "        out=torch.FloatTensor(out)\n",
    "        return out\n",
    "    if (label==4):\n",
    "        out=[0,0,0,1,0,0,0,0,0,0]\n",
    "        out=torch.FloatTensor(out)\n",
    "        return out\n",
    "    if (label==5):\n",
    "        out=[0,0,0,0,1,0,0,0,0,0]\n",
    "        out=torch.FloatTensor(out)\n",
    "        return out\n",
    "    if (label==6):\n",
    "        out=[0,0,0,0,0,1,0,0,0,0]\n",
    "        out=torch.FloatTensor(out)\n",
    "        return out\n",
    "    if (label==7):\n",
    "        out=[0,0,0,0,0,0,1,0,0,0]\n",
    "        out=torch.FloatTensor(out)\n",
    "        return out\n",
    "    if (label==8):\n",
    "        out=[0,0,0,0,0,0,0,1,0,0]\n",
    "        out=torch.FloatTensor(out)\n",
    "        return out\n",
    "    if (label==9):\n",
    "        out=[0,0,0,0,0,0,0,0,1,0]\n",
    "        out=torch.FloatTensor(out)\n",
    "        return out\n",
    "    else:\n",
    "        print('Error: label out of range')\n",
    "    "
   ]
  },
  {
   "cell_type": "code",
   "execution_count": 20,
   "metadata": {},
   "outputs": [
    {
     "name": "stdout",
     "output_type": "stream",
     "text": [
      "tensor([0., 0., 0., 0., 1., 0., 0., 0., 0., 0.], device='cpu')\n"
     ]
    }
   ],
   "source": [
    "test=OneHot(mnist_train[0][1])\n",
    "print(test)"
   ]
  },
  {
   "cell_type": "code",
   "execution_count": 21,
   "metadata": {},
   "outputs": [
    {
     "data": {
      "text/plain": [
       "torch.Size([10])"
      ]
     },
     "execution_count": 21,
     "metadata": {},
     "output_type": "execute_result"
    }
   ],
   "source": [
    "test.size()"
   ]
  },
  {
   "cell_type": "code",
   "execution_count": 22,
   "metadata": {},
   "outputs": [],
   "source": [
    "Y=[]\n",
    "temp=[]\n",
    "for i in list(range(60000)):\n",
    "    temp=mnist_train[i][1]\n",
    "    temp=OneHot(temp)\n",
    "    Y.append(temp)\n",
    "Y=torch.stack(Y)"
   ]
  },
  {
   "cell_type": "code",
   "execution_count": 23,
   "metadata": {},
   "outputs": [
    {
     "data": {
      "text/plain": [
       "torch.Size([60000, 10])"
      ]
     },
     "execution_count": 23,
     "metadata": {},
     "output_type": "execute_result"
    }
   ],
   "source": [
    "Y.size()"
   ]
  },
  {
   "cell_type": "code",
   "execution_count": 24,
   "metadata": {
    "scrolled": true
   },
   "outputs": [
    {
     "data": {
      "text/plain": [
       "tensor([0., 0., 0., 0., 1., 0., 0., 0., 0., 0.], device='cpu')"
      ]
     },
     "execution_count": 24,
     "metadata": {},
     "output_type": "execute_result"
    }
   ],
   "source": [
    "Y[0]"
   ]
  },
  {
   "cell_type": "markdown",
   "metadata": {},
   "source": [
    "# Validation and training matrices"
   ]
  },
  {
   "cell_type": "code",
   "execution_count": 25,
   "metadata": {},
   "outputs": [],
   "source": [
    "rand=list(range(60000))\n",
    "import random as R\n",
    "R.shuffle(rand)"
   ]
  },
  {
   "cell_type": "code",
   "execution_count": 26,
   "metadata": {},
   "outputs": [],
   "source": [
    "TrainingIndexes=rand[:40000]\n",
    "ValidatingIndexes=rand[40000:]"
   ]
  },
  {
   "cell_type": "code",
   "execution_count": 27,
   "metadata": {},
   "outputs": [],
   "source": [
    "Xtrain=[]\n",
    "for i in TrainingIndexes:\n",
    "    Xtrain.append(X[i])\n",
    "Xtrain=torch.stack(Xtrain)\n",
    "\n",
    "Xval=[]\n",
    "for i in ValidatingIndexes:\n",
    "    Xval.append(X[i])\n",
    "Xval=torch.stack(Xval)\n",
    "\n",
    "Ytrain=[]\n",
    "for i in TrainingIndexes:\n",
    "    Ytrain.append(Y[i])\n",
    "Ytrain=torch.stack(Ytrain)\n",
    "\n",
    "Yval=[]\n",
    "for i in ValidatingIndexes:\n",
    "    Yval.append(Y[i])\n",
    "Yval=torch.stack(Yval)"
   ]
  },
  {
   "cell_type": "code",
   "execution_count": 28,
   "metadata": {},
   "outputs": [
    {
     "name": "stdout",
     "output_type": "stream",
     "text": [
      "torch.Size([40000, 785]) torch.Size([40000, 10]) torch.Size([20000, 785]) torch.Size([20000, 10])\n"
     ]
    }
   ],
   "source": [
    "print(Xtrain.size(),Ytrain.size(),Xval.size(),Yval.size())"
   ]
  },
  {
   "cell_type": "markdown",
   "metadata": {},
   "source": [
    "# Testing Matrices"
   ]
  },
  {
   "cell_type": "code",
   "execution_count": 29,
   "metadata": {},
   "outputs": [],
   "source": [
    "Xtest=[]\n",
    "temp=[]\n",
    "temp2=[1]\n",
    "temp2=torch.FloatTensor(temp2)\n",
    "for i in list(range(10000)):\n",
    "    temp=mnist_test[i][0]\n",
    "    temp=temp.view(-1,784)\n",
    "    temp=torch.squeeze(temp)\n",
    "    temp=torch.cat((temp2,temp))#add bias col\n",
    "    Xtest.append(temp)\n",
    "Xtest=torch.stack(Xtest)"
   ]
  },
  {
   "cell_type": "code",
   "execution_count": 30,
   "metadata": {},
   "outputs": [
    {
     "data": {
      "text/plain": [
       "torch.Size([10000, 785])"
      ]
     },
     "execution_count": 30,
     "metadata": {},
     "output_type": "execute_result"
    }
   ],
   "source": [
    "Xtest.size()"
   ]
  },
  {
   "cell_type": "code",
   "execution_count": 31,
   "metadata": {},
   "outputs": [],
   "source": [
    "Ytest=[]\n",
    "temp=[]\n",
    "for i in list(range(10000)):\n",
    "    temp=mnist_test[i][1]\n",
    "    temp=OneHot(temp)\n",
    "    Ytest.append(temp)\n",
    "Ytest=torch.stack(Ytest)"
   ]
  },
  {
   "cell_type": "code",
   "execution_count": 32,
   "metadata": {},
   "outputs": [
    {
     "data": {
      "text/plain": [
       "torch.Size([10000, 10])"
      ]
     },
     "execution_count": 32,
     "metadata": {},
     "output_type": "execute_result"
    }
   ],
   "source": [
    "Ytest.size()"
   ]
  },
  {
   "cell_type": "markdown",
   "metadata": {},
   "source": [
    "# Regularization"
   ]
  },
  {
   "cell_type": "code",
   "execution_count": 33,
   "metadata": {},
   "outputs": [],
   "source": [
    "L=[pow(2,-10),pow(2,-8),pow(2,-6),pow(2,-4),pow(2,-2),pow(2,0),pow(2,2),pow(2,4),pow(2,6),pow(2,8),pow(2,10)]\n",
    "AllW=[]\n",
    "for l in L:\n",
    "    W=[]#weights\n",
    "    Xt=Xtrain.t()#transpose\n",
    "    W=torch.mm(Xtrain.t(),Xtrain)# Xt*X\n",
    "    temp=torch.eye(785)*l \n",
    "    W=W.cuda()+temp # Xt*X+I*l\n",
    "    W=torch.inverse(W) # (Xt*X+I*l)^(-1)\n",
    "    W=torch.mm(W,Xt.cuda()) # ((Xt*X+I*l)^(-1))*Xt\n",
    "    W=torch.mm(W,Ytrain.cuda()) # ((Xt*X+I*l)^(-1))*Xt*y\n",
    "    AllW.append(W)"
   ]
  },
  {
   "cell_type": "code",
   "execution_count": 34,
   "metadata": {},
   "outputs": [
    {
     "data": {
      "text/plain": [
       "torch.Size([785, 10])"
      ]
     },
     "execution_count": 34,
     "metadata": {},
     "output_type": "execute_result"
    }
   ],
   "source": [
    "AllW[1].size()"
   ]
  },
  {
   "cell_type": "code",
   "execution_count": 35,
   "metadata": {},
   "outputs": [],
   "source": [
    "#AllW"
   ]
  },
  {
   "cell_type": "markdown",
   "metadata": {},
   "source": [
    "## Validation:"
   ]
  },
  {
   "cell_type": "code",
   "execution_count": 36,
   "metadata": {},
   "outputs": [],
   "source": [
    "def error(w,x,y):\n",
    "    w=w.cuda()\n",
    "    x=x.cuda()\n",
    "    y=y.cuda()\n",
    "    err=torch.mm(x.cuda(),w)\n",
    "    err=err-y\n",
    "    #print(err.size())\n",
    "    err=torch.norm(err)\n",
    "    #print(err.size())\n",
    "    err=err.item()\n",
    "    err=pow(err,2)\n",
    "    return err\n"
   ]
  },
  {
   "cell_type": "code",
   "execution_count": 37,
   "metadata": {},
   "outputs": [
    {
     "name": "stdout",
     "output_type": "stream",
     "text": [
      "7964.892485403456\n",
      "7889.3379474116955\n",
      "7858.763252217381\n",
      "7842.178605338791\n",
      "7830.472970680334\n",
      "7820.504551709222\n",
      "7810.319975928927\n",
      "7799.923721251602\n",
      "7797.700317988696\n",
      "7835.762791552639\n",
      "8001.377023641544\n",
      "minimum error: 7797.700317988696 best regularization l: 64\n"
     ]
    }
   ],
   "source": [
    "errors=[]\n",
    "for weight in AllW:\n",
    "    err=error(weight,Xval,Yval)\n",
    "    print(err)\n",
    "    errors.append(err)\n",
    "import numpy as np\n",
    "from numpy import ndarray as nd\n",
    "errors=np.asarray(errors)\n",
    "minimumError=nd.min(errors)\n",
    "Bestl=L[nd.argmin(errors)]\n",
    "print('minimum error:', minimumError, 'best regularization l:',Bestl)"
   ]
  },
  {
   "cell_type": "code",
   "execution_count": 38,
   "metadata": {},
   "outputs": [],
   "source": [
    "randomW=torch.rand([785,10])"
   ]
  },
  {
   "cell_type": "code",
   "execution_count": 39,
   "metadata": {},
   "outputs": [
    {
     "data": {
      "text/plain": [
       "torch.Size([785, 10])"
      ]
     },
     "execution_count": 39,
     "metadata": {},
     "output_type": "execute_result"
    }
   ],
   "source": [
    "randomW.size()"
   ]
  },
  {
   "cell_type": "code",
   "execution_count": 40,
   "metadata": {},
   "outputs": [
    {
     "name": "stdout",
     "output_type": "stream",
     "text": [
      "580998673.1323853\n"
     ]
    }
   ],
   "source": [
    "err=error(randomW,Xval,Yval)\n",
    "print(err)"
   ]
  },
  {
   "cell_type": "markdown",
   "metadata": {},
   "source": [
    "# training with all training set and best regularization:"
   ]
  },
  {
   "cell_type": "code",
   "execution_count": 41,
   "metadata": {},
   "outputs": [],
   "source": [
    "W=[]#weights\n",
    "l=Bestl\n",
    "Xt=X.t()#transpose\n",
    "W=torch.mm(X.t(),X)# Xt*X\n",
    "temp=torch.eye(785)*l \n",
    "W=W.cuda()+temp # Xt*X+I*l\n",
    "W=torch.inverse(W) # (Xt*X+I*l)^(-1)\n",
    "W=torch.mm(W,Xt.cuda()) # ((Xt*X+I*l)^(-1))*Xt\n",
    "W=torch.mm(W,Y.cuda()) # ((Xt*X+I*l)^(-1))*Xt*y"
   ]
  },
  {
   "cell_type": "markdown",
   "metadata": {},
   "source": [
    "# Testing"
   ]
  },
  {
   "cell_type": "code",
   "execution_count": 42,
   "metadata": {},
   "outputs": [],
   "source": [
    "TestingError=error(W,Xtest,Ytest)"
   ]
  },
  {
   "cell_type": "code",
   "execution_count": 43,
   "metadata": {},
   "outputs": [
    {
     "name": "stdout",
     "output_type": "stream",
     "text": [
      "Testing Error: 3820.308863225451\n"
     ]
    }
   ],
   "source": [
    "print('Testing Error:',TestingError)"
   ]
  },
  {
   "cell_type": "markdown",
   "metadata": {},
   "source": [
    "# Accuracy"
   ]
  },
  {
   "cell_type": "code",
   "execution_count": 44,
   "metadata": {},
   "outputs": [],
   "source": [
    "def TensorToOneHot(y):\n",
    "    y=y.cpu()\n",
    "    y=y.numpy()\n",
    "    maximum=nd.argmax(y)\n",
    "    maximum=OneHotOriginal(maximum)\n",
    "    maximum=maximum.cuda()\n",
    "    return maximum"
   ]
  },
  {
   "cell_type": "code",
   "execution_count": 45,
   "metadata": {},
   "outputs": [],
   "source": [
    "Out=torch.mm(Xtest.cuda(),W)"
   ]
  },
  {
   "cell_type": "code",
   "execution_count": 46,
   "metadata": {},
   "outputs": [
    {
     "data": {
      "text/plain": [
       "torch.Size([10000, 10])"
      ]
     },
     "execution_count": 46,
     "metadata": {},
     "output_type": "execute_result"
    }
   ],
   "source": [
    "Out.size()"
   ]
  },
  {
   "cell_type": "code",
   "execution_count": 47,
   "metadata": {},
   "outputs": [],
   "source": [
    "def Accuracy(output,labels):\n",
    "    acc=0\n",
    "    j=0\n",
    "    for i in output:\n",
    "        temp=TensorToOneHot(i)\n",
    "        if (torch.min(temp.cuda()==labels[j].cuda()).item()==1):\n",
    "            acc=acc+1\n",
    "        j=j+1\n",
    "    acc=acc/j\n",
    "    return acc"
   ]
  },
  {
   "cell_type": "code",
   "execution_count": 48,
   "metadata": {},
   "outputs": [
    {
     "name": "stdout",
     "output_type": "stream",
     "text": [
      "test accuracy: 0.8615\n"
     ]
    }
   ],
   "source": [
    "acc=Accuracy(Out,Ytest)\n",
    "print('test accuracy:',acc)"
   ]
  },
  {
   "cell_type": "markdown",
   "metadata": {},
   "source": [
    "# best model by accuracy"
   ]
  },
  {
   "cell_type": "code",
   "execution_count": 49,
   "metadata": {},
   "outputs": [
    {
     "name": "stdout",
     "output_type": "stream",
     "text": [
      "0.84955\n",
      "0.84965\n",
      "0.84995\n",
      "0.85015\n",
      "0.8505\n",
      "0.8504\n",
      "0.85085\n",
      "0.85095\n",
      "0.85185\n",
      "0.8533\n",
      "0.85325\n",
      "maximum Accuracy: 0.8533 best regularization l by accuracy: 256\n"
     ]
    }
   ],
   "source": [
    "allAcc=[]\n",
    "for weight in AllW:\n",
    "    temp=torch.mm(Xval.cuda(),weight)\n",
    "    accu=Accuracy(temp,Yval)\n",
    "    print(accu)\n",
    "    allAcc.append(accu)\n",
    "allAcc=np.asarray(allAcc)\n",
    "maximumAcc=nd.max(allAcc)\n",
    "BestlByAcc=L[nd.argmax(allAcc)]\n",
    "print('maximum Accuracy:', maximumAcc, 'best regularization l by accuracy:',BestlByAcc)"
   ]
  },
  {
   "cell_type": "code",
   "execution_count": 50,
   "metadata": {},
   "outputs": [
    {
     "data": {
      "text/plain": [
       "[0.0009765625, 0.00390625, 0.015625, 0.0625, 0.25, 1, 4, 16, 64, 256, 1024]"
      ]
     },
     "execution_count": 50,
     "metadata": {},
     "output_type": "execute_result"
    }
   ],
   "source": [
    "L"
   ]
  },
  {
   "cell_type": "markdown",
   "metadata": {},
   "source": [
    "## training with all training set and best regularization by accuracy:"
   ]
  },
  {
   "cell_type": "code",
   "execution_count": 51,
   "metadata": {},
   "outputs": [],
   "source": [
    "W=[]#weights\n",
    "l=BestlByAcc\n",
    "Xt=X.t()#transpose\n",
    "W=torch.mm(X.t(),X)# Xt*X\n",
    "temp=torch.eye(785)*l \n",
    "W=W.cuda()+temp # Xt*X+I*l\n",
    "W=torch.inverse(W) # (Xt*X+I*l)^(-1)\n",
    "W=torch.mm(W,Xt.cuda()) # ((Xt*X+I*l)^(-1))*Xt\n",
    "W=torch.mm(W,Y.cuda()) # ((Xt*X+I*l)^(-1))*Xt*y"
   ]
  },
  {
   "cell_type": "markdown",
   "metadata": {},
   "source": [
    "## Testing"
   ]
  },
  {
   "cell_type": "code",
   "execution_count": 52,
   "metadata": {},
   "outputs": [
    {
     "name": "stdout",
     "output_type": "stream",
     "text": [
      "test accuracy with best model by accuracy: 0.8624\n"
     ]
    }
   ],
   "source": [
    "OutAcc=torch.mm(Xtest.cuda(),W)\n",
    "accFinal=Accuracy(OutAcc,Ytest)\n",
    "print('test accuracy with best model by accuracy:',accFinal)"
   ]
  },
  {
   "cell_type": "markdown",
   "metadata": {},
   "source": [
    "# Saving Matrices"
   ]
  },
  {
   "cell_type": "code",
   "execution_count": 53,
   "metadata": {},
   "outputs": [
    {
     "data": {
      "text/plain": [
       "tensor([[ 0.2224,  0.0468,  0.0200,  ..., -0.1139,  0.0430,  0.1396],\n",
       "        [ 0.0000,  0.0000,  0.0000,  ...,  0.0000,  0.0000,  0.0000],\n",
       "        [ 0.0000,  0.0000,  0.0000,  ...,  0.0000,  0.0000,  0.0000],\n",
       "        ...,\n",
       "        [ 0.0000,  0.0000,  0.0000,  ...,  0.0000,  0.0000,  0.0000],\n",
       "        [ 0.0000,  0.0000,  0.0000,  ...,  0.0000,  0.0000,  0.0000],\n",
       "        [ 0.0000,  0.0000,  0.0000,  ...,  0.0000,  0.0000,  0.0000]])"
      ]
     },
     "execution_count": 53,
     "metadata": {},
     "output_type": "execute_result"
    }
   ],
   "source": [
    "W"
   ]
  },
  {
   "cell_type": "code",
   "execution_count": 54,
   "metadata": {},
   "outputs": [],
   "source": [
    "Wnp=W.cpu().numpy()"
   ]
  },
  {
   "cell_type": "code",
   "execution_count": 55,
   "metadata": {},
   "outputs": [
    {
     "data": {
      "text/plain": [
       "array([[ 0.22237027,  0.0468033 ,  0.02004266, ..., -0.11394008,\n",
       "         0.04300839,  0.13964969],\n",
       "       [ 0.        ,  0.        ,  0.        , ...,  0.        ,\n",
       "         0.        ,  0.        ],\n",
       "       [ 0.        ,  0.        ,  0.        , ...,  0.        ,\n",
       "         0.        ,  0.        ],\n",
       "       ...,\n",
       "       [ 0.        ,  0.        ,  0.        , ...,  0.        ,\n",
       "         0.        ,  0.        ],\n",
       "       [ 0.        ,  0.        ,  0.        , ...,  0.        ,\n",
       "         0.        ,  0.        ],\n",
       "       [ 0.        ,  0.        ,  0.        , ...,  0.        ,\n",
       "         0.        ,  0.        ]], dtype=float32)"
      ]
     },
     "execution_count": 55,
     "metadata": {},
     "output_type": "execute_result"
    }
   ],
   "source": [
    "Wnp"
   ]
  },
  {
   "cell_type": "code",
   "execution_count": 56,
   "metadata": {},
   "outputs": [],
   "source": [
    "Wnp=np.matrix(Wnp)"
   ]
  },
  {
   "cell_type": "code",
   "execution_count": 57,
   "metadata": {},
   "outputs": [
    {
     "data": {
      "text/plain": [
       "matrix([[ 0.22237027,  0.0468033 ,  0.02004266, ..., -0.11394008,\n",
       "          0.04300839,  0.13964969],\n",
       "        [ 0.        ,  0.        ,  0.        , ...,  0.        ,\n",
       "          0.        ,  0.        ],\n",
       "        [ 0.        ,  0.        ,  0.        , ...,  0.        ,\n",
       "          0.        ,  0.        ],\n",
       "        ...,\n",
       "        [ 0.        ,  0.        ,  0.        , ...,  0.        ,\n",
       "          0.        ,  0.        ],\n",
       "        [ 0.        ,  0.        ,  0.        , ...,  0.        ,\n",
       "          0.        ,  0.        ],\n",
       "        [ 0.        ,  0.        ,  0.        , ...,  0.        ,\n",
       "          0.        ,  0.        ]], dtype=float32)"
      ]
     },
     "execution_count": 57,
     "metadata": {},
     "output_type": "execute_result"
    }
   ],
   "source": [
    "Wnp"
   ]
  },
  {
   "cell_type": "code",
   "execution_count": 58,
   "metadata": {},
   "outputs": [],
   "source": [
    "with open('n157007.txt','wb') as f:\n",
    "    for line in Wnp:\n",
    "        np.savetxt(f, line)"
   ]
  },
  {
   "cell_type": "code",
   "execution_count": 59,
   "metadata": {},
   "outputs": [],
   "source": [
    "#source: https://stackoverflow.com/questions/22118648/how-to-write-a-numpy-matrix-in-a-text-file-python"
   ]
  },
  {
   "cell_type": "markdown",
   "metadata": {},
   "source": [
    "# Graphs"
   ]
  },
  {
   "cell_type": "code",
   "execution_count": 60,
   "metadata": {},
   "outputs": [
    {
     "data": {
      "text/plain": [
       "array([7964.8924854 , 7889.33794741, 7858.76325222, 7842.17860534,\n",
       "       7830.47297068, 7820.50455171, 7810.31997593, 7799.92372125,\n",
       "       7797.70031799, 7835.76279155, 8001.37702364])"
      ]
     },
     "execution_count": 60,
     "metadata": {},
     "output_type": "execute_result"
    }
   ],
   "source": [
    "#minimum squared error\n",
    "errors\n"
   ]
  },
  {
   "cell_type": "code",
   "execution_count": 61,
   "metadata": {},
   "outputs": [],
   "source": [
    "import matplotlib.pyplot as plt\n",
    "def plotData(history):\n",
    "    epochs=range(len(history))\n",
    "    plt.plot(epochs,history,label='Validation Loss')\n"
   ]
  },
  {
   "cell_type": "code",
   "execution_count": 62,
   "metadata": {},
   "outputs": [
    {
     "data": {
      "image/png": "[encoded data removed]",
      "text/plain": [
       "<Figure size 432x288 with 1 Axes>"
      ]
     },
     "metadata": {},
     "output_type": "display_data"
    }
   ],
   "source": [
    "plotData(errors)"
   ]
  },
  {
   "cell_type": "code",
   "execution_count": 63,
   "metadata": {},
   "outputs": [
    {
     "data": {
      "image/png": "[encoded data removed]",
      "text/plain": [
       "<Figure size 432x288 with 1 Axes>"
      ]
     },
     "metadata": {},
     "output_type": "display_data"
    }
   ],
   "source": [
    "plotData(allAcc)"
   ]
  },
  {
   "cell_type": "code",
   "execution_count": 64,
   "metadata": {},
   "outputs": [
    {
     "data": {
      "image/png": "[encoded data removed]",
      "text/plain": [
       "<Figure size 432x288 with 1 Axes>"
      ]
     },
     "metadata": {},
     "output_type": "display_data"
    }
   ],
   "source": [
    "plotData(errors[6:])"
   ]
  },
  {
   "cell_type": "code",
   "execution_count": 65,
   "metadata": {},
   "outputs": [
    {
     "data": {
      "image/png": "[encoded data removed]",
      "text/plain": [
       "<Figure size 432x288 with 1 Axes>"
      ]
     },
     "metadata": {},
     "output_type": "display_data"
    }
   ],
   "source": [
    "plotData(allAcc[8:])"
   ]
  },
  {
   "cell_type": "code",
   "execution_count": 66,
   "metadata": {},
   "outputs": [
    {
     "data": {
      "text/plain": [
       "torch.Size([785, 10])"
      ]
     },
     "execution_count": 66,
     "metadata": {},
     "output_type": "execute_result"
    }
   ],
   "source": [
    "W.size()"
   ]
  },
  {
   "cell_type": "code",
   "execution_count": 67,
   "metadata": {},
   "outputs": [],
   "source": [
    "neurons=[]\n",
    "for i in list(range(10)):\n",
    "    temp=torch.squeeze(W[1:,[i]])\n",
    "    temp=temp.view([28,28,1])\n",
    "    mini=torch.min(temp)\n",
    "    maxi=torch.max(temp)\n",
    "    rang=maxi-mini\n",
    "    temp=(temp-mini)/(rang)\n",
    "    temp=temp*255\n",
    "    temp=temp.type('torch.ByteTensor')\n",
    "    neurons.append(temp)"
   ]
  },
  {
   "cell_type": "code",
   "execution_count": 68,
   "metadata": {},
   "outputs": [
    {
     "data": {
      "text/plain": [
       "torch.Size([28, 28, 1])"
      ]
     },
     "execution_count": 68,
     "metadata": {},
     "output_type": "execute_result"
    }
   ],
   "source": [
    "neurons[1].size()"
   ]
  },
  {
   "cell_type": "code",
   "execution_count": 69,
   "metadata": {},
   "outputs": [
    {
     "data": {
      "text/plain": [
       "tensor([[[ 67],\n",
       "         [ 67],\n",
       "         [ 67],\n",
       "         [ 67],\n",
       "         [ 67],\n",
       "         [ 67],\n",
       "         [ 67],\n",
       "         [ 67],\n",
       "         [ 67],\n",
       "         [ 67],\n",
       "         [ 67],\n",
       "         [ 67],\n",
       "         [ 67],\n",
       "         [ 67],\n",
       "         [ 68],\n",
       "         [ 67],\n",
       "         [ 67],\n",
       "         [ 67],\n",
       "         [ 67],\n",
       "         [ 67],\n",
       "         [ 67],\n",
       "         [ 67],\n",
       "         [ 67],\n",
       "         [ 67],\n",
       "         [ 67],\n",
       "         [ 67],\n",
       "         [ 67],\n",
       "         [ 67]],\n",
       "\n",
       "        [[ 67],\n",
       "         [ 67],\n",
       "         [ 67],\n",
       "         [ 67],\n",
       "         [ 67],\n",
       "         [ 67],\n",
       "         [ 66],\n",
       "         [ 65],\n",
       "         [ 67],\n",
       "         [ 70],\n",
       "         [ 68],\n",
       "         [ 67],\n",
       "         [ 69],\n",
       "         [ 64],\n",
       "         [ 66],\n",
       "         [ 68],\n",
       "         [ 68],\n",
       "         [ 68],\n",
       "         [ 68],\n",
       "         [ 65],\n",
       "         [ 66],\n",
       "         [ 69],\n",
       "         [ 68],\n",
       "         [ 67],\n",
       "         [ 67],\n",
       "         [ 67],\n",
       "         [ 67],\n",
       "         [ 67]],\n",
       "\n",
       "        [[ 67],\n",
       "         [ 67],\n",
       "         [ 67],\n",
       "         [ 67],\n",
       "         [ 67],\n",
       "         [ 68],\n",
       "         [ 72],\n",
       "         [ 72],\n",
       "         [ 79],\n",
       "         [ 86],\n",
       "         [ 83],\n",
       "         [ 68],\n",
       "         [ 60],\n",
       "         [ 58],\n",
       "         [ 55],\n",
       "         [ 51],\n",
       "         [ 58],\n",
       "         [ 59],\n",
       "         [ 55],\n",
       "         [ 54],\n",
       "         [ 50],\n",
       "         [ 49],\n",
       "         [ 55],\n",
       "         [ 58],\n",
       "         [ 63],\n",
       "         [ 67],\n",
       "         [ 67],\n",
       "         [ 67]],\n",
       "\n",
       "        [[ 67],\n",
       "         [ 67],\n",
       "         [ 67],\n",
       "         [ 67],\n",
       "         [ 68],\n",
       "         [ 67],\n",
       "         [ 74],\n",
       "         [ 77],\n",
       "         [ 91],\n",
       "         [ 89],\n",
       "         [ 90],\n",
       "         [ 67],\n",
       "         [ 76],\n",
       "         [ 73],\n",
       "         [ 63],\n",
       "         [ 53],\n",
       "         [ 50],\n",
       "         [ 42],\n",
       "         [ 50],\n",
       "         [ 39],\n",
       "         [ 32],\n",
       "         [ 27],\n",
       "         [ 27],\n",
       "         [ 32],\n",
       "         [ 47],\n",
       "         [ 64],\n",
       "         [ 67],\n",
       "         [ 67]],\n",
       "\n",
       "        [[ 67],\n",
       "         [ 67],\n",
       "         [ 67],\n",
       "         [ 67],\n",
       "         [ 66],\n",
       "         [ 65],\n",
       "         [ 63],\n",
       "         [ 65],\n",
       "         [ 57],\n",
       "         [ 69],\n",
       "         [ 72],\n",
       "         [ 63],\n",
       "         [ 57],\n",
       "         [ 46],\n",
       "         [ 66],\n",
       "         [ 63],\n",
       "         [ 75],\n",
       "         [ 63],\n",
       "         [ 70],\n",
       "         [ 58],\n",
       "         [ 46],\n",
       "         [ 77],\n",
       "         [ 82],\n",
       "         [112],\n",
       "         [ 96],\n",
       "         [ 74],\n",
       "         [ 69],\n",
       "         [ 67]],\n",
       "\n",
       "        [[ 67],\n",
       "         [ 67],\n",
       "         [ 66],\n",
       "         [ 65],\n",
       "         [ 60],\n",
       "         [ 52],\n",
       "         [ 50],\n",
       "         [ 60],\n",
       "         [ 68],\n",
       "         [ 69],\n",
       "         [ 73],\n",
       "         [ 74],\n",
       "         [ 53],\n",
       "         [ 51],\n",
       "         [ 51],\n",
       "         [ 49],\n",
       "         [ 53],\n",
       "         [ 70],\n",
       "         [ 65],\n",
       "         [ 67],\n",
       "         [ 99],\n",
       "         [ 96],\n",
       "         [118],\n",
       "         [120],\n",
       "         [119],\n",
       "         [ 92],\n",
       "         [ 83],\n",
       "         [ 67]],\n",
       "\n",
       "        [[ 67],\n",
       "         [ 67],\n",
       "         [ 67],\n",
       "         [ 57],\n",
       "         [ 48],\n",
       "         [ 60],\n",
       "         [ 63],\n",
       "         [ 57],\n",
       "         [ 52],\n",
       "         [ 59],\n",
       "         [ 67],\n",
       "         [ 69],\n",
       "         [ 65],\n",
       "         [ 58],\n",
       "         [ 77],\n",
       "         [ 60],\n",
       "         [ 61],\n",
       "         [ 64],\n",
       "         [ 75],\n",
       "         [ 81],\n",
       "         [ 87],\n",
       "         [ 80],\n",
       "         [ 99],\n",
       "         [120],\n",
       "         [173],\n",
       "         [127],\n",
       "         [ 94],\n",
       "         [ 71]],\n",
       "\n",
       "        [[ 67],\n",
       "         [ 67],\n",
       "         [ 68],\n",
       "         [ 56],\n",
       "         [ 45],\n",
       "         [ 61],\n",
       "         [ 64],\n",
       "         [ 72],\n",
       "         [ 71],\n",
       "         [ 66],\n",
       "         [ 85],\n",
       "         [ 82],\n",
       "         [ 69],\n",
       "         [ 61],\n",
       "         [ 68],\n",
       "         [ 46],\n",
       "         [ 69],\n",
       "         [ 67],\n",
       "         [ 72],\n",
       "         [ 71],\n",
       "         [ 60],\n",
       "         [ 76],\n",
       "         [ 63],\n",
       "         [ 99],\n",
       "         [194],\n",
       "         [173],\n",
       "         [ 91],\n",
       "         [ 70]],\n",
       "\n",
       "        [[ 68],\n",
       "         [ 67],\n",
       "         [ 72],\n",
       "         [ 67],\n",
       "         [ 43],\n",
       "         [ 74],\n",
       "         [ 61],\n",
       "         [ 69],\n",
       "         [ 80],\n",
       "         [ 66],\n",
       "         [ 68],\n",
       "         [ 82],\n",
       "         [ 67],\n",
       "         [ 57],\n",
       "         [ 62],\n",
       "         [ 71],\n",
       "         [ 67],\n",
       "         [ 70],\n",
       "         [ 61],\n",
       "         [ 63],\n",
       "         [ 79],\n",
       "         [ 76],\n",
       "         [ 48],\n",
       "         [ 95],\n",
       "         [209],\n",
       "         [218],\n",
       "         [ 92],\n",
       "         [ 68]],\n",
       "\n",
       "        [[ 67],\n",
       "         [ 66],\n",
       "         [ 76],\n",
       "         [ 73],\n",
       "         [ 60],\n",
       "         [ 75],\n",
       "         [ 71],\n",
       "         [ 68],\n",
       "         [ 85],\n",
       "         [ 73],\n",
       "         [ 66],\n",
       "         [ 90],\n",
       "         [ 64],\n",
       "         [ 64],\n",
       "         [ 56],\n",
       "         [ 58],\n",
       "         [ 58],\n",
       "         [ 66],\n",
       "         [ 67],\n",
       "         [ 67],\n",
       "         [ 50],\n",
       "         [ 72],\n",
       "         [ 69],\n",
       "         [ 62],\n",
       "         [204],\n",
       "         [255],\n",
       "         [100],\n",
       "         [ 70]],\n",
       "\n",
       "        [[ 67],\n",
       "         [ 64],\n",
       "         [ 71],\n",
       "         [ 65],\n",
       "         [ 68],\n",
       "         [ 72],\n",
       "         [ 60],\n",
       "         [ 70],\n",
       "         [ 77],\n",
       "         [ 83],\n",
       "         [ 71],\n",
       "         [ 93],\n",
       "         [ 84],\n",
       "         [ 77],\n",
       "         [ 57],\n",
       "         [ 49],\n",
       "         [ 48],\n",
       "         [ 31],\n",
       "         [ 44],\n",
       "         [ 39],\n",
       "         [ 40],\n",
       "         [ 39],\n",
       "         [ 28],\n",
       "         [ 29],\n",
       "         [126],\n",
       "         [250],\n",
       "         [119],\n",
       "         [ 68]],\n",
       "\n",
       "        [[ 67],\n",
       "         [ 62],\n",
       "         [ 60],\n",
       "         [ 57],\n",
       "         [ 71],\n",
       "         [ 74],\n",
       "         [ 75],\n",
       "         [ 83],\n",
       "         [ 68],\n",
       "         [ 86],\n",
       "         [ 72],\n",
       "         [ 82],\n",
       "         [ 78],\n",
       "         [ 86],\n",
       "         [ 62],\n",
       "         [ 41],\n",
       "         [ 53],\n",
       "         [ 37],\n",
       "         [ 31],\n",
       "         [ 31],\n",
       "         [ 22],\n",
       "         [ 26],\n",
       "         [ 10],\n",
       "         [  8],\n",
       "         [ 14],\n",
       "         [160],\n",
       "         [ 96],\n",
       "         [ 68]],\n",
       "\n",
       "        [[ 67],\n",
       "         [ 63],\n",
       "         [ 54],\n",
       "         [ 57],\n",
       "         [ 76],\n",
       "         [ 84],\n",
       "         [ 92],\n",
       "         [ 79],\n",
       "         [ 84],\n",
       "         [ 68],\n",
       "         [ 82],\n",
       "         [ 94],\n",
       "         [ 86],\n",
       "         [ 88],\n",
       "         [ 69],\n",
       "         [ 64],\n",
       "         [ 58],\n",
       "         [ 56],\n",
       "         [ 60],\n",
       "         [ 46],\n",
       "         [ 58],\n",
       "         [ 47],\n",
       "         [ 28],\n",
       "         [  1],\n",
       "         [  0],\n",
       "         [ 81],\n",
       "         [ 77],\n",
       "         [ 66]],\n",
       "\n",
       "        [[ 67],\n",
       "         [ 66],\n",
       "         [ 59],\n",
       "         [ 62],\n",
       "         [ 83],\n",
       "         [100],\n",
       "         [ 85],\n",
       "         [ 81],\n",
       "         [ 78],\n",
       "         [ 81],\n",
       "         [ 78],\n",
       "         [ 85],\n",
       "         [ 85],\n",
       "         [ 67],\n",
       "         [ 66],\n",
       "         [ 60],\n",
       "         [ 59],\n",
       "         [ 54],\n",
       "         [ 70],\n",
       "         [ 75],\n",
       "         [ 64],\n",
       "         [ 54],\n",
       "         [ 59],\n",
       "         [ 45],\n",
       "         [ 76],\n",
       "         [ 70],\n",
       "         [ 65],\n",
       "         [ 65]],\n",
       "\n",
       "        [[ 69],\n",
       "         [ 66],\n",
       "         [ 63],\n",
       "         [ 66],\n",
       "         [ 72],\n",
       "         [ 71],\n",
       "         [ 60],\n",
       "         [ 58],\n",
       "         [ 59],\n",
       "         [ 69],\n",
       "         [ 77],\n",
       "         [ 64],\n",
       "         [ 84],\n",
       "         [ 61],\n",
       "         [ 60],\n",
       "         [ 75],\n",
       "         [ 66],\n",
       "         [ 41],\n",
       "         [ 64],\n",
       "         [ 55],\n",
       "         [ 60],\n",
       "         [ 52],\n",
       "         [ 51],\n",
       "         [ 58],\n",
       "         [ 94],\n",
       "         [ 65],\n",
       "         [ 61],\n",
       "         [ 67]],\n",
       "\n",
       "        [[ 68],\n",
       "         [ 67],\n",
       "         [ 65],\n",
       "         [ 65],\n",
       "         [ 60],\n",
       "         [ 37],\n",
       "         [ 45],\n",
       "         [ 51],\n",
       "         [ 66],\n",
       "         [ 61],\n",
       "         [ 67],\n",
       "         [ 61],\n",
       "         [ 75],\n",
       "         [ 54],\n",
       "         [ 46],\n",
       "         [ 66],\n",
       "         [ 60],\n",
       "         [ 55],\n",
       "         [ 76],\n",
       "         [ 64],\n",
       "         [ 57],\n",
       "         [ 59],\n",
       "         [ 70],\n",
       "         [ 66],\n",
       "         [ 82],\n",
       "         [ 59],\n",
       "         [ 59],\n",
       "         [ 66]],\n",
       "\n",
       "        [[ 67],\n",
       "         [ 67],\n",
       "         [ 63],\n",
       "         [ 73],\n",
       "         [ 71],\n",
       "         [ 45],\n",
       "         [ 44],\n",
       "         [ 49],\n",
       "         [ 59],\n",
       "         [ 64],\n",
       "         [ 52],\n",
       "         [ 56],\n",
       "         [ 72],\n",
       "         [ 74],\n",
       "         [ 63],\n",
       "         [ 72],\n",
       "         [ 50],\n",
       "         [ 61],\n",
       "         [ 68],\n",
       "         [ 69],\n",
       "         [ 62],\n",
       "         [ 60],\n",
       "         [ 81],\n",
       "         [ 70],\n",
       "         [ 73],\n",
       "         [ 46],\n",
       "         [ 57],\n",
       "         [ 66]],\n",
       "\n",
       "        [[ 67],\n",
       "         [ 67],\n",
       "         [ 59],\n",
       "         [ 73],\n",
       "         [ 90],\n",
       "         [ 57],\n",
       "         [ 80],\n",
       "         [ 58],\n",
       "         [ 59],\n",
       "         [ 59],\n",
       "         [ 54],\n",
       "         [ 53],\n",
       "         [ 54],\n",
       "         [ 64],\n",
       "         [ 53],\n",
       "         [ 61],\n",
       "         [ 76],\n",
       "         [ 76],\n",
       "         [ 78],\n",
       "         [ 71],\n",
       "         [ 74],\n",
       "         [ 77],\n",
       "         [ 56],\n",
       "         [ 70],\n",
       "         [ 77],\n",
       "         [ 44],\n",
       "         [ 61],\n",
       "         [ 67]],\n",
       "\n",
       "        [[ 67],\n",
       "         [ 67],\n",
       "         [ 57],\n",
       "         [ 65],\n",
       "         [ 95],\n",
       "         [ 64],\n",
       "         [100],\n",
       "         [ 61],\n",
       "         [ 56],\n",
       "         [ 64],\n",
       "         [ 41],\n",
       "         [ 32],\n",
       "         [ 60],\n",
       "         [ 61],\n",
       "         [ 75],\n",
       "         [ 64],\n",
       "         [ 79],\n",
       "         [ 80],\n",
       "         [ 70],\n",
       "         [ 64],\n",
       "         [ 74],\n",
       "         [ 71],\n",
       "         [ 71],\n",
       "         [ 69],\n",
       "         [ 75],\n",
       "         [ 48],\n",
       "         [ 63],\n",
       "         [ 66]],\n",
       "\n",
       "        [[ 67],\n",
       "         [ 67],\n",
       "         [ 60],\n",
       "         [ 63],\n",
       "         [ 80],\n",
       "         [ 72],\n",
       "         [103],\n",
       "         [ 74],\n",
       "         [ 80],\n",
       "         [ 63],\n",
       "         [ 67],\n",
       "         [ 63],\n",
       "         [ 67],\n",
       "         [ 71],\n",
       "         [ 69],\n",
       "         [ 78],\n",
       "         [ 66],\n",
       "         [ 63],\n",
       "         [ 70],\n",
       "         [ 64],\n",
       "         [ 79],\n",
       "         [ 75],\n",
       "         [ 68],\n",
       "         [ 76],\n",
       "         [ 72],\n",
       "         [ 49],\n",
       "         [ 62],\n",
       "         [ 67]],\n",
       "\n",
       "        [[ 67],\n",
       "         [ 66],\n",
       "         [ 63],\n",
       "         [ 63],\n",
       "         [ 71],\n",
       "         [ 72],\n",
       "         [ 91],\n",
       "         [ 72],\n",
       "         [ 84],\n",
       "         [ 88],\n",
       "         [ 84],\n",
       "         [ 85],\n",
       "         [ 61],\n",
       "         [ 70],\n",
       "         [ 50],\n",
       "         [ 62],\n",
       "         [ 67],\n",
       "         [ 76],\n",
       "         [ 72],\n",
       "         [ 80],\n",
       "         [ 71],\n",
       "         [ 59],\n",
       "         [ 81],\n",
       "         [ 83],\n",
       "         [ 59],\n",
       "         [ 57],\n",
       "         [ 65],\n",
       "         [ 67]],\n",
       "\n",
       "        [[ 67],\n",
       "         [ 67],\n",
       "         [ 62],\n",
       "         [ 63],\n",
       "         [ 73],\n",
       "         [ 62],\n",
       "         [ 68],\n",
       "         [ 81],\n",
       "         [ 84],\n",
       "         [ 78],\n",
       "         [ 69],\n",
       "         [ 75],\n",
       "         [ 67],\n",
       "         [ 59],\n",
       "         [ 65],\n",
       "         [ 55],\n",
       "         [ 62],\n",
       "         [ 75],\n",
       "         [ 61],\n",
       "         [ 63],\n",
       "         [ 70],\n",
       "         [ 93],\n",
       "         [ 84],\n",
       "         [ 77],\n",
       "         [ 58],\n",
       "         [ 59],\n",
       "         [ 67],\n",
       "         [ 67]],\n",
       "\n",
       "        [[ 67],\n",
       "         [ 67],\n",
       "         [ 62],\n",
       "         [ 54],\n",
       "         [ 74],\n",
       "         [ 71],\n",
       "         [ 47],\n",
       "         [ 55],\n",
       "         [ 66],\n",
       "         [ 81],\n",
       "         [ 70],\n",
       "         [ 76],\n",
       "         [ 70],\n",
       "         [ 71],\n",
       "         [ 59],\n",
       "         [ 71],\n",
       "         [ 81],\n",
       "         [ 66],\n",
       "         [ 97],\n",
       "         [ 84],\n",
       "         [ 89],\n",
       "         [ 77],\n",
       "         [ 80],\n",
       "         [ 70],\n",
       "         [ 66],\n",
       "         [ 66],\n",
       "         [ 68],\n",
       "         [ 67]],\n",
       "\n",
       "        [[ 67],\n",
       "         [ 67],\n",
       "         [ 64],\n",
       "         [ 60],\n",
       "         [ 73],\n",
       "         [ 86],\n",
       "         [ 62],\n",
       "         [ 49],\n",
       "         [ 70],\n",
       "         [ 59],\n",
       "         [ 69],\n",
       "         [ 73],\n",
       "         [ 67],\n",
       "         [ 71],\n",
       "         [ 85],\n",
       "         [ 59],\n",
       "         [ 70],\n",
       "         [ 62],\n",
       "         [ 53],\n",
       "         [ 69],\n",
       "         [ 83],\n",
       "         [ 67],\n",
       "         [ 66],\n",
       "         [ 75],\n",
       "         [ 67],\n",
       "         [ 70],\n",
       "         [ 68],\n",
       "         [ 67]],\n",
       "\n",
       "        [[ 67],\n",
       "         [ 67],\n",
       "         [ 66],\n",
       "         [ 68],\n",
       "         [ 71],\n",
       "         [ 71],\n",
       "         [ 70],\n",
       "         [ 79],\n",
       "         [ 62],\n",
       "         [ 87],\n",
       "         [ 63],\n",
       "         [ 66],\n",
       "         [ 75],\n",
       "         [ 71],\n",
       "         [ 71],\n",
       "         [ 65],\n",
       "         [ 52],\n",
       "         [ 59],\n",
       "         [ 65],\n",
       "         [ 57],\n",
       "         [ 57],\n",
       "         [ 59],\n",
       "         [ 70],\n",
       "         [ 68],\n",
       "         [ 70],\n",
       "         [ 65],\n",
       "         [ 67],\n",
       "         [ 67]],\n",
       "\n",
       "        [[ 67],\n",
       "         [ 67],\n",
       "         [ 67],\n",
       "         [ 70],\n",
       "         [ 75],\n",
       "         [ 73],\n",
       "         [ 69],\n",
       "         [ 79],\n",
       "         [ 69],\n",
       "         [ 75],\n",
       "         [ 74],\n",
       "         [ 81],\n",
       "         [ 75],\n",
       "         [ 77],\n",
       "         [ 63],\n",
       "         [ 67],\n",
       "         [ 68],\n",
       "         [ 65],\n",
       "         [ 61],\n",
       "         [ 59],\n",
       "         [ 52],\n",
       "         [ 64],\n",
       "         [ 71],\n",
       "         [ 75],\n",
       "         [ 73],\n",
       "         [ 67],\n",
       "         [ 67],\n",
       "         [ 67]],\n",
       "\n",
       "        [[ 67],\n",
       "         [ 67],\n",
       "         [ 67],\n",
       "         [ 67],\n",
       "         [ 69],\n",
       "         [ 72],\n",
       "         [ 68],\n",
       "         [ 68],\n",
       "         [ 64],\n",
       "         [ 63],\n",
       "         [ 64],\n",
       "         [ 61],\n",
       "         [ 54],\n",
       "         [ 55],\n",
       "         [ 56],\n",
       "         [ 60],\n",
       "         [ 55],\n",
       "         [ 50],\n",
       "         [ 48],\n",
       "         [ 58],\n",
       "         [ 64],\n",
       "         [ 63],\n",
       "         [ 66],\n",
       "         [ 67],\n",
       "         [ 67],\n",
       "         [ 67],\n",
       "         [ 67],\n",
       "         [ 67]],\n",
       "\n",
       "        [[ 67],\n",
       "         [ 67],\n",
       "         [ 67],\n",
       "         [ 67],\n",
       "         [ 68],\n",
       "         [ 69],\n",
       "         [ 69],\n",
       "         [ 70],\n",
       "         [ 73],\n",
       "         [ 75],\n",
       "         [ 75],\n",
       "         [ 75],\n",
       "         [ 69],\n",
       "         [ 63],\n",
       "         [ 61],\n",
       "         [ 57],\n",
       "         [ 58],\n",
       "         [ 58],\n",
       "         [ 60],\n",
       "         [ 64],\n",
       "         [ 65],\n",
       "         [ 65],\n",
       "         [ 66],\n",
       "         [ 67],\n",
       "         [ 67],\n",
       "         [ 67],\n",
       "         [ 67],\n",
       "         [ 67]]], device='cpu', dtype=torch.uint8)"
      ]
     },
     "execution_count": 69,
     "metadata": {},
     "output_type": "execute_result"
    }
   ],
   "source": [
    "test=neurons[4]\n",
    "test"
   ]
  },
  {
   "cell_type": "code",
   "execution_count": 70,
   "metadata": {},
   "outputs": [],
   "source": [
    "#import torchvision.transforms as T\n",
    "import torchvision as tv\n",
    "to_pil = tv.transforms.ToPILImage()\n",
    "def showImg(x):\n",
    "    temp=x\n",
    "    temp=temp.cpu().numpy()\n",
    "    temp = to_pil(temp)\n",
    "    plt.imshow(temp)"
   ]
  },
  {
   "cell_type": "code",
   "execution_count": 71,
   "metadata": {},
   "outputs": [
    {
     "data": {
      "image/png": "[encoded data removed]",
      "text/plain": [
       "<Figure size 432x288 with 1 Axes>"
      ]
     },
     "metadata": {},
     "output_type": "display_data"
    }
   ],
   "source": [
    "showImg(neurons[0])"
   ]
  },
  {
   "cell_type": "code",
   "execution_count": 72,
   "metadata": {},
   "outputs": [
    {
     "data": {
      "image/png": "[encoded data removed]",
      "text/plain": [
       "<Figure size 432x288 with 1 Axes>"
      ]
     },
     "metadata": {},
     "output_type": "display_data"
    }
   ],
   "source": [
    "showImg(neurons[1])"
   ]
  },
  {
   "cell_type": "code",
   "execution_count": 73,
   "metadata": {},
   "outputs": [
    {
     "data": {
      "image/png": "[encoded data removed]",
      "text/plain": [
       "<Figure size 432x288 with 1 Axes>"
      ]
     },
     "metadata": {},
     "output_type": "display_data"
    }
   ],
   "source": [
    "showImg(neurons[2])"
   ]
  },
  {
   "cell_type": "code",
   "execution_count": 74,
   "metadata": {},
   "outputs": [
    {
     "data": {
      "image/png": "[encoded data removed]",
      "text/plain": [
       "<Figure size 432x288 with 1 Axes>"
      ]
     },
     "metadata": {},
     "output_type": "display_data"
    }
   ],
   "source": [
    "showImg(neurons[3])"
   ]
  },
  {
   "cell_type": "code",
   "execution_count": 75,
   "metadata": {},
   "outputs": [
    {
     "data": {
      "image/png": "[encoded data removed]",
      "text/plain": [
       "<Figure size 432x288 with 1 Axes>"
      ]
     },
     "metadata": {},
     "output_type": "display_data"
    }
   ],
   "source": [
    "showImg(neurons[4])"
   ]
  },
  {
   "cell_type": "code",
   "execution_count": 76,
   "metadata": {},
   "outputs": [
    {
     "data": {
      "image/png": "[encoded data removed]",
      "text/plain": [
       "<Figure size 432x288 with 1 Axes>"
      ]
     },
     "metadata": {},
     "output_type": "display_data"
    }
   ],
   "source": [
    "showImg(neurons[5])"
   ]
  },
  {
   "cell_type": "code",
   "execution_count": 77,
   "metadata": {},
   "outputs": [
    {
     "data": {
      "image/png": "[encoded data removed]",
      "text/plain": [
       "<Figure size 432x288 with 1 Axes>"
      ]
     },
     "metadata": {},
     "output_type": "display_data"
    }
   ],
   "source": [
    "showImg(neurons[6])"
   ]
  },
  {
   "cell_type": "code",
   "execution_count": 78,
   "metadata": {},
   "outputs": [
    {
     "data": {
      "image/png": "[encoded data removed]",
      "text/plain": [
       "<Figure size 432x288 with 1 Axes>"
      ]
     },
     "metadata": {},
     "output_type": "display_data"
    }
   ],
   "source": [
    "showImg(neurons[7])"
   ]
  },
  {
   "cell_type": "code",
   "execution_count": 79,
   "metadata": {},
   "outputs": [
    {
     "data": {
      "image/png": "[encoded data removed]",
      "text/plain": [
       "<Figure size 432x288 with 1 Axes>"
      ]
     },
     "metadata": {},
     "output_type": "display_data"
    }
   ],
   "source": [
    "showImg(neurons[8])"
   ]
  },
  {
   "cell_type": "code",
   "execution_count": 80,
   "metadata": {},
   "outputs": [
    {
     "data": {
      "image/png": "[encoded data removed]",
      "text/plain": [
       "<Figure size 432x288 with 1 Axes>"
      ]
     },
     "metadata": {},
     "output_type": "display_data"
    }
   ],
   "source": [
    "showImg(neurons[9])"
   ]
  },
  {
   "cell_type": "code",
   "execution_count": null,
   "metadata": {},
   "outputs": [],
   "source": []
  }
 ],
 "metadata": {
  "kernelspec": {
   "display_name": "Python [conda env:NeuraisTorch]",
   "language": "python",
   "name": "conda-env-NeuraisTorch-py"
  },
  "language_info": {
   "codemirror_mode": {
    "name": "ipython",
    "version": 3
   },
   "file_extension": ".py",
   "mimetype": "text/x-python",
   "name": "python",
   "nbconvert_exporter": "python",
   "pygments_lexer": "ipython3",
   "version": "3.5.5"
  }
 },
 "nbformat": 4,
 "nbformat_minor": 2
}
