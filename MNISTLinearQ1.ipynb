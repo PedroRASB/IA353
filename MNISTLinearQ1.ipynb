{
 "cells": [
  {
   "cell_type": "code",
   "execution_count": 1,
   "metadata": {},
   "outputs": [],
   "source": [
    "import torch\n",
    "torch.set_default_tensor_type('torch.cuda.FloatTensor')"
   ]
  },
  {
   "cell_type": "markdown",
   "metadata": {},
   "source": [
    "# Loading MNIST:"
   ]
  },
  {
   "cell_type": "code",
   "execution_count": 2,
   "metadata": {},
   "outputs": [],
   "source": [
    "import torchvision as tv\n",
    "mnist_train=tv.datasets.MNIST(root='./Data',train=True,download=True)\n",
    "mnist_test=tv.datasets.MNIST(root='./Data',train=False,download=True)"
   ]
  },
  {
   "cell_type": "code",
   "execution_count": 3,
   "metadata": {},
   "outputs": [
    {
     "data": {
      "text/plain": [
       "Dataset MNIST\n",
       "    Number of datapoints: 60000\n",
       "    Split: train\n",
       "    Root Location: ./Data\n",
       "    Transforms (if any): None\n",
       "    Target Transforms (if any): None"
      ]
     },
     "execution_count": 3,
     "metadata": {},
     "output_type": "execute_result"
    }
   ],
   "source": [
    "mnist_train"
   ]
  },
  {
   "cell_type": "code",
   "execution_count": 4,
   "metadata": {},
   "outputs": [
    {
     "data": {
      "text/plain": [
       "(<PIL.Image.Image image mode=L size=28x28 at 0x7F7552E77358>,\n",
       " tensor(0, device='cpu'))"
      ]
     },
     "execution_count": 4,
     "metadata": {},
     "output_type": "execute_result"
    }
   ],
   "source": [
    "mnist_train[1]"
   ]
  },
  {
   "cell_type": "code",
   "execution_count": 5,
   "metadata": {},
   "outputs": [
    {
     "name": "stdout",
     "output_type": "stream",
     "text": [
      "tensor(0, device='cpu')\n"
     ]
    }
   ],
   "source": [
    "from PIL import Image\n",
    "mnist_train[1][0].show()\n",
    "print(mnist_train[1][1])"
   ]
  },
  {
   "cell_type": "markdown",
   "metadata": {},
   "source": [
    "# Tranforming in tensors and grayscale from 0 to 1:"
   ]
  },
  {
   "cell_type": "code",
   "execution_count": 6,
   "metadata": {},
   "outputs": [],
   "source": [
    "import torchvision.transforms as transforms\n",
    "transform = transforms.Compose(\n",
    "    [transforms.Grayscale(num_output_channels=1),transforms.ToTensor()])"
   ]
  },
  {
   "cell_type": "code",
   "execution_count": 7,
   "metadata": {},
   "outputs": [],
   "source": [
    "import torchvision as tv\n",
    "mnist_train=tv.datasets.MNIST(root='./Data',train=True,download=True,transform=transform)\n",
    "mnist_test=tv.datasets.MNIST(root='./Data',train=False,download=True,transform=transform)"
   ]
  },
  {
   "cell_type": "code",
   "execution_count": 8,
   "metadata": {
    "scrolled": true
   },
   "outputs": [
    {
     "data": {
      "text/plain": [
       "Dataset MNIST\n",
       "    Number of datapoints: 60000\n",
       "    Split: train\n",
       "    Root Location: ./Data\n",
       "    Transforms (if any): Compose(\n",
       "                             Grayscale(num_output_channels=1)\n",
       "                             ToTensor()\n",
       "                         )\n",
       "    Target Transforms (if any): None"
      ]
     },
     "execution_count": 8,
     "metadata": {},
     "output_type": "execute_result"
    }
   ],
   "source": [
    "mnist_train"
   ]
  },
  {
   "cell_type": "code",
   "execution_count": 9,
   "metadata": {
    "scrolled": true
   },
   "outputs": [
    {
     "data": {
      "text/plain": [
       "Dataset MNIST\n",
       "    Number of datapoints: 10000\n",
       "    Split: test\n",
       "    Root Location: ./Data\n",
       "    Transforms (if any): Compose(\n",
       "                             Grayscale(num_output_channels=1)\n",
       "                             ToTensor()\n",
       "                         )\n",
       "    Target Transforms (if any): None"
      ]
     },
     "execution_count": 9,
     "metadata": {},
     "output_type": "execute_result"
    }
   ],
   "source": [
    "mnist_test"
   ]
  },
  {
   "cell_type": "markdown",
   "metadata": {},
   "source": [
    "# Image 0:"
   ]
  },
  {
   "cell_type": "code",
   "execution_count": 10,
   "metadata": {},
   "outputs": [
    {
     "data": {
      "text/plain": [
       "tensor([[[0.0000, 0.0000, 0.0000, 0.0000, 0.0000, 0.0000, 0.0000, 0.0000,\n",
       "          0.0000, 0.0000, 0.0000, 0.0000, 0.0000, 0.0000, 0.0000, 0.0000,\n",
       "          0.0000, 0.0000, 0.0000, 0.0000, 0.0000, 0.0000, 0.0000, 0.0000,\n",
       "          0.0000, 0.0000, 0.0000, 0.0000],\n",
       "         [0.0000, 0.0000, 0.0000, 0.0000, 0.0000, 0.0000, 0.0000, 0.0000,\n",
       "          0.0000, 0.0000, 0.0000, 0.0000, 0.0000, 0.0000, 0.0000, 0.0000,\n",
       "          0.0000, 0.0000, 0.0000, 0.0000, 0.0000, 0.0000, 0.0000, 0.0000,\n",
       "          0.0000, 0.0000, 0.0000, 0.0000],\n",
       "         [0.0000, 0.0000, 0.0000, 0.0000, 0.0000, 0.0000, 0.0000, 0.0000,\n",
       "          0.0000, 0.0000, 0.0000, 0.0000, 0.0000, 0.0000, 0.0000, 0.0000,\n",
       "          0.0000, 0.0000, 0.0000, 0.0000, 0.0000, 0.0000, 0.0000, 0.0000,\n",
       "          0.0000, 0.0000, 0.0000, 0.0000],\n",
       "         [0.0000, 0.0000, 0.0000, 0.0000, 0.0000, 0.0000, 0.0000, 0.0000,\n",
       "          0.0000, 0.0000, 0.0000, 0.0000, 0.0000, 0.0000, 0.0000, 0.0000,\n",
       "          0.0000, 0.0000, 0.0000, 0.0000, 0.0000, 0.0000, 0.0000, 0.0000,\n",
       "          0.0000, 0.0000, 0.0000, 0.0000],\n",
       "         [0.0000, 0.0000, 0.0000, 0.0000, 0.0000, 0.0000, 0.0000, 0.0000,\n",
       "          0.0000, 0.0000, 0.0000, 0.0000, 0.0000, 0.0000, 0.0000, 0.0000,\n",
       "          0.0000, 0.0000, 0.0000, 0.0000, 0.0000, 0.0000, 0.0000, 0.0000,\n",
       "          0.0000, 0.0000, 0.0000, 0.0000],\n",
       "         [0.0000, 0.0000, 0.0000, 0.0000, 0.0000, 0.0000, 0.0000, 0.0000,\n",
       "          0.0000, 0.0000, 0.0000, 0.0000, 0.0118, 0.0706, 0.0706, 0.0706,\n",
       "          0.4941, 0.5333, 0.6863, 0.1020, 0.6510, 1.0000, 0.9686, 0.4980,\n",
       "          0.0000, 0.0000, 0.0000, 0.0000],\n",
       "         [0.0000, 0.0000, 0.0000, 0.0000, 0.0000, 0.0000, 0.0000, 0.0000,\n",
       "          0.1176, 0.1412, 0.3686, 0.6039, 0.6667, 0.9922, 0.9922, 0.9922,\n",
       "          0.9922, 0.9922, 0.8824, 0.6745, 0.9922, 0.9490, 0.7647, 0.2510,\n",
       "          0.0000, 0.0000, 0.0000, 0.0000],\n",
       "         [0.0000, 0.0000, 0.0000, 0.0000, 0.0000, 0.0000, 0.0000, 0.1922,\n",
       "          0.9333, 0.9922, 0.9922, 0.9922, 0.9922, 0.9922, 0.9922, 0.9922,\n",
       "          0.9922, 0.9843, 0.3647, 0.3216, 0.3216, 0.2196, 0.1529, 0.0000,\n",
       "          0.0000, 0.0000, 0.0000, 0.0000],\n",
       "         [0.0000, 0.0000, 0.0000, 0.0000, 0.0000, 0.0000, 0.0000, 0.0706,\n",
       "          0.8588, 0.9922, 0.9922, 0.9922, 0.9922, 0.9922, 0.7765, 0.7137,\n",
       "          0.9686, 0.9451, 0.0000, 0.0000, 0.0000, 0.0000, 0.0000, 0.0000,\n",
       "          0.0000, 0.0000, 0.0000, 0.0000],\n",
       "         [0.0000, 0.0000, 0.0000, 0.0000, 0.0000, 0.0000, 0.0000, 0.0000,\n",
       "          0.3137, 0.6118, 0.4196, 0.9922, 0.9922, 0.8039, 0.0431, 0.0000,\n",
       "          0.1686, 0.6039, 0.0000, 0.0000, 0.0000, 0.0000, 0.0000, 0.0000,\n",
       "          0.0000, 0.0000, 0.0000, 0.0000],\n",
       "         [0.0000, 0.0000, 0.0000, 0.0000, 0.0000, 0.0000, 0.0000, 0.0000,\n",
       "          0.0000, 0.0549, 0.0039, 0.6039, 0.9922, 0.3529, 0.0000, 0.0000,\n",
       "          0.0000, 0.0000, 0.0000, 0.0000, 0.0000, 0.0000, 0.0000, 0.0000,\n",
       "          0.0000, 0.0000, 0.0000, 0.0000],\n",
       "         [0.0000, 0.0000, 0.0000, 0.0000, 0.0000, 0.0000, 0.0000, 0.0000,\n",
       "          0.0000, 0.0000, 0.0000, 0.5451, 0.9922, 0.7451, 0.0078, 0.0000,\n",
       "          0.0000, 0.0000, 0.0000, 0.0000, 0.0000, 0.0000, 0.0000, 0.0000,\n",
       "          0.0000, 0.0000, 0.0000, 0.0000],\n",
       "         [0.0000, 0.0000, 0.0000, 0.0000, 0.0000, 0.0000, 0.0000, 0.0000,\n",
       "          0.0000, 0.0000, 0.0000, 0.0431, 0.7451, 0.9922, 0.2745, 0.0000,\n",
       "          0.0000, 0.0000, 0.0000, 0.0000, 0.0000, 0.0000, 0.0000, 0.0000,\n",
       "          0.0000, 0.0000, 0.0000, 0.0000],\n",
       "         [0.0000, 0.0000, 0.0000, 0.0000, 0.0000, 0.0000, 0.0000, 0.0000,\n",
       "          0.0000, 0.0000, 0.0000, 0.0000, 0.1373, 0.9451, 0.8824, 0.6275,\n",
       "          0.4235, 0.0039, 0.0000, 0.0000, 0.0000, 0.0000, 0.0000, 0.0000,\n",
       "          0.0000, 0.0000, 0.0000, 0.0000],\n",
       "         [0.0000, 0.0000, 0.0000, 0.0000, 0.0000, 0.0000, 0.0000, 0.0000,\n",
       "          0.0000, 0.0000, 0.0000, 0.0000, 0.0000, 0.3176, 0.9412, 0.9922,\n",
       "          0.9922, 0.4667, 0.0980, 0.0000, 0.0000, 0.0000, 0.0000, 0.0000,\n",
       "          0.0000, 0.0000, 0.0000, 0.0000],\n",
       "         [0.0000, 0.0000, 0.0000, 0.0000, 0.0000, 0.0000, 0.0000, 0.0000,\n",
       "          0.0000, 0.0000, 0.0000, 0.0000, 0.0000, 0.0000, 0.1765, 0.7294,\n",
       "          0.9922, 0.9922, 0.5882, 0.1059, 0.0000, 0.0000, 0.0000, 0.0000,\n",
       "          0.0000, 0.0000, 0.0000, 0.0000],\n",
       "         [0.0000, 0.0000, 0.0000, 0.0000, 0.0000, 0.0000, 0.0000, 0.0000,\n",
       "          0.0000, 0.0000, 0.0000, 0.0000, 0.0000, 0.0000, 0.0000, 0.0627,\n",
       "          0.3647, 0.9882, 0.9922, 0.7333, 0.0000, 0.0000, 0.0000, 0.0000,\n",
       "          0.0000, 0.0000, 0.0000, 0.0000],\n",
       "         [0.0000, 0.0000, 0.0000, 0.0000, 0.0000, 0.0000, 0.0000, 0.0000,\n",
       "          0.0000, 0.0000, 0.0000, 0.0000, 0.0000, 0.0000, 0.0000, 0.0000,\n",
       "          0.0000, 0.9765, 0.9922, 0.9765, 0.2510, 0.0000, 0.0000, 0.0000,\n",
       "          0.0000, 0.0000, 0.0000, 0.0000],\n",
       "         [0.0000, 0.0000, 0.0000, 0.0000, 0.0000, 0.0000, 0.0000, 0.0000,\n",
       "          0.0000, 0.0000, 0.0000, 0.0000, 0.0000, 0.0000, 0.1804, 0.5098,\n",
       "          0.7176, 0.9922, 0.9922, 0.8118, 0.0078, 0.0000, 0.0000, 0.0000,\n",
       "          0.0000, 0.0000, 0.0000, 0.0000],\n",
       "         [0.0000, 0.0000, 0.0000, 0.0000, 0.0000, 0.0000, 0.0000, 0.0000,\n",
       "          0.0000, 0.0000, 0.0000, 0.0000, 0.1529, 0.5804, 0.8980, 0.9922,\n",
       "          0.9922, 0.9922, 0.9804, 0.7137, 0.0000, 0.0000, 0.0000, 0.0000,\n",
       "          0.0000, 0.0000, 0.0000, 0.0000],\n",
       "         [0.0000, 0.0000, 0.0000, 0.0000, 0.0000, 0.0000, 0.0000, 0.0000,\n",
       "          0.0000, 0.0000, 0.0941, 0.4471, 0.8667, 0.9922, 0.9922, 0.9922,\n",
       "          0.9922, 0.7882, 0.3059, 0.0000, 0.0000, 0.0000, 0.0000, 0.0000,\n",
       "          0.0000, 0.0000, 0.0000, 0.0000],\n",
       "         [0.0000, 0.0000, 0.0000, 0.0000, 0.0000, 0.0000, 0.0000, 0.0000,\n",
       "          0.0902, 0.2588, 0.8353, 0.9922, 0.9922, 0.9922, 0.9922, 0.7765,\n",
       "          0.3176, 0.0078, 0.0000, 0.0000, 0.0000, 0.0000, 0.0000, 0.0000,\n",
       "          0.0000, 0.0000, 0.0000, 0.0000],\n",
       "         [0.0000, 0.0000, 0.0000, 0.0000, 0.0000, 0.0000, 0.0706, 0.6706,\n",
       "          0.8588, 0.9922, 0.9922, 0.9922, 0.9922, 0.7647, 0.3137, 0.0353,\n",
       "          0.0000, 0.0000, 0.0000, 0.0000, 0.0000, 0.0000, 0.0000, 0.0000,\n",
       "          0.0000, 0.0000, 0.0000, 0.0000],\n",
       "         [0.0000, 0.0000, 0.0000, 0.0000, 0.2157, 0.6745, 0.8863, 0.9922,\n",
       "          0.9922, 0.9922, 0.9922, 0.9569, 0.5216, 0.0431, 0.0000, 0.0000,\n",
       "          0.0000, 0.0000, 0.0000, 0.0000, 0.0000, 0.0000, 0.0000, 0.0000,\n",
       "          0.0000, 0.0000, 0.0000, 0.0000],\n",
       "         [0.0000, 0.0000, 0.0000, 0.0000, 0.5333, 0.9922, 0.9922, 0.9922,\n",
       "          0.8314, 0.5294, 0.5176, 0.0627, 0.0000, 0.0000, 0.0000, 0.0000,\n",
       "          0.0000, 0.0000, 0.0000, 0.0000, 0.0000, 0.0000, 0.0000, 0.0000,\n",
       "          0.0000, 0.0000, 0.0000, 0.0000],\n",
       "         [0.0000, 0.0000, 0.0000, 0.0000, 0.0000, 0.0000, 0.0000, 0.0000,\n",
       "          0.0000, 0.0000, 0.0000, 0.0000, 0.0000, 0.0000, 0.0000, 0.0000,\n",
       "          0.0000, 0.0000, 0.0000, 0.0000, 0.0000, 0.0000, 0.0000, 0.0000,\n",
       "          0.0000, 0.0000, 0.0000, 0.0000],\n",
       "         [0.0000, 0.0000, 0.0000, 0.0000, 0.0000, 0.0000, 0.0000, 0.0000,\n",
       "          0.0000, 0.0000, 0.0000, 0.0000, 0.0000, 0.0000, 0.0000, 0.0000,\n",
       "          0.0000, 0.0000, 0.0000, 0.0000, 0.0000, 0.0000, 0.0000, 0.0000,\n",
       "          0.0000, 0.0000, 0.0000, 0.0000],\n",
       "         [0.0000, 0.0000, 0.0000, 0.0000, 0.0000, 0.0000, 0.0000, 0.0000,\n",
       "          0.0000, 0.0000, 0.0000, 0.0000, 0.0000, 0.0000, 0.0000, 0.0000,\n",
       "          0.0000, 0.0000, 0.0000, 0.0000, 0.0000, 0.0000, 0.0000, 0.0000,\n",
       "          0.0000, 0.0000, 0.0000, 0.0000]]], device='cpu')"
      ]
     },
     "execution_count": 10,
     "metadata": {},
     "output_type": "execute_result"
    }
   ],
   "source": [
    "mnist_train[0][0]"
   ]
  },
  {
   "cell_type": "code",
   "execution_count": 11,
   "metadata": {},
   "outputs": [
    {
     "data": {
      "text/plain": [
       "torch.Size([1, 28, 28])"
      ]
     },
     "execution_count": 11,
     "metadata": {},
     "output_type": "execute_result"
    }
   ],
   "source": [
    "mnist_train[0][0].size()"
   ]
  },
  {
   "cell_type": "code",
   "execution_count": 12,
   "metadata": {},
   "outputs": [
    {
     "data": {
      "text/plain": [
       "Dataset MNIST\n",
       "    Number of datapoints: 60000\n",
       "    Split: train\n",
       "    Root Location: ./Data\n",
       "    Transforms (if any): Compose(\n",
       "                             Grayscale(num_output_channels=1)\n",
       "                             ToTensor()\n",
       "                         )\n",
       "    Target Transforms (if any): None"
      ]
     },
     "execution_count": 12,
     "metadata": {},
     "output_type": "execute_result"
    }
   ],
   "source": [
    "mnist_train"
   ]
  },
  {
   "cell_type": "code",
   "execution_count": 13,
   "metadata": {},
   "outputs": [
    {
     "data": {
      "image/png": "[encoded data removed]",
      "text/plain": [
       "<PIL.Image.Image image mode=L size=28x28 at 0x7F7552EE4208>"
      ]
     },
     "execution_count": 13,
     "metadata": {},
     "output_type": "execute_result"
    }
   ],
   "source": [
    "to_pil = tv.transforms.ToPILImage()\n",
    "img = to_pil(mnist_train[0][0])\n",
    "img"
   ]
  },
  {
   "cell_type": "markdown",
   "metadata": {},
   "source": [
    "Label:"
   ]
  },
  {
   "cell_type": "code",
   "execution_count": 14,
   "metadata": {},
   "outputs": [
    {
     "data": {
      "text/plain": [
       "tensor(5)"
      ]
     },
     "execution_count": 14,
     "metadata": {},
     "output_type": "execute_result"
    }
   ],
   "source": [
    "mnist_train[0][1].cuda()"
   ]
  },
  {
   "cell_type": "markdown",
   "metadata": {},
   "source": [
    "28x28 images"
   ]
  },
  {
   "cell_type": "markdown",
   "metadata": {},
   "source": [
    "# X matrix creation"
   ]
  },
  {
   "cell_type": "code",
   "execution_count": 15,
   "metadata": {},
   "outputs": [],
   "source": [
    "X=[]\n",
    "temp=[]\n",
    "temp2=[1]\n",
    "temp2=torch.FloatTensor(temp2)\n",
    "for i in list(range(60000)):\n",
    "    temp=mnist_train[i][0]\n",
    "    temp=temp.view(-1,784)\n",
    "    temp=torch.squeeze(temp)\n",
    "    temp=torch.cat((temp2,temp))#add bias col\n",
    "    X.append(temp)\n",
    "X=torch.stack(X)"
   ]
  },
  {
   "cell_type": "code",
   "execution_count": 16,
   "metadata": {},
   "outputs": [
    {
     "data": {
      "text/plain": [
       "tensor([[1., 0., 0.,  ..., 0., 0., 0.],\n",
       "        [1., 0., 0.,  ..., 0., 0., 0.],\n",
       "        [1., 0., 0.,  ..., 0., 0., 0.],\n",
       "        ...,\n",
       "        [1., 0., 0.,  ..., 0., 0., 0.],\n",
       "        [1., 0., 0.,  ..., 0., 0., 0.],\n",
       "        [1., 0., 0.,  ..., 0., 0., 0.]], device='cpu')"
      ]
     },
     "execution_count": 16,
     "metadata": {},
     "output_type": "execute_result"
    }
   ],
   "source": [
    "X"
   ]
  },
  {
   "cell_type": "code",
   "execution_count": 17,
   "metadata": {},
   "outputs": [
    {
     "data": {
      "text/plain": [
       "torch.Size([60000, 785])"
      ]
     },
     "execution_count": 17,
     "metadata": {},
     "output_type": "execute_result"
    }
   ],
   "source": [
    "X.size()"
   ]
  },
  {
   "cell_type": "markdown",
   "metadata": {},
   "source": [
    "# Y Matrix creation"
   ]
  },
  {
   "cell_type": "code",
   "execution_count": 18,
   "metadata": {},
   "outputs": [],
   "source": [
    "def OneHotOriginal(tensor):\n",
    "    #classes from 0 to 9\n",
    "    label=tensor.item()\n",
    "    if (label==0):\n",
    "        out=[1,0,0,0,0,0,0,0,0,0]\n",
    "        out=torch.FloatTensor(out)\n",
    "        return out\n",
    "    if (label==1):\n",
    "        out=[0,1,0,0,0,0,0,0,0,0]\n",
    "        out=torch.FloatTensor(out)\n",
    "        return out\n",
    "    if (label==2):\n",
    "        out=[0,0,1,0,0,0,0,0,0,0]\n",
    "        out=torch.FloatTensor(out)\n",
    "        return out\n",
    "    if (label==3):\n",
    "        out=[0,0,0,1,0,0,0,0,0,0]\n",
    "        out=torch.FloatTensor(out)\n",
    "        return out\n",
    "    if (label==4):\n",
    "        out=[0,0,0,0,1,0,0,0,0,0]\n",
    "        out=torch.FloatTensor(out)\n",
    "        return out\n",
    "    if (label==5):\n",
    "        out=[0,0,0,0,0,1,0,0,0,0]\n",
    "        out=torch.FloatTensor(out)\n",
    "        return out\n",
    "    if (label==6):\n",
    "        out=[0,0,0,0,0,0,1,0,0,0]\n",
    "        out=torch.FloatTensor(out)\n",
    "        return out\n",
    "    if (label==7):\n",
    "        out=[0,0,0,0,0,0,0,1,0,0]\n",
    "        out=torch.FloatTensor(out)\n",
    "        return out\n",
    "    if (label==8):\n",
    "        out=[0,0,0,0,0,0,0,0,1,0]\n",
    "        out=torch.FloatTensor(out)\n",
    "        return out\n",
    "    if (label==9):\n",
    "        out=[0,0,0,0,0,0,0,0,0,1]\n",
    "        out=torch.FloatTensor(out)\n",
    "        return out\n",
    "    else:\n",
    "        print('Error: label out of range')\n",
    "    "
   ]
  },
  {
   "cell_type": "code",
   "execution_count": 19,
   "metadata": {},
   "outputs": [],
   "source": [
    "def OneHot(tensor):\n",
    "    #classes from 0 to 9\n",
    "    label=tensor.item()\n",
    "    if (label==0):\n",
    "        out=[0,0,0,0,0,0,0,0,0,1]\n",
    "        out=torch.FloatTensor(out)\n",
    "        return out\n",
    "    if (label==1):\n",
    "        out=[1,0,0,0,0,0,0,0,0,0]\n",
    "        out=torch.FloatTensor(out)\n",
    "        return out\n",
    "    if (label==2):\n",
    "        out=[0,1,0,0,0,0,0,0,0,0]\n",
    "        out=torch.FloatTensor(out)\n",
    "        return out\n",
    "    if (label==3):\n",
    "        out=[0,0,1,0,0,0,0,0,0,0]\n",
    "        out=torch.FloatTensor(out)\n",
    "        return out\n",
    "    if (label==4):\n",
    "        out=[0,0,0,1,0,0,0,0,0,0]\n",
    "        out=torch.FloatTensor(out)\n",
    "        return out\n",
    "    if (label==5):\n",
    "        out=[0,0,0,0,1,0,0,0,0,0]\n",
    "        out=torch.FloatTensor(out)\n",
    "        return out\n",
    "    if (label==6):\n",
    "        out=[0,0,0,0,0,1,0,0,0,0]\n",
    "        out=torch.FloatTensor(out)\n",
    "        return out\n",
    "    if (label==7):\n",
    "        out=[0,0,0,0,0,0,1,0,0,0]\n",
    "        out=torch.FloatTensor(out)\n",
    "        return out\n",
    "    if (label==8):\n",
    "        out=[0,0,0,0,0,0,0,1,0,0]\n",
    "        out=torch.FloatTensor(out)\n",
    "        return out\n",
    "    if (label==9):\n",
    "        out=[0,0,0,0,0,0,0,0,1,0]\n",
    "        out=torch.FloatTensor(out)\n",
    "        return out\n",
    "    else:\n",
    "        print('Error: label out of range')\n",
    "    "
   ]
  },
  {
   "cell_type": "code",
   "execution_count": 20,
   "metadata": {},
   "outputs": [
    {
     "name": "stdout",
     "output_type": "stream",
     "text": [
      "tensor([0., 0., 0., 0., 1., 0., 0., 0., 0., 0.], device='cpu')\n"
     ]
    }
   ],
   "source": [
    "test=OneHot(mnist_train[0][1])\n",
    "print(test)"
   ]
  },
  {
   "cell_type": "code",
   "execution_count": 21,
   "metadata": {},
   "outputs": [
    {
     "data": {
      "text/plain": [
       "torch.Size([10])"
      ]
     },
     "execution_count": 21,
     "metadata": {},
     "output_type": "execute_result"
    }
   ],
   "source": [
    "test.size()"
   ]
  },
  {
   "cell_type": "code",
   "execution_count": 22,
   "metadata": {},
   "outputs": [],
   "source": [
    "Y=[]\n",
    "temp=[]\n",
    "for i in list(range(60000)):\n",
    "    temp=mnist_train[i][1]\n",
    "    temp=OneHot(temp)\n",
    "    Y.append(temp)\n",
    "Y=torch.stack(Y)"
   ]
  },
  {
   "cell_type": "code",
   "execution_count": 23,
   "metadata": {},
   "outputs": [
    {
     "data": {
      "text/plain": [
       "torch.Size([60000, 10])"
      ]
     },
     "execution_count": 23,
     "metadata": {},
     "output_type": "execute_result"
    }
   ],
   "source": [
    "Y.size()"
   ]
  },
  {
   "cell_type": "code",
   "execution_count": 24,
   "metadata": {
    "scrolled": true
   },
   "outputs": [
    {
     "data": {
      "text/plain": [
       "tensor([0., 0., 0., 0., 1., 0., 0., 0., 0., 0.], device='cpu')"
      ]
     },
     "execution_count": 24,
     "metadata": {},
     "output_type": "execute_result"
    }
   ],
   "source": [
    "Y[0]"
   ]
  },
  {
   "cell_type": "markdown",
   "metadata": {},
   "source": [
    "# Validation and training matrices"
   ]
  },
  {
   "cell_type": "code",
   "execution_count": 25,
   "metadata": {},
   "outputs": [],
   "source": [
    "rand=list(range(60000))\n",
    "import random as R\n",
    "R.shuffle(rand)"
   ]
  },
  {
   "cell_type": "code",
   "execution_count": 26,
   "metadata": {},
   "outputs": [],
   "source": [
    "TrainingIndexes=rand[:40000]\n",
    "ValidatingIndexes=rand[40000:]"
   ]
  },
  {
   "cell_type": "code",
   "execution_count": 27,
   "metadata": {},
   "outputs": [],
   "source": [
    "Xtrain=[]\n",
    "for i in TrainingIndexes:\n",
    "    Xtrain.append(X[i])\n",
    "Xtrain=torch.stack(Xtrain)\n",
    "\n",
    "Xval=[]\n",
    "for i in ValidatingIndexes:\n",
    "    Xval.append(X[i])\n",
    "Xval=torch.stack(Xval)\n",
    "\n",
    "Ytrain=[]\n",
    "for i in TrainingIndexes:\n",
    "    Ytrain.append(Y[i])\n",
    "Ytrain=torch.stack(Ytrain)\n",
    "\n",
    "Yval=[]\n",
    "for i in ValidatingIndexes:\n",
    "    Yval.append(Y[i])\n",
    "Yval=torch.stack(Yval)"
   ]
  },
  {
   "cell_type": "code",
   "execution_count": 28,
   "metadata": {},
   "outputs": [
    {
     "name": "stdout",
     "output_type": "stream",
     "text": [
      "torch.Size([40000, 785]) torch.Size([40000, 10]) torch.Size([20000, 785]) torch.Size([20000, 10])\n"
     ]
    }
   ],
   "source": [
    "print(Xtrain.size(),Ytrain.size(),Xval.size(),Yval.size())"
   ]
  },
  {
   "cell_type": "markdown",
   "metadata": {},
   "source": [
    "# Testing Matrices"
   ]
  },
  {
   "cell_type": "code",
   "execution_count": 29,
   "metadata": {},
   "outputs": [],
   "source": [
    "Xtest=[]\n",
    "temp=[]\n",
    "temp2=[1]\n",
    "temp2=torch.FloatTensor(temp2)\n",
    "for i in list(range(10000)):\n",
    "    temp=mnist_test[i][0]\n",
    "    temp=temp.view(-1,784)\n",
    "    temp=torch.squeeze(temp)\n",
    "    temp=torch.cat((temp2,temp))#add bias col\n",
    "    Xtest.append(temp)\n",
    "Xtest=torch.stack(Xtest)"
   ]
  },
  {
   "cell_type": "code",
   "execution_count": 30,
   "metadata": {},
   "outputs": [
    {
     "data": {
      "text/plain": [
       "torch.Size([10000, 785])"
      ]
     },
     "execution_count": 30,
     "metadata": {},
     "output_type": "execute_result"
    }
   ],
   "source": [
    "Xtest.size()"
   ]
  },
  {
   "cell_type": "code",
   "execution_count": 31,
   "metadata": {},
   "outputs": [],
   "source": [
    "Ytest=[]\n",
    "temp=[]\n",
    "for i in list(range(10000)):\n",
    "    temp=mnist_test[i][1]\n",
    "    temp=OneHot(temp)\n",
    "    Ytest.append(temp)\n",
    "Ytest=torch.stack(Ytest)"
   ]
  },
  {
   "cell_type": "code",
   "execution_count": 32,
   "metadata": {},
   "outputs": [
    {
     "data": {
      "text/plain": [
       "torch.Size([10000, 10])"
      ]
     },
     "execution_count": 32,
     "metadata": {},
     "output_type": "execute_result"
    }
   ],
   "source": [
    "Ytest.size()"
   ]
  },
  {
   "cell_type": "markdown",
   "metadata": {},
   "source": [
    "# Regularization"
   ]
  },
  {
   "cell_type": "code",
   "execution_count": 33,
   "metadata": {},
   "outputs": [],
   "source": [
    "L=[pow(2,-10),pow(2,-8),pow(2,-6),pow(2,-4),pow(2,-2),pow(2,0),pow(2,2),pow(2,4),pow(2,6),pow(2,8),pow(2,10)]\n",
    "AllW=[]\n",
    "for l in L:\n",
    "    W=[]#weights\n",
    "    Xt=Xtrain.t()#transpose\n",
    "    W=torch.mm(Xtrain.t(),Xtrain)# Xt*X\n",
    "    temp=torch.eye(785)*l \n",
    "    W=W.cuda()+temp # Xt*X+I*l\n",
    "    W=torch.inverse(W) # (Xt*X+I*l)^(-1)\n",
    "    W=torch.mm(W,Xt.cuda()) # ((Xt*X+I*l)^(-1))*Xt\n",
    "    W=torch.mm(W,Ytrain.cuda()) # ((Xt*X+I*l)^(-1))*Xt*y\n",
    "    AllW.append(W)"
   ]
  },
  {
   "cell_type": "code",
   "execution_count": 34,
   "metadata": {},
   "outputs": [
    {
     "data": {
      "text/plain": [
       "torch.Size([785, 10])"
      ]
     },
     "execution_count": 34,
     "metadata": {},
     "output_type": "execute_result"
    }
   ],
   "source": [
    "AllW[1].size()"
   ]
  },
  {
   "cell_type": "code",
   "execution_count": 35,
   "metadata": {},
   "outputs": [],
   "source": [
    "#AllW"
   ]
  },
  {
   "cell_type": "markdown",
   "metadata": {},
   "source": [
    "## Validation:"
   ]
  },
  {
   "cell_type": "code",
   "execution_count": 36,
   "metadata": {},
   "outputs": [],
   "source": [
    "def error(w,x,y):\n",
    "    w=w.cuda()\n",
    "    x=x.cuda()\n",
    "    y=y.cuda()\n",
    "    err=torch.mm(x.cuda(),w)\n",
    "    err=err-y\n",
    "    #print(err.size())\n",
    "    err=torch.norm(err)\n",
    "    #print(err.size())\n",
    "    err=err.item()\n",
    "    err=pow(err,2)\n",
    "    return err\n"
   ]
  },
  {
   "cell_type": "code",
   "execution_count": 37,
   "metadata": {},
   "outputs": [
    {
     "name": "stdout",
     "output_type": "stream",
     "text": [
      "7801.290260856564\n",
      "7782.331129152386\n",
      "7768.765740633535\n",
      "7760.574655195756\n",
      "7753.672329846828\n",
      "7744.359867461957\n",
      "7731.252930588147\n",
      "7718.275061706314\n",
      "7717.123579688428\n",
      "7759.121632579714\n",
      "7926.812085670477\n",
      "minimum error: 7717.123579688428 best regularization l: 256\n"
     ]
    }
   ],
   "source": [
    "errors=[]\n",
    "for weight in AllW:\n",
    "    err=error(weight,Xval,Yval)\n",
    "    print(err)\n",
    "    errors.append(err)\n",
    "import numpy as np\n",
    "from numpy import ndarray as nd\n",
    "errors=np.asarray(errors)\n",
    "minimumError=nd.min(errors)\n",
    "Bestl=pow(2,nd.argmin(errors))\n",
    "print('minimum error:', minimumError, 'best regularization l:',Bestl)"
   ]
  },
  {
   "cell_type": "code",
   "execution_count": 38,
   "metadata": {},
   "outputs": [],
   "source": [
    "randomW=torch.rand([785,10])"
   ]
  },
  {
   "cell_type": "code",
   "execution_count": 39,
   "metadata": {},
   "outputs": [
    {
     "data": {
      "text/plain": [
       "torch.Size([785, 10])"
      ]
     },
     "execution_count": 39,
     "metadata": {},
     "output_type": "execute_result"
    }
   ],
   "source": [
    "randomW.size()"
   ]
  },
  {
   "cell_type": "code",
   "execution_count": 40,
   "metadata": {},
   "outputs": [
    {
     "name": "stdout",
     "output_type": "stream",
     "text": [
      "562991939.1137123\n"
     ]
    }
   ],
   "source": [
    "err=error(randomW,Xval,Yval)\n",
    "print(err)"
   ]
  },
  {
   "cell_type": "markdown",
   "metadata": {},
   "source": [
    "# training with all training set and best regularization:"
   ]
  },
  {
   "cell_type": "code",
   "execution_count": 41,
   "metadata": {},
   "outputs": [],
   "source": [
    "W=[]#weights\n",
    "l=Bestl.item()\n",
    "Xt=X.t()#transpose\n",
    "W=torch.mm(X.t(),X)# Xt*X\n",
    "temp=torch.eye(785)*l \n",
    "W=W.cuda()+temp # Xt*X+I*l\n",
    "W=torch.inverse(W) # (Xt*X+I*l)^(-1)\n",
    "W=torch.mm(W,Xt.cuda()) # ((Xt*X+I*l)^(-1))*Xt\n",
    "W=torch.mm(W,Y.cuda()) # ((Xt*X+I*l)^(-1))*Xt*y"
   ]
  },
  {
   "cell_type": "markdown",
   "metadata": {},
   "source": [
    "# Testing"
   ]
  },
  {
   "cell_type": "code",
   "execution_count": 42,
   "metadata": {},
   "outputs": [],
   "source": [
    "TestingError=error(W,Xtest,Ytest)"
   ]
  },
  {
   "cell_type": "code",
   "execution_count": 43,
   "metadata": {},
   "outputs": [
    {
     "name": "stdout",
     "output_type": "stream",
     "text": [
      "Testing Error: 3827.6975734963926\n"
     ]
    }
   ],
   "source": [
    "print('Testing Error:',TestingError)"
   ]
  },
  {
   "cell_type": "markdown",
   "metadata": {},
   "source": [
    "# Accuracy"
   ]
  },
  {
   "cell_type": "code",
   "execution_count": 44,
   "metadata": {},
   "outputs": [],
   "source": [
    "def TensorToOneHot(y):\n",
    "    y=y.cpu()\n",
    "    y=y.numpy()\n",
    "    maximum=nd.argmax(y)\n",
    "    maximum=OneHotOriginal(maximum)\n",
    "    maximum=maximum.cuda()\n",
    "    return maximum"
   ]
  },
  {
   "cell_type": "code",
   "execution_count": 45,
   "metadata": {},
   "outputs": [],
   "source": [
    "Out=torch.mm(Xtest.cuda(),W)"
   ]
  },
  {
   "cell_type": "code",
   "execution_count": 46,
   "metadata": {},
   "outputs": [
    {
     "data": {
      "text/plain": [
       "torch.Size([10000, 10])"
      ]
     },
     "execution_count": 46,
     "metadata": {},
     "output_type": "execute_result"
    }
   ],
   "source": [
    "Out.size()"
   ]
  },
  {
   "cell_type": "code",
   "execution_count": 47,
   "metadata": {},
   "outputs": [],
   "source": [
    "def Accuracy(output,labels):\n",
    "    acc=0\n",
    "    j=0\n",
    "    for i in output:\n",
    "        temp=TensorToOneHot(i)\n",
    "        if (torch.min(temp.cuda()==labels[j].cuda()).item()==1):\n",
    "            acc=acc+1\n",
    "        j=j+1\n",
    "    acc=acc/j\n",
    "    return acc"
   ]
  },
  {
   "cell_type": "code",
   "execution_count": 48,
   "metadata": {},
   "outputs": [
    {
     "name": "stdout",
     "output_type": "stream",
     "text": [
      "test accuracy: 0.8624\n"
     ]
    }
   ],
   "source": [
    "acc=Accuracy(Out,Ytest)\n",
    "print('test accuracy:',acc)"
   ]
  },
  {
   "cell_type": "markdown",
   "metadata": {},
   "source": [
    "# best model by accuracy"
   ]
  },
  {
   "cell_type": "code",
   "execution_count": 49,
   "metadata": {},
   "outputs": [
    {
     "name": "stdout",
     "output_type": "stream",
     "text": [
      "0.8534\n",
      "0.85345\n",
      "0.8533\n",
      "0.8535\n",
      "0.85345\n",
      "0.85355\n",
      "0.8539\n",
      "0.85475\n",
      "0.8554\n",
      "0.85615\n",
      "0.858\n",
      "maximum Accuracy: 0.858 best regularization l by accuracy: 1024\n"
     ]
    }
   ],
   "source": [
    "allAcc=[]\n",
    "for weight in AllW:\n",
    "    temp=torch.mm(Xval.cuda(),weight)\n",
    "    accu=Accuracy(temp,Yval)\n",
    "    print(accu)\n",
    "    allAcc.append(accu)\n",
    "allAcc=np.asarray(allAcc)\n",
    "maximumAcc=nd.max(allAcc)\n",
    "BestlByAcc=pow(2,nd.argmax(allAcc))\n",
    "print('maximum Accuracy:', maximumAcc, 'best regularization l by accuracy:',BestlByAcc)"
   ]
  },
  {
   "cell_type": "markdown",
   "metadata": {},
   "source": [
    "## training with all training set and best regularization by accuracy:"
   ]
  },
  {
   "cell_type": "code",
   "execution_count": 50,
   "metadata": {},
   "outputs": [],
   "source": [
    "W=[]#weights\n",
    "l=BestlByAcc.item()\n",
    "Xt=X.t()#transpose\n",
    "W=torch.mm(X.t(),X)# Xt*X\n",
    "temp=torch.eye(785)*l \n",
    "W=W.cuda()+temp # Xt*X+I*l\n",
    "W=torch.inverse(W) # (Xt*X+I*l)^(-1)\n",
    "W=torch.mm(W,Xt.cuda()) # ((Xt*X+I*l)^(-1))*Xt\n",
    "W=torch.mm(W,Y.cuda()) # ((Xt*X+I*l)^(-1))*Xt*y"
   ]
  },
  {
   "cell_type": "markdown",
   "metadata": {},
   "source": [
    "## Testing"
   ]
  },
  {
   "cell_type": "code",
   "execution_count": 51,
   "metadata": {},
   "outputs": [
    {
     "name": "stdout",
     "output_type": "stream",
     "text": [
      "test accuracy with best model by accuracy: 0.8642\n"
     ]
    }
   ],
   "source": [
    "OutAcc=torch.mm(Xtest.cuda(),W)\n",
    "accFinal=Accuracy(OutAcc,Ytest)\n",
    "print('test accuracy with best model by accuracy:',accFinal)"
   ]
  },
  {
   "cell_type": "markdown",
   "metadata": {},
   "source": [
    "# Saving Matrices"
   ]
  },
  {
   "cell_type": "code",
   "execution_count": 52,
   "metadata": {},
   "outputs": [
    {
     "data": {
      "text/plain": [
       "tensor([[ 0.1857,  0.0366,  0.0180,  ..., -0.0950,  0.0389,  0.1082],\n",
       "        [ 0.0000,  0.0000,  0.0000,  ...,  0.0000,  0.0000,  0.0000],\n",
       "        [ 0.0000,  0.0000,  0.0000,  ...,  0.0000,  0.0000,  0.0000],\n",
       "        ...,\n",
       "        [ 0.0000,  0.0000,  0.0000,  ...,  0.0000,  0.0000,  0.0000],\n",
       "        [ 0.0000,  0.0000,  0.0000,  ...,  0.0000,  0.0000,  0.0000],\n",
       "        [ 0.0000,  0.0000,  0.0000,  ...,  0.0000,  0.0000,  0.0000]])"
      ]
     },
     "execution_count": 52,
     "metadata": {},
     "output_type": "execute_result"
    }
   ],
   "source": [
    "W"
   ]
  },
  {
   "cell_type": "code",
   "execution_count": 53,
   "metadata": {},
   "outputs": [],
   "source": [
    "Wnp=W.cpu().numpy()"
   ]
  },
  {
   "cell_type": "code",
   "execution_count": 54,
   "metadata": {},
   "outputs": [
    {
     "data": {
      "text/plain": [
       "array([[ 0.18566114,  0.03655808,  0.01801836, ..., -0.09501202,\n",
       "         0.03894304,  0.10821448],\n",
       "       [ 0.        ,  0.        ,  0.        , ...,  0.        ,\n",
       "         0.        ,  0.        ],\n",
       "       [ 0.        ,  0.        ,  0.        , ...,  0.        ,\n",
       "         0.        ,  0.        ],\n",
       "       ...,\n",
       "       [ 0.        ,  0.        ,  0.        , ...,  0.        ,\n",
       "         0.        ,  0.        ],\n",
       "       [ 0.        ,  0.        ,  0.        , ...,  0.        ,\n",
       "         0.        ,  0.        ],\n",
       "       [ 0.        ,  0.        ,  0.        , ...,  0.        ,\n",
       "         0.        ,  0.        ]], dtype=float32)"
      ]
     },
     "execution_count": 54,
     "metadata": {},
     "output_type": "execute_result"
    }
   ],
   "source": [
    "Wnp"
   ]
  },
  {
   "cell_type": "code",
   "execution_count": 55,
   "metadata": {},
   "outputs": [],
   "source": [
    "Wnp=np.matrix(Wnp)"
   ]
  },
  {
   "cell_type": "code",
   "execution_count": 56,
   "metadata": {},
   "outputs": [
    {
     "data": {
      "text/plain": [
       "matrix([[ 0.18566114,  0.03655808,  0.01801836, ..., -0.09501202,\n",
       "          0.03894304,  0.10821448],\n",
       "        [ 0.        ,  0.        ,  0.        , ...,  0.        ,\n",
       "          0.        ,  0.        ],\n",
       "        [ 0.        ,  0.        ,  0.        , ...,  0.        ,\n",
       "          0.        ,  0.        ],\n",
       "        ...,\n",
       "        [ 0.        ,  0.        ,  0.        , ...,  0.        ,\n",
       "          0.        ,  0.        ],\n",
       "        [ 0.        ,  0.        ,  0.        , ...,  0.        ,\n",
       "          0.        ,  0.        ],\n",
       "        [ 0.        ,  0.        ,  0.        , ...,  0.        ,\n",
       "          0.        ,  0.        ]], dtype=float32)"
      ]
     },
     "execution_count": 56,
     "metadata": {},
     "output_type": "execute_result"
    }
   ],
   "source": [
    "Wnp"
   ]
  },
  {
   "cell_type": "code",
   "execution_count": 57,
   "metadata": {},
   "outputs": [],
   "source": [
    "with open('outfile.txt','wb') as f:\n",
    "    for line in Wnp:\n",
    "        np.savetxt(f, line)"
   ]
  },
  {
   "cell_type": "code",
   "execution_count": 58,
   "metadata": {},
   "outputs": [],
   "source": [
    "#source: https://stackoverflow.com/questions/22118648/how-to-write-a-numpy-matrix-in-a-text-file-python"
   ]
  },
  {
   "cell_type": "markdown",
   "metadata": {},
   "source": [
    "# Graphs"
   ]
  },
  {
   "cell_type": "code",
   "execution_count": 59,
   "metadata": {},
   "outputs": [
    {
     "data": {
      "text/plain": [
       "array([7801.29026086, 7782.33112915, 7768.76574063, 7760.5746552 ,\n",
       "       7753.67232985, 7744.35986746, 7731.25293059, 7718.27506171,\n",
       "       7717.12357969, 7759.12163258, 7926.81208567])"
      ]
     },
     "execution_count": 59,
     "metadata": {},
     "output_type": "execute_result"
    }
   ],
   "source": [
    "#minimum squared error\n",
    "errors\n"
   ]
  },
  {
   "cell_type": "code",
   "execution_count": 60,
   "metadata": {},
   "outputs": [],
   "source": [
    "import matplotlib.pyplot as plt\n",
    "def plotData(history):\n",
    "    epochs=range(len(history))\n",
    "    plt.plot(epochs,history,label='Validation Loss')\n"
   ]
  },
  {
   "cell_type": "code",
   "execution_count": 61,
   "metadata": {},
   "outputs": [
    {
     "data": {
      "image/png": "[encoded data removed]",
      "text/plain": [
       "<Figure size 432x288 with 1 Axes>"
      ]
     },
     "metadata": {},
     "output_type": "display_data"
    }
   ],
   "source": [
    "plotData(errors)"
   ]
  },
  {
   "cell_type": "code",
   "execution_count": 62,
   "metadata": {},
   "outputs": [
    {
     "data": {
      "image/png": "[encoded data removed]",
      "text/plain": [
       "<Figure size 432x288 with 1 Axes>"
      ]
     },
     "metadata": {},
     "output_type": "display_data"
    }
   ],
   "source": [
    "plotData(allAcc)"
   ]
  },
  {
   "cell_type": "code",
   "execution_count": 78,
   "metadata": {},
   "outputs": [
    {
     "data": {
      "image/png": "[encoded data removed]",
      "text/plain": [
       "<Figure size 432x288 with 1 Axes>"
      ]
     },
     "metadata": {},
     "output_type": "display_data"
    }
   ],
   "source": [
    "plotData(errors[6:])"
   ]
  },
  {
   "cell_type": "code",
   "execution_count": 79,
   "metadata": {},
   "outputs": [
    {
     "data": {
      "image/png": "[encoded data removed]",
      "text/plain": [
       "<Figure size 432x288 with 1 Axes>"
      ]
     },
     "metadata": {},
     "output_type": "display_data"
    }
   ],
   "source": [
    "plotData(allAcc[8:])"
   ]
  },
  {
   "cell_type": "code",
   "execution_count": 63,
   "metadata": {},
   "outputs": [
    {
     "data": {
      "text/plain": [
       "torch.Size([785, 10])"
      ]
     },
     "execution_count": 63,
     "metadata": {},
     "output_type": "execute_result"
    }
   ],
   "source": [
    "W.size()"
   ]
  },
  {
   "cell_type": "code",
   "execution_count": 64,
   "metadata": {},
   "outputs": [],
   "source": [
    "neurons=[]\n",
    "for i in list(range(10)):\n",
    "    temp=torch.squeeze(W[1:,[i]])\n",
    "    temp=temp.view([28,28,1])\n",
    "    mini=torch.min(temp)\n",
    "    maxi=torch.max(temp)\n",
    "    rang=maxi-mini\n",
    "    temp=(temp-mini)/(rang)\n",
    "    temp=temp*255\n",
    "    temp=temp.type('torch.ByteTensor')\n",
    "    neurons.append(temp)"
   ]
  },
  {
   "cell_type": "code",
   "execution_count": 65,
   "metadata": {},
   "outputs": [
    {
     "data": {
      "text/plain": [
       "torch.Size([28, 28, 1])"
      ]
     },
     "execution_count": 65,
     "metadata": {},
     "output_type": "execute_result"
    }
   ],
   "source": [
    "neurons[1].size()"
   ]
  },
  {
   "cell_type": "code",
   "execution_count": 66,
   "metadata": {},
   "outputs": [
    {
     "data": {
      "text/plain": [
       "tensor([[[ 79],\n",
       "         [ 79],\n",
       "         [ 79],\n",
       "         [ 79],\n",
       "         [ 79],\n",
       "         [ 79],\n",
       "         [ 79],\n",
       "         [ 79],\n",
       "         [ 79],\n",
       "         [ 79],\n",
       "         [ 79],\n",
       "         [ 79],\n",
       "         [ 79],\n",
       "         [ 79],\n",
       "         [ 79],\n",
       "         [ 79],\n",
       "         [ 79],\n",
       "         [ 79],\n",
       "         [ 79],\n",
       "         [ 79],\n",
       "         [ 79],\n",
       "         [ 79],\n",
       "         [ 79],\n",
       "         [ 79],\n",
       "         [ 79],\n",
       "         [ 79],\n",
       "         [ 79],\n",
       "         [ 79]],\n",
       "\n",
       "        [[ 79],\n",
       "         [ 79],\n",
       "         [ 79],\n",
       "         [ 79],\n",
       "         [ 79],\n",
       "         [ 79],\n",
       "         [ 79],\n",
       "         [ 78],\n",
       "         [ 79],\n",
       "         [ 81],\n",
       "         [ 80],\n",
       "         [ 80],\n",
       "         [ 80],\n",
       "         [ 77],\n",
       "         [ 78],\n",
       "         [ 79],\n",
       "         [ 79],\n",
       "         [ 79],\n",
       "         [ 79],\n",
       "         [ 78],\n",
       "         [ 78],\n",
       "         [ 79],\n",
       "         [ 79],\n",
       "         [ 79],\n",
       "         [ 79],\n",
       "         [ 79],\n",
       "         [ 79],\n",
       "         [ 79]],\n",
       "\n",
       "        [[ 79],\n",
       "         [ 79],\n",
       "         [ 79],\n",
       "         [ 79],\n",
       "         [ 79],\n",
       "         [ 79],\n",
       "         [ 81],\n",
       "         [ 82],\n",
       "         [ 86],\n",
       "         [ 91],\n",
       "         [ 92],\n",
       "         [ 83],\n",
       "         [ 78],\n",
       "         [ 74],\n",
       "         [ 70],\n",
       "         [ 66],\n",
       "         [ 69],\n",
       "         [ 70],\n",
       "         [ 67],\n",
       "         [ 65],\n",
       "         [ 63],\n",
       "         [ 63],\n",
       "         [ 69],\n",
       "         [ 74],\n",
       "         [ 77],\n",
       "         [ 79],\n",
       "         [ 79],\n",
       "         [ 79]],\n",
       "\n",
       "        [[ 79],\n",
       "         [ 79],\n",
       "         [ 79],\n",
       "         [ 79],\n",
       "         [ 79],\n",
       "         [ 79],\n",
       "         [ 82],\n",
       "         [ 86],\n",
       "         [ 95],\n",
       "         [ 99],\n",
       "         [101],\n",
       "         [ 89],\n",
       "         [ 88],\n",
       "         [ 83],\n",
       "         [ 73],\n",
       "         [ 63],\n",
       "         [ 58],\n",
       "         [ 53],\n",
       "         [ 54],\n",
       "         [ 45],\n",
       "         [ 40],\n",
       "         [ 44],\n",
       "         [ 53],\n",
       "         [ 62],\n",
       "         [ 70],\n",
       "         [ 78],\n",
       "         [ 79],\n",
       "         [ 79]],\n",
       "\n",
       "        [[ 79],\n",
       "         [ 79],\n",
       "         [ 79],\n",
       "         [ 79],\n",
       "         [ 78],\n",
       "         [ 77],\n",
       "         [ 76],\n",
       "         [ 77],\n",
       "         [ 75],\n",
       "         [ 84],\n",
       "         [ 85],\n",
       "         [ 76],\n",
       "         [ 67],\n",
       "         [ 56],\n",
       "         [ 71],\n",
       "         [ 75],\n",
       "         [ 84],\n",
       "         [ 76],\n",
       "         [ 76],\n",
       "         [ 63],\n",
       "         [ 58],\n",
       "         [ 85],\n",
       "         [100],\n",
       "         [115],\n",
       "         [102],\n",
       "         [ 85],\n",
       "         [ 80],\n",
       "         [ 79]],\n",
       "\n",
       "        [[ 79],\n",
       "         [ 79],\n",
       "         [ 78],\n",
       "         [ 78],\n",
       "         [ 73],\n",
       "         [ 66],\n",
       "         [ 64],\n",
       "         [ 69],\n",
       "         [ 74],\n",
       "         [ 79],\n",
       "         [ 83],\n",
       "         [ 82],\n",
       "         [ 61],\n",
       "         [ 53],\n",
       "         [ 54],\n",
       "         [ 54],\n",
       "         [ 59],\n",
       "         [ 76],\n",
       "         [ 75],\n",
       "         [ 82],\n",
       "         [112],\n",
       "         [121],\n",
       "         [142],\n",
       "         [149],\n",
       "         [139],\n",
       "         [104],\n",
       "         [ 88],\n",
       "         [ 79]],\n",
       "\n",
       "        [[ 79],\n",
       "         [ 79],\n",
       "         [ 79],\n",
       "         [ 73],\n",
       "         [ 64],\n",
       "         [ 67],\n",
       "         [ 69],\n",
       "         [ 67],\n",
       "         [ 65],\n",
       "         [ 71],\n",
       "         [ 81],\n",
       "         [ 83],\n",
       "         [ 75],\n",
       "         [ 69],\n",
       "         [ 85],\n",
       "         [ 69],\n",
       "         [ 68],\n",
       "         [ 76],\n",
       "         [ 87],\n",
       "         [ 96],\n",
       "         [105],\n",
       "         [105],\n",
       "         [125],\n",
       "         [163],\n",
       "         [195],\n",
       "         [144],\n",
       "         [ 99],\n",
       "         [ 81]],\n",
       "\n",
       "        [[ 79],\n",
       "         [ 79],\n",
       "         [ 79],\n",
       "         [ 71],\n",
       "         [ 60],\n",
       "         [ 70],\n",
       "         [ 75],\n",
       "         [ 81],\n",
       "         [ 82],\n",
       "         [ 81],\n",
       "         [ 99],\n",
       "         [ 98],\n",
       "         [ 83],\n",
       "         [ 72],\n",
       "         [ 76],\n",
       "         [ 57],\n",
       "         [ 77],\n",
       "         [ 79],\n",
       "         [ 84],\n",
       "         [ 84],\n",
       "         [ 79],\n",
       "         [ 86],\n",
       "         [ 81],\n",
       "         [147],\n",
       "         [233],\n",
       "         [192],\n",
       "         [105],\n",
       "         [ 81]],\n",
       "\n",
       "        [[ 79],\n",
       "         [ 79],\n",
       "         [ 81],\n",
       "         [ 76],\n",
       "         [ 61],\n",
       "         [ 80],\n",
       "         [ 76],\n",
       "         [ 84],\n",
       "         [ 94],\n",
       "         [ 82],\n",
       "         [ 84],\n",
       "         [ 98],\n",
       "         [ 81],\n",
       "         [ 65],\n",
       "         [ 71],\n",
       "         [ 79],\n",
       "         [ 79],\n",
       "         [ 82],\n",
       "         [ 76],\n",
       "         [ 75],\n",
       "         [ 87],\n",
       "         [ 87],\n",
       "         [ 64],\n",
       "         [134],\n",
       "         [255],\n",
       "         [231],\n",
       "         [109],\n",
       "         [ 80]],\n",
       "\n",
       "        [[ 79],\n",
       "         [ 78],\n",
       "         [ 83],\n",
       "         [ 80],\n",
       "         [ 72],\n",
       "         [ 83],\n",
       "         [ 82],\n",
       "         [ 84],\n",
       "         [101],\n",
       "         [ 88],\n",
       "         [ 82],\n",
       "         [107],\n",
       "         [ 80],\n",
       "         [ 74],\n",
       "         [ 65],\n",
       "         [ 65],\n",
       "         [ 67],\n",
       "         [ 74],\n",
       "         [ 75],\n",
       "         [ 74],\n",
       "         [ 64],\n",
       "         [ 79],\n",
       "         [ 69],\n",
       "         [100],\n",
       "         [234],\n",
       "         [235],\n",
       "         [110],\n",
       "         [ 81]],\n",
       "\n",
       "        [[ 79],\n",
       "         [ 78],\n",
       "         [ 80],\n",
       "         [ 77],\n",
       "         [ 77],\n",
       "         [ 85],\n",
       "         [ 79],\n",
       "         [ 87],\n",
       "         [ 94],\n",
       "         [ 98],\n",
       "         [ 90],\n",
       "         [111],\n",
       "         [102],\n",
       "         [ 90],\n",
       "         [ 68],\n",
       "         [ 53],\n",
       "         [ 51],\n",
       "         [ 36],\n",
       "         [ 45],\n",
       "         [ 40],\n",
       "         [ 39],\n",
       "         [ 39],\n",
       "         [ 24],\n",
       "         [ 42],\n",
       "         [142],\n",
       "         [198],\n",
       "         [110],\n",
       "         [ 80]],\n",
       "\n",
       "        [[ 79],\n",
       "         [ 77],\n",
       "         [ 75],\n",
       "         [ 73],\n",
       "         [ 81],\n",
       "         [ 90],\n",
       "         [ 94],\n",
       "         [ 98],\n",
       "         [ 89],\n",
       "         [101],\n",
       "         [ 91],\n",
       "         [105],\n",
       "         [101],\n",
       "         [102],\n",
       "         [ 72],\n",
       "         [ 48],\n",
       "         [ 54],\n",
       "         [ 33],\n",
       "         [ 28],\n",
       "         [ 24],\n",
       "         [ 19],\n",
       "         [ 22],\n",
       "         [  1],\n",
       "         [  1],\n",
       "         [ 44],\n",
       "         [131],\n",
       "         [ 94],\n",
       "         [ 79]],\n",
       "\n",
       "        [[ 79],\n",
       "         [ 77],\n",
       "         [ 73],\n",
       "         [ 75],\n",
       "         [ 88],\n",
       "         [102],\n",
       "         [109],\n",
       "         [100],\n",
       "         [101],\n",
       "         [ 89],\n",
       "         [102],\n",
       "         [116],\n",
       "         [110],\n",
       "         [106],\n",
       "         [ 83],\n",
       "         [ 71],\n",
       "         [ 64],\n",
       "         [ 60],\n",
       "         [ 62],\n",
       "         [ 51],\n",
       "         [ 59],\n",
       "         [ 47],\n",
       "         [ 22],\n",
       "         [  0],\n",
       "         [ 22],\n",
       "         [ 88],\n",
       "         [ 84],\n",
       "         [ 79]],\n",
       "\n",
       "        [[ 79],\n",
       "         [ 78],\n",
       "         [ 75],\n",
       "         [ 78],\n",
       "         [ 93],\n",
       "         [110],\n",
       "         [102],\n",
       "         [ 97],\n",
       "         [ 93],\n",
       "         [ 98],\n",
       "         [101],\n",
       "         [106],\n",
       "         [104],\n",
       "         [ 85],\n",
       "         [ 79],\n",
       "         [ 71],\n",
       "         [ 68],\n",
       "         [ 62],\n",
       "         [ 80],\n",
       "         [ 84],\n",
       "         [ 73],\n",
       "         [ 59],\n",
       "         [ 51],\n",
       "         [ 39],\n",
       "         [ 66],\n",
       "         [ 82],\n",
       "         [ 79],\n",
       "         [ 78]],\n",
       "\n",
       "        [[ 79],\n",
       "         [ 78],\n",
       "         [ 77],\n",
       "         [ 79],\n",
       "         [ 86],\n",
       "         [ 83],\n",
       "         [ 71],\n",
       "         [ 69],\n",
       "         [ 72],\n",
       "         [ 84],\n",
       "         [ 92],\n",
       "         [ 84],\n",
       "         [ 97],\n",
       "         [ 74],\n",
       "         [ 70],\n",
       "         [ 84],\n",
       "         [ 74],\n",
       "         [ 48],\n",
       "         [ 74],\n",
       "         [ 68],\n",
       "         [ 67],\n",
       "         [ 58],\n",
       "         [ 59],\n",
       "         [ 64],\n",
       "         [ 89],\n",
       "         [ 80],\n",
       "         [ 77],\n",
       "         [ 79]],\n",
       "\n",
       "        [[ 79],\n",
       "         [ 79],\n",
       "         [ 78],\n",
       "         [ 79],\n",
       "         [ 78],\n",
       "         [ 50],\n",
       "         [ 47],\n",
       "         [ 54],\n",
       "         [ 73],\n",
       "         [ 73],\n",
       "         [ 77],\n",
       "         [ 75],\n",
       "         [ 85],\n",
       "         [ 65],\n",
       "         [ 58],\n",
       "         [ 76],\n",
       "         [ 66],\n",
       "         [ 61],\n",
       "         [ 84],\n",
       "         [ 73],\n",
       "         [ 63],\n",
       "         [ 64],\n",
       "         [ 76],\n",
       "         [ 78],\n",
       "         [ 91],\n",
       "         [ 77],\n",
       "         [ 75],\n",
       "         [ 78]],\n",
       "\n",
       "        [[ 79],\n",
       "         [ 79],\n",
       "         [ 78],\n",
       "         [ 84],\n",
       "         [ 84],\n",
       "         [ 50],\n",
       "         [ 50],\n",
       "         [ 54],\n",
       "         [ 66],\n",
       "         [ 73],\n",
       "         [ 62],\n",
       "         [ 66],\n",
       "         [ 84],\n",
       "         [ 84],\n",
       "         [ 76],\n",
       "         [ 80],\n",
       "         [ 61],\n",
       "         [ 73],\n",
       "         [ 83],\n",
       "         [ 80],\n",
       "         [ 71],\n",
       "         [ 70],\n",
       "         [ 87],\n",
       "         [ 85],\n",
       "         [ 88],\n",
       "         [ 68],\n",
       "         [ 74],\n",
       "         [ 78]],\n",
       "\n",
       "        [[ 79],\n",
       "         [ 79],\n",
       "         [ 76],\n",
       "         [ 86],\n",
       "         [ 99],\n",
       "         [ 65],\n",
       "         [ 88],\n",
       "         [ 67],\n",
       "         [ 66],\n",
       "         [ 68],\n",
       "         [ 57],\n",
       "         [ 55],\n",
       "         [ 62],\n",
       "         [ 74],\n",
       "         [ 67],\n",
       "         [ 72],\n",
       "         [ 88],\n",
       "         [ 91],\n",
       "         [ 91],\n",
       "         [ 83],\n",
       "         [ 85],\n",
       "         [ 86],\n",
       "         [ 75],\n",
       "         [ 85],\n",
       "         [ 86],\n",
       "         [ 64],\n",
       "         [ 75],\n",
       "         [ 79]],\n",
       "\n",
       "        [[ 79],\n",
       "         [ 79],\n",
       "         [ 75],\n",
       "         [ 84],\n",
       "         [105],\n",
       "         [ 79],\n",
       "         [117],\n",
       "         [ 78],\n",
       "         [ 65],\n",
       "         [ 68],\n",
       "         [ 45],\n",
       "         [ 36],\n",
       "         [ 65],\n",
       "         [ 74],\n",
       "         [ 87],\n",
       "         [ 81],\n",
       "         [ 94],\n",
       "         [ 95],\n",
       "         [ 84],\n",
       "         [ 76],\n",
       "         [ 89],\n",
       "         [ 86],\n",
       "         [ 83],\n",
       "         [ 84],\n",
       "         [ 84],\n",
       "         [ 66],\n",
       "         [ 76],\n",
       "         [ 78]],\n",
       "\n",
       "        [[ 79],\n",
       "         [ 79],\n",
       "         [ 76],\n",
       "         [ 83],\n",
       "         [ 95],\n",
       "         [ 86],\n",
       "         [124],\n",
       "         [ 96],\n",
       "         [ 91],\n",
       "         [ 78],\n",
       "         [ 75],\n",
       "         [ 73],\n",
       "         [ 79],\n",
       "         [ 84],\n",
       "         [ 83],\n",
       "         [ 89],\n",
       "         [ 80],\n",
       "         [ 77],\n",
       "         [ 80],\n",
       "         [ 80],\n",
       "         [ 93],\n",
       "         [ 86],\n",
       "         [ 84],\n",
       "         [ 90],\n",
       "         [ 80],\n",
       "         [ 67],\n",
       "         [ 76],\n",
       "         [ 79]],\n",
       "\n",
       "        [[ 79],\n",
       "         [ 79],\n",
       "         [ 76],\n",
       "         [ 80],\n",
       "         [ 85],\n",
       "         [ 82],\n",
       "         [109],\n",
       "         [ 99],\n",
       "         [106],\n",
       "         [107],\n",
       "         [103],\n",
       "         [101],\n",
       "         [ 78],\n",
       "         [ 79],\n",
       "         [ 61],\n",
       "         [ 72],\n",
       "         [ 77],\n",
       "         [ 88],\n",
       "         [ 86],\n",
       "         [ 90],\n",
       "         [ 84],\n",
       "         [ 79],\n",
       "         [ 96],\n",
       "         [ 93],\n",
       "         [ 75],\n",
       "         [ 72],\n",
       "         [ 78],\n",
       "         [ 79]],\n",
       "\n",
       "        [[ 79],\n",
       "         [ 79],\n",
       "         [ 76],\n",
       "         [ 79],\n",
       "         [ 84],\n",
       "         [ 72],\n",
       "         [ 81],\n",
       "         [ 96],\n",
       "         [103],\n",
       "         [ 99],\n",
       "         [ 88],\n",
       "         [ 90],\n",
       "         [ 78],\n",
       "         [ 70],\n",
       "         [ 70],\n",
       "         [ 65],\n",
       "         [ 75],\n",
       "         [ 87],\n",
       "         [ 79],\n",
       "         [ 81],\n",
       "         [ 88],\n",
       "         [105],\n",
       "         [100],\n",
       "         [ 89],\n",
       "         [ 75],\n",
       "         [ 74],\n",
       "         [ 79],\n",
       "         [ 79]],\n",
       "\n",
       "        [[ 79],\n",
       "         [ 79],\n",
       "         [ 76],\n",
       "         [ 74],\n",
       "         [ 85],\n",
       "         [ 78],\n",
       "         [ 58],\n",
       "         [ 65],\n",
       "         [ 81],\n",
       "         [ 96],\n",
       "         [ 89],\n",
       "         [ 93],\n",
       "         [ 86],\n",
       "         [ 84],\n",
       "         [ 76],\n",
       "         [ 84],\n",
       "         [ 95],\n",
       "         [ 86],\n",
       "         [105],\n",
       "         [ 99],\n",
       "         [105],\n",
       "         [ 97],\n",
       "         [ 93],\n",
       "         [ 84],\n",
       "         [ 79],\n",
       "         [ 78],\n",
       "         [ 79],\n",
       "         [ 79]],\n",
       "\n",
       "        [[ 79],\n",
       "         [ 79],\n",
       "         [ 78],\n",
       "         [ 77],\n",
       "         [ 85],\n",
       "         [ 90],\n",
       "         [ 74],\n",
       "         [ 65],\n",
       "         [ 78],\n",
       "         [ 75],\n",
       "         [ 81],\n",
       "         [ 86],\n",
       "         [ 83],\n",
       "         [ 89],\n",
       "         [ 98],\n",
       "         [ 77],\n",
       "         [ 80],\n",
       "         [ 74],\n",
       "         [ 72],\n",
       "         [ 84],\n",
       "         [ 93],\n",
       "         [ 84],\n",
       "         [ 82],\n",
       "         [ 84],\n",
       "         [ 80],\n",
       "         [ 80],\n",
       "         [ 79],\n",
       "         [ 79]],\n",
       "\n",
       "        [[ 79],\n",
       "         [ 79],\n",
       "         [ 78],\n",
       "         [ 80],\n",
       "         [ 82],\n",
       "         [ 83],\n",
       "         [ 83],\n",
       "         [ 89],\n",
       "         [ 82],\n",
       "         [ 95],\n",
       "         [ 79],\n",
       "         [ 80],\n",
       "         [ 87],\n",
       "         [ 85],\n",
       "         [ 83],\n",
       "         [ 73],\n",
       "         [ 63],\n",
       "         [ 67],\n",
       "         [ 72],\n",
       "         [ 70],\n",
       "         [ 72],\n",
       "         [ 75],\n",
       "         [ 81],\n",
       "         [ 81],\n",
       "         [ 80],\n",
       "         [ 78],\n",
       "         [ 79],\n",
       "         [ 79]],\n",
       "\n",
       "        [[ 79],\n",
       "         [ 79],\n",
       "         [ 79],\n",
       "         [ 80],\n",
       "         [ 82],\n",
       "         [ 81],\n",
       "         [ 80],\n",
       "         [ 85],\n",
       "         [ 82],\n",
       "         [ 87],\n",
       "         [ 88],\n",
       "         [ 93],\n",
       "         [ 90],\n",
       "         [ 87],\n",
       "         [ 75],\n",
       "         [ 76],\n",
       "         [ 76],\n",
       "         [ 73],\n",
       "         [ 69],\n",
       "         [ 69],\n",
       "         [ 69],\n",
       "         [ 77],\n",
       "         [ 81],\n",
       "         [ 82],\n",
       "         [ 81],\n",
       "         [ 79],\n",
       "         [ 79],\n",
       "         [ 79]],\n",
       "\n",
       "        [[ 79],\n",
       "         [ 79],\n",
       "         [ 79],\n",
       "         [ 79],\n",
       "         [ 79],\n",
       "         [ 81],\n",
       "         [ 79],\n",
       "         [ 79],\n",
       "         [ 76],\n",
       "         [ 75],\n",
       "         [ 75],\n",
       "         [ 74],\n",
       "         [ 69],\n",
       "         [ 67],\n",
       "         [ 68],\n",
       "         [ 72],\n",
       "         [ 69],\n",
       "         [ 65],\n",
       "         [ 65],\n",
       "         [ 72],\n",
       "         [ 76],\n",
       "         [ 77],\n",
       "         [ 78],\n",
       "         [ 79],\n",
       "         [ 79],\n",
       "         [ 79],\n",
       "         [ 79],\n",
       "         [ 79]],\n",
       "\n",
       "        [[ 79],\n",
       "         [ 79],\n",
       "         [ 79],\n",
       "         [ 79],\n",
       "         [ 79],\n",
       "         [ 80],\n",
       "         [ 80],\n",
       "         [ 80],\n",
       "         [ 81],\n",
       "         [ 82],\n",
       "         [ 82],\n",
       "         [ 82],\n",
       "         [ 80],\n",
       "         [ 76],\n",
       "         [ 75],\n",
       "         [ 73],\n",
       "         [ 74],\n",
       "         [ 74],\n",
       "         [ 75],\n",
       "         [ 77],\n",
       "         [ 78],\n",
       "         [ 78],\n",
       "         [ 78],\n",
       "         [ 79],\n",
       "         [ 79],\n",
       "         [ 79],\n",
       "         [ 79],\n",
       "         [ 79]]], device='cpu', dtype=torch.uint8)"
      ]
     },
     "execution_count": 66,
     "metadata": {},
     "output_type": "execute_result"
    }
   ],
   "source": [
    "test=neurons[4]\n",
    "test"
   ]
  },
  {
   "cell_type": "code",
   "execution_count": 67,
   "metadata": {},
   "outputs": [],
   "source": [
    "#import torchvision.transforms as T\n",
    "import torchvision as tv\n",
    "to_pil = tv.transforms.ToPILImage()\n",
    "def showImg(x):\n",
    "    temp=x\n",
    "    temp=temp.cpu().numpy()\n",
    "    temp = to_pil(temp)\n",
    "    plt.imshow(temp)"
   ]
  },
  {
   "cell_type": "code",
   "execution_count": 68,
   "metadata": {},
   "outputs": [
    {
     "data": {
      "image/png": "[encoded data removed]",
      "text/plain": [
       "<Figure size 432x288 with 1 Axes>"
      ]
     },
     "metadata": {},
     "output_type": "display_data"
    }
   ],
   "source": [
    "showImg(neurons[0])"
   ]
  },
  {
   "cell_type": "code",
   "execution_count": 69,
   "metadata": {},
   "outputs": [
    {
     "data": {
      "image/png": "[encoded data removed]",
      "text/plain": [
       "<Figure size 432x288 with 1 Axes>"
      ]
     },
     "metadata": {},
     "output_type": "display_data"
    }
   ],
   "source": [
    "showImg(neurons[1])"
   ]
  },
  {
   "cell_type": "code",
   "execution_count": 70,
   "metadata": {},
   "outputs": [
    {
     "data": {
      "image/png": "[encoded data removed]",
      "text/plain": [
       "<Figure size 432x288 with 1 Axes>"
      ]
     },
     "metadata": {},
     "output_type": "display_data"
    }
   ],
   "source": [
    "showImg(neurons[2])"
   ]
  },
  {
   "cell_type": "code",
   "execution_count": 71,
   "metadata": {},
   "outputs": [
    {
     "data": {
      "image/png": "[encoded data removed]",
      "text/plain": [
       "<Figure size 432x288 with 1 Axes>"
      ]
     },
     "metadata": {},
     "output_type": "display_data"
    }
   ],
   "source": [
    "showImg(neurons[3])"
   ]
  },
  {
   "cell_type": "code",
   "execution_count": 72,
   "metadata": {},
   "outputs": [
    {
     "data": {
      "image/png": "[encoded data removed]",
      "text/plain": [
       "<Figure size 432x288 with 1 Axes>"
      ]
     },
     "metadata": {},
     "output_type": "display_data"
    }
   ],
   "source": [
    "showImg(neurons[4])"
   ]
  },
  {
   "cell_type": "code",
   "execution_count": 73,
   "metadata": {},
   "outputs": [
    {
     "data": {
      "image/png": "[encoded data removed]",
      "text/plain": [
       "<Figure size 432x288 with 1 Axes>"
      ]
     },
     "metadata": {},
     "output_type": "display_data"
    }
   ],
   "source": [
    "showImg(neurons[5])"
   ]
  },
  {
   "cell_type": "code",
   "execution_count": 74,
   "metadata": {},
   "outputs": [
    {
     "data": {
      "image/png": "[encoded data removed]",
      "text/plain": [
       "<Figure size 432x288 with 1 Axes>"
      ]
     },
     "metadata": {},
     "output_type": "display_data"
    }
   ],
   "source": [
    "showImg(neurons[6])"
   ]
  },
  {
   "cell_type": "code",
   "execution_count": 75,
   "metadata": {},
   "outputs": [
    {
     "data": {
      "image/png": "[encoded data removed]",
      "text/plain": [
       "<Figure size 432x288 with 1 Axes>"
      ]
     },
     "metadata": {},
     "output_type": "display_data"
    }
   ],
   "source": [
    "showImg(neurons[7])"
   ]
  },
  {
   "cell_type": "code",
   "execution_count": 76,
   "metadata": {},
   "outputs": [
    {
     "data": {
      "image/png": "[encoded data removed]",
      "text/plain": [
       "<Figure size 432x288 with 1 Axes>"
      ]
     },
     "metadata": {},
     "output_type": "display_data"
    }
   ],
   "source": [
    "showImg(neurons[8])"
   ]
  },
  {
   "cell_type": "code",
   "execution_count": 77,
   "metadata": {},
   "outputs": [
    {
     "data": {
      "image/png": "[encoded data removed]",
      "text/plain": [
       "<Figure size 432x288 with 1 Axes>"
      ]
     },
     "metadata": {},
     "output_type": "display_data"
    }
   ],
   "source": [
    "showImg(neurons[9])"
   ]
  },
  {
   "cell_type": "code",
   "execution_count": null,
   "metadata": {},
   "outputs": [],
   "source": []
  }
 ],
 "metadata": {
  "kernelspec": {
   "display_name": "Python [conda env:NeuraisTorch]",
   "language": "python",
   "name": "conda-env-NeuraisTorch-py"
  },
  "language_info": {
   "codemirror_mode": {
    "name": "ipython",
    "version": 3
   },
   "file_extension": ".py",
   "mimetype": "text/x-python",
   "name": "python",
   "nbconvert_exporter": "python",
   "pygments_lexer": "ipython3",
   "version": "3.5.5"
  }
 },
 "nbformat": 4,
 "nbformat_minor": 2
}
